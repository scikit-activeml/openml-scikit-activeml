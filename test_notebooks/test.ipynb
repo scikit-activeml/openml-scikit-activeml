{
 "cells": [
  {
   "cell_type": "code",
   "execution_count": 1,
   "metadata": {},
   "outputs": [],
   "source": [
    "# import sys\n",
    "# sys.path.extend([\n",
    "#     '../../openml-python-OpenMLActiveClassificationTask/',\n",
    "#     '../../openml-scikit-activeml/'\n",
    "# ])\n",
    "# %load_ext autoreload\n",
    "# %autoreload 2"
   ]
  },
  {
   "cell_type": "code",
   "execution_count": 2,
   "metadata": {
    "ExecuteTime": {
     "end_time": "2023-05-11T16:02:55.725548667Z",
     "start_time": "2023-05-11T16:02:55.680444864Z"
    }
   },
   "outputs": [],
   "source": [
    "import sys\n",
    "sys.path.extend([\n",
    "    'openml-python-OpenMLActiveClassificationTask/',\n",
    "    'openml-scikit-activeml/'\n",
    "])\n",
    "%load_ext autoreload\n",
    "%autoreload 2"
   ]
  },
  {
   "cell_type": "code",
   "execution_count": 3,
   "metadata": {
    "ExecuteTime": {
     "end_time": "2023-05-11T16:02:57.235008099Z",
     "start_time": "2023-05-11T16:02:55.702005390Z"
    }
   },
   "outputs": [
    {
     "name": "stderr",
     "output_type": "stream",
     "text": [
      "c:\\Users\\tpham\\Desktop\\Arbeit\\openml-skactiveml\\openml-python-OpenMLActiveClassificationTask\\openml\\config.py:184: UserWarning: Switching to the test server https://test.openml.org/api/v1/xml to not upload results to the live server. Using the test server may result in reduced performance of the API!\n",
      "  warnings.warn(\n"
     ]
    }
   ],
   "source": [
    "import numpy as np\n",
    "from sklearn import ensemble\n",
    "from openml.tasks import OpenMLActiveClassificationTask, TaskType\n",
    "from openml import tasks, runs\n",
    "from skactiveml.classifier import ParzenWindowClassifier\n",
    "from skactiveml.pool import UncertaintySampling, RandomSampling, ProbabilisticAL\n",
    "import openml\n",
    "import openml_skactiveml\n",
    "from openml_skactiveml import PoolSkactivemlModel\n",
    "openml.config.start_using_configuration_for_example()"
   ]
  },
  {
   "cell_type": "code",
   "execution_count": 4,
   "metadata": {
    "ExecuteTime": {
     "end_time": "2023-05-11T16:02:57.389021175Z",
     "start_time": "2023-05-11T16:02:57.224734745Z"
    }
   },
   "outputs": [],
   "source": [
    "task_id = 1328\n",
    "# task_id = 6175\n",
    "task = tasks.get_task(task_id, download_data=True)"
   ]
  },
  {
   "cell_type": "code",
   "execution_count": 5,
   "metadata": {
    "ExecuteTime": {
     "end_time": "2023-05-11T16:02:57.467091846Z",
     "start_time": "2023-05-11T16:02:57.264206680Z"
    }
   },
   "outputs": [
    {
     "data": {
      "text/plain": [
       "OpenML Active Classification Task\n",
       "=================================\n",
       "Task Type Description: https://test.openml.org/tt/TaskType.ACTIVE_CLASSIFICATION\n",
       "Task ID..............: 1328\n",
       "Task URL.............: https://test.openml.org/t/1328\n",
       "Estimation Procedure.: crossvalidation\n",
       "Evaluation Measure...: predictive_accuracy\n",
       "Target Feature.......: class\n",
       "# of Classes.........: 3\n",
       "Cost Matrix..........: Available"
      ]
     },
     "execution_count": 5,
     "metadata": {},
     "output_type": "execute_result"
    }
   ],
   "source": [
    "task"
   ]
  },
  {
   "cell_type": "code",
   "execution_count": 6,
   "metadata": {
    "ExecuteTime": {
     "end_time": "2023-05-11T16:02:57.531107380Z",
     "start_time": "2023-05-11T16:02:57.313092207Z"
    }
   },
   "outputs": [],
   "source": [
    "# # # # Example on how an AL task can be created from an existing classification task\n",
    "\n",
    "# task_id = 1196\n",
    "# task = tasks.get_task(task_id)\n",
    "\n",
    "# my_task = openml.tasks.create_task(\n",
    "#     task_type=TaskType.SUPERVISED_CLASSIFICATION,\n",
    "#     dataset_id=128,\n",
    "#     target_name=\"class\",\n",
    "#     evaluation_measure=\"predictive_accuracy\",\n",
    "#     estimation_procedure_id=1,\n",
    "# )\n",
    "\n",
    "# task = OpenMLActiveClassificationTask(\n",
    "#         task_type_id=TaskType.ACTIVE_CLASSIFICATION,\n",
    "#         task_type=\"ACTIVE_CLASSIFICATION\",\n",
    "#         data_set_id=task.dataset_id,\n",
    "#         target_name=task.target_name,\n",
    "#         class_labels=task.class_labels,\n",
    "#         evaluation_measure=\"predictive_accuracy\",\n",
    "#         estimation_procedure_id=30,\n",
    "#         # annotation_costs=np.arange(150, dtype=float)*0+1, # hard-coded annotation cost for now\n",
    "#         batch_size=1,\n",
    "#     )\n",
    "\n",
    "# task.publish()"
   ]
  },
  {
   "cell_type": "code",
   "execution_count": 7,
   "metadata": {},
   "outputs": [
    {
     "name": "stdout",
     "output_type": "stream",
     "text": [
      "openml==0.13.1.dev,skactiveml==0.4.0,\n",
      "numpy>=1.17.3\n",
      "scipy>=1.3.2\n",
      "joblib>=1.1.1\n",
      "threadpoolctl>=2.0.0\n",
      "openml==0.13.1.dev,skactiveml==0.4.0,\n",
      "numpy>=1.17.3\n",
      "scipy>=1.3.2\n",
      "joblib>=1.1.1\n",
      "threadpoolctl>=2.0.0\n",
      ",openml==0.13.1.dev,openml_skactiveml==0.0.1,skactiveml==0.4.0,\n",
      "numpy>=1.17.3\n",
      "scipy>=1.3.2\n",
      "joblib>=1.1.1\n",
      "threadpoolctl>=2.0.0\n"
     ]
    }
   ],
   "source": [
    "from sklearn.ensemble import VotingClassifier\n",
    "from skactiveml.classifier import SklearnClassifier\n",
    "\n",
    "model = PoolSkactivemlModel(\n",
    "    query_strategy=RandomSampling(missing_label=None),\n",
    "    prediction_model=ParzenWindowClassifier(missing_label=None, classes=task.class_labels),\n",
    "    # selection_model=ParzenWindowClassifier(missing_label=None, classes=task.class_labels),\n",
    "    # selection_model_name='clf',\n",
    "    # extra_query_params={\n",
    "    # },\n",
    "    budget=100000,\n",
    ")\n",
    "\n",
    "run = runs.run_model_on_task(model, task, upload_flow=False, avoid_duplicate_runs=False, n_jobs=-1, seed=0)"
   ]
  },
  {
   "cell_type": "code",
   "execution_count": 8,
   "metadata": {},
   "outputs": [
    {
     "data": {
      "text/plain": [
       "OpenML Run\n",
       "==========\n",
       "Uploader Name: None\n",
       "Metric.......: None\n",
       "Run ID.......: None\n",
       "Task ID......: 1328\n",
       "Task Type....: None\n",
       "Task URL.....: https://test.openml.org/t/1328\n",
       "Flow ID......: None\n",
       "Flow Name....: openml_skactiveml.extension.PoolSkactivemlModel(prediction_model=skactiveml.classifier._parzen_window_classifier.ParzenWindowClassifier,query_strategy=skactiveml.pool._random_sampling.RandomSampling)\n",
       "Flow URL.....: https://test.openml.org/f/None\n",
       "Setup ID.....: None\n",
       "Setup String.: Python_3.9.16. Sklearn_1.2.2. NumPy_1.24.3. SciPy_1.9.3.\n",
       "Dataset ID...: 128\n",
       "Dataset URL..: https://test.openml.org/d/128"
      ]
     },
     "execution_count": 8,
     "metadata": {},
     "output_type": "execute_result"
    }
   ],
   "source": [
    "run"
   ]
  },
  {
   "cell_type": "code",
   "execution_count": 9,
   "metadata": {
    "ExecuteTime": {
     "end_time": "2023-05-11T14:33:05.894490189Z",
     "start_time": "2023-05-11T14:33:04.396150159Z"
    }
   },
   "outputs": [
    {
     "name": "stdout",
     "output_type": "stream",
     "text": [
      "openml==0.13.1.dev,skactiveml==0.4.0,\n",
      "numpy>=1.17.3\n",
      "scipy>=1.3.2\n",
      "joblib>=1.1.1\n",
      "threadpoolctl>=2.0.0\n",
      "openml==0.13.1.dev,skactiveml==0.4.0,\n",
      "numpy>=1.17.3\n",
      "scipy>=1.3.2\n",
      "joblib>=1.1.1\n",
      "threadpoolctl>=2.0.0\n"
     ]
    },
    {
     "data": {
      "text/plain": [
       "OpenML Run\n",
       "==========\n",
       "Uploader Name: None\n",
       "Metric.......: None\n",
       "Run ID.......: 507\n",
       "Run URL......: https://test.openml.org/r/507\n",
       "Task ID......: 1328\n",
       "Task Type....: None\n",
       "Task URL.....: https://test.openml.org/t/1328\n",
       "Flow ID......: 1399\n",
       "Flow Name....: openml_skactiveml.extension.PoolSkactivemlModel(prediction_model=skactiveml.classifier._parzen_window_classifier.ParzenWindowClassifier,query_strategy=skactiveml.pool._random_sampling.RandomSampling)\n",
       "Flow URL.....: https://test.openml.org/f/1399\n",
       "Setup ID.....: None\n",
       "Setup String.: Python_3.9.16. Sklearn_1.2.2. NumPy_1.24.3. SciPy_1.9.3.\n",
       "Dataset ID...: 128\n",
       "Dataset URL..: https://test.openml.org/d/128"
      ]
     },
     "execution_count": 9,
     "metadata": {},
     "output_type": "execute_result"
    }
   ],
   "source": [
    "run.publish()"
   ]
  },
  {
   "cell_type": "code",
   "execution_count": null,
   "metadata": {},
   "outputs": [],
   "source": []
  },
  {
   "cell_type": "code",
   "execution_count": null,
   "metadata": {},
   "outputs": [],
   "source": []
  },
  {
   "cell_type": "code",
   "execution_count": null,
   "metadata": {},
   "outputs": [],
   "source": []
  },
  {
   "cell_type": "code",
   "execution_count": null,
   "metadata": {},
   "outputs": [],
   "source": []
  },
  {
   "cell_type": "code",
   "execution_count": 10,
   "metadata": {
    "collapsed": false
   },
   "outputs": [],
   "source": [
    "# from sklearn.ensemble import VotingClassifier\n",
    "# from skactiveml.classifier import SklearnClassifier\n",
    "\n",
    "# model = {\n",
    "#     'query_strategy':UncertaintySampling(missing_label=None),\n",
    "#     'prediction_model':ParzenWindowClassifier(missing_label=None, classes=task.class_labels),\n",
    "#     'query_params':{\n",
    "#         \"clf\": ParzenWindowClassifier(missing_label=None, classes=task.class_labels)\n",
    "#     },\n",
    "#     'budget': 100000,\n",
    "# }\n",
    "\n",
    "# # TODO: Dictionary with Baseestimators do not work\n",
    "# model = PoolSkactivemlModel(\n",
    "#     query_strategy=ProbabilisticAL(missing_label=None),\n",
    "#     prediction_model=ParzenWindowClassifier(missing_label=None, classes=task.class_labels),\n",
    "#     query_params={\n",
    "#         \"clf\": ParzenWindowClassifier(missing_label=None, classes=task.class_labels)\n",
    "#     },\n",
    "#     # query_params = {},\n",
    "#     budget=100000,\n",
    "# )\n",
    "\n",
    "# model = PoolSkactivemlModel(\n",
    "#     query_strategy=RandomSampling(missing_label=None),\n",
    "#     prediction_model=SklearnClassifier(VotingClassifier(estimators=[ParzenWindowClassifier(missing_label=None, classes=task.class_labels), ParzenWindowClassifier(missing_label=None, classes=task.class_labels), ParzenWindowClassifier(missing_label=None, classes=task.class_labels)])),\n",
    "#     query_params={\n",
    "#     },\n",
    "#     # query_params = {},\n",
    "#     budget=100000,\n",
    "# )\n",
    "\n",
    "# model = PoolSkactivemlModel(\n",
    "#     query_strategy=UncertaintySampling(missing_label=None),\n",
    "#     prediction_model=ParzenWindowClassifier(missing_label=None, classes=task.class_labels),\n",
    "#     selection_model=ParzenWindowClassifier(missing_label=None, classes=task.class_labels),\n",
    "#     selection_model_name='clf',\n",
    "#     extra_query_params={\n",
    "#     },\n",
    "#     budget=100000,\n",
    "# )\n",
    "\n",
    "# model = PoolSkactivemlModel(\n",
    "#     query_strategy=RandomSampling(missing_label=None),\n",
    "#     prediction_model=ParzenWindowClassifier(missing_label=None, classes=task.class_labels),\n",
    "#     # selection_model=ParzenWindowClassifier(missing_label=None, classes=task.class_labels),\n",
    "#     # selection_model_name='clf',\n",
    "#     # extra_query_params={\n",
    "#     # },\n",
    "#     budget=100000,\n",
    "# )\n",
    "\n",
    "# model = PoolSkactivemlModel(\n",
    "#     query_strategy=RandomSampling(missing_label=None),\n",
    "#     prediction_model=ParzenWindowClassifier(missing_label=None, classes=task.class_labels),\n",
    "#     selection_model=ParzenWindowClassifier(missing_label=None, classes=None),\n",
    "#     selection_model_name='clf',\n",
    "#     extra_query_params={\n",
    "#     },\n",
    "#     budget=100000,\n",
    "# )\n",
    "\n",
    "# TODO: Dictionary with Baseestimators do not work\n",
    "# model = PoolSkactivemlModel(\n",
    "#     query_strategy=RandomSampling(missing_label=None),\n",
    "#     prediction_model=ParzenWindowClassifier(missing_label=None, classes=task.class_labels),\n",
    "#     query_params={\n",
    "#         # \"clf\": None# ParzenWindowClassifier(missing_label=None, classes=task.class_labels)\n",
    "#     },\n",
    "#     # query_params = {},\n",
    "#     budget=100000,\n",
    "# )\n",
    "# Automatically evaluate your model on the task\n",
    "# run = runs.run_model_on_task(model, task, upload_flow=False, avoid_duplicate_runs=False, n_jobs=-1, seed=0)"
   ]
  },
  {
   "cell_type": "code",
   "execution_count": 11,
   "metadata": {},
   "outputs": [
    {
     "data": {
      "text/html": [
       "<div>\n",
       "<style scoped>\n",
       "    .dataframe tbody tr th:only-of-type {\n",
       "        vertical-align: middle;\n",
       "    }\n",
       "\n",
       "    .dataframe tbody tr th {\n",
       "        vertical-align: top;\n",
       "    }\n",
       "\n",
       "    .dataframe thead th {\n",
       "        text-align: right;\n",
       "    }\n",
       "</style>\n",
       "<table border=\"1\" class=\"dataframe\">\n",
       "  <thead>\n",
       "    <tr style=\"text-align: right;\">\n",
       "      <th></th>\n",
       "      <th>repeat</th>\n",
       "      <th>fold</th>\n",
       "      <th>cycle</th>\n",
       "      <th>budget</th>\n",
       "      <th>row_id</th>\n",
       "      <th>confidence.Iris-setosa</th>\n",
       "      <th>confidence.Iris-versicolor</th>\n",
       "      <th>confidence.Iris-virginica</th>\n",
       "      <th>prediction</th>\n",
       "      <th>correct</th>\n",
       "    </tr>\n",
       "  </thead>\n",
       "  <tbody>\n",
       "    <tr>\n",
       "      <th>0</th>\n",
       "      <td>0.0</td>\n",
       "      <td>0.0</td>\n",
       "      <td>0.0</td>\n",
       "      <td>1.0</td>\n",
       "      <td>43.0</td>\n",
       "      <td>1.000000</td>\n",
       "      <td>0.000000</td>\n",
       "      <td>0.000000</td>\n",
       "      <td>b'Iris-setosa'</td>\n",
       "      <td>b'Iris-setosa'</td>\n",
       "    </tr>\n",
       "    <tr>\n",
       "      <th>1</th>\n",
       "      <td>0.0</td>\n",
       "      <td>0.0</td>\n",
       "      <td>0.0</td>\n",
       "      <td>1.0</td>\n",
       "      <td>14.0</td>\n",
       "      <td>1.000000</td>\n",
       "      <td>0.000000</td>\n",
       "      <td>0.000000</td>\n",
       "      <td>b'Iris-setosa'</td>\n",
       "      <td>b'Iris-setosa'</td>\n",
       "    </tr>\n",
       "    <tr>\n",
       "      <th>2</th>\n",
       "      <td>0.0</td>\n",
       "      <td>0.0</td>\n",
       "      <td>0.0</td>\n",
       "      <td>1.0</td>\n",
       "      <td>37.0</td>\n",
       "      <td>1.000000</td>\n",
       "      <td>0.000000</td>\n",
       "      <td>0.000000</td>\n",
       "      <td>b'Iris-setosa'</td>\n",
       "      <td>b'Iris-setosa'</td>\n",
       "    </tr>\n",
       "    <tr>\n",
       "      <th>3</th>\n",
       "      <td>0.0</td>\n",
       "      <td>0.0</td>\n",
       "      <td>0.0</td>\n",
       "      <td>1.0</td>\n",
       "      <td>23.0</td>\n",
       "      <td>1.000000</td>\n",
       "      <td>0.000000</td>\n",
       "      <td>0.000000</td>\n",
       "      <td>b'Iris-setosa'</td>\n",
       "      <td>b'Iris-setosa'</td>\n",
       "    </tr>\n",
       "    <tr>\n",
       "      <th>4</th>\n",
       "      <td>0.0</td>\n",
       "      <td>0.0</td>\n",
       "      <td>0.0</td>\n",
       "      <td>1.0</td>\n",
       "      <td>10.0</td>\n",
       "      <td>1.000000</td>\n",
       "      <td>0.000000</td>\n",
       "      <td>0.000000</td>\n",
       "      <td>b'Iris-setosa'</td>\n",
       "      <td>b'Iris-setosa'</td>\n",
       "    </tr>\n",
       "    <tr>\n",
       "      <th>...</th>\n",
       "      <td>...</td>\n",
       "      <td>...</td>\n",
       "      <td>...</td>\n",
       "      <td>...</td>\n",
       "      <td>...</td>\n",
       "      <td>...</td>\n",
       "      <td>...</td>\n",
       "      <td>...</td>\n",
       "      <td>...</td>\n",
       "      <td>...</td>\n",
       "    </tr>\n",
       "    <tr>\n",
       "      <th>20095</th>\n",
       "      <td>0.0</td>\n",
       "      <td>9.0</td>\n",
       "      <td>133.0</td>\n",
       "      <td>134.0</td>\n",
       "      <td>142.0</td>\n",
       "      <td>0.009959</td>\n",
       "      <td>0.498706</td>\n",
       "      <td>0.491335</td>\n",
       "      <td>b'Iris-virginica'</td>\n",
       "      <td>b'Iris-versicolor'</td>\n",
       "    </tr>\n",
       "    <tr>\n",
       "      <th>20096</th>\n",
       "      <td>0.0</td>\n",
       "      <td>9.0</td>\n",
       "      <td>133.0</td>\n",
       "      <td>134.0</td>\n",
       "      <td>123.0</td>\n",
       "      <td>0.011183</td>\n",
       "      <td>0.507453</td>\n",
       "      <td>0.481364</td>\n",
       "      <td>b'Iris-virginica'</td>\n",
       "      <td>b'Iris-versicolor'</td>\n",
       "    </tr>\n",
       "    <tr>\n",
       "      <th>20097</th>\n",
       "      <td>0.0</td>\n",
       "      <td>9.0</td>\n",
       "      <td>133.0</td>\n",
       "      <td>134.0</td>\n",
       "      <td>131.0</td>\n",
       "      <td>0.000277</td>\n",
       "      <td>0.208998</td>\n",
       "      <td>0.790726</td>\n",
       "      <td>b'Iris-virginica'</td>\n",
       "      <td>b'Iris-virginica'</td>\n",
       "    </tr>\n",
       "    <tr>\n",
       "      <th>20098</th>\n",
       "      <td>0.0</td>\n",
       "      <td>9.0</td>\n",
       "      <td>133.0</td>\n",
       "      <td>134.0</td>\n",
       "      <td>147.0</td>\n",
       "      <td>0.005609</td>\n",
       "      <td>0.438550</td>\n",
       "      <td>0.555841</td>\n",
       "      <td>b'Iris-virginica'</td>\n",
       "      <td>b'Iris-virginica'</td>\n",
       "    </tr>\n",
       "    <tr>\n",
       "      <th>20099</th>\n",
       "      <td>0.0</td>\n",
       "      <td>9.0</td>\n",
       "      <td>133.0</td>\n",
       "      <td>134.0</td>\n",
       "      <td>146.0</td>\n",
       "      <td>0.008332</td>\n",
       "      <td>0.491455</td>\n",
       "      <td>0.500213</td>\n",
       "      <td>b'Iris-virginica'</td>\n",
       "      <td>b'Iris-virginica'</td>\n",
       "    </tr>\n",
       "  </tbody>\n",
       "</table>\n",
       "<p>20100 rows × 10 columns</p>\n",
       "</div>"
      ],
      "text/plain": [
       "       repeat  fold  cycle  budget  row_id  confidence.Iris-setosa  \\\n",
       "0         0.0   0.0    0.0     1.0    43.0                1.000000   \n",
       "1         0.0   0.0    0.0     1.0    14.0                1.000000   \n",
       "2         0.0   0.0    0.0     1.0    37.0                1.000000   \n",
       "3         0.0   0.0    0.0     1.0    23.0                1.000000   \n",
       "4         0.0   0.0    0.0     1.0    10.0                1.000000   \n",
       "...       ...   ...    ...     ...     ...                     ...   \n",
       "20095     0.0   9.0  133.0   134.0   142.0                0.009959   \n",
       "20096     0.0   9.0  133.0   134.0   123.0                0.011183   \n",
       "20097     0.0   9.0  133.0   134.0   131.0                0.000277   \n",
       "20098     0.0   9.0  133.0   134.0   147.0                0.005609   \n",
       "20099     0.0   9.0  133.0   134.0   146.0                0.008332   \n",
       "\n",
       "       confidence.Iris-versicolor  confidence.Iris-virginica  \\\n",
       "0                        0.000000                   0.000000   \n",
       "1                        0.000000                   0.000000   \n",
       "2                        0.000000                   0.000000   \n",
       "3                        0.000000                   0.000000   \n",
       "4                        0.000000                   0.000000   \n",
       "...                           ...                        ...   \n",
       "20095                    0.498706                   0.491335   \n",
       "20096                    0.507453                   0.481364   \n",
       "20097                    0.208998                   0.790726   \n",
       "20098                    0.438550                   0.555841   \n",
       "20099                    0.491455                   0.500213   \n",
       "\n",
       "              prediction             correct  \n",
       "0         b'Iris-setosa'      b'Iris-setosa'  \n",
       "1         b'Iris-setosa'      b'Iris-setosa'  \n",
       "2         b'Iris-setosa'      b'Iris-setosa'  \n",
       "3         b'Iris-setosa'      b'Iris-setosa'  \n",
       "4         b'Iris-setosa'      b'Iris-setosa'  \n",
       "...                  ...                 ...  \n",
       "20095  b'Iris-virginica'  b'Iris-versicolor'  \n",
       "20096  b'Iris-virginica'  b'Iris-versicolor'  \n",
       "20097  b'Iris-virginica'   b'Iris-virginica'  \n",
       "20098  b'Iris-virginica'   b'Iris-virginica'  \n",
       "20099  b'Iris-virginica'   b'Iris-virginica'  \n",
       "\n",
       "[20100 rows x 10 columns]"
      ]
     },
     "execution_count": 11,
     "metadata": {},
     "output_type": "execute_result"
    }
   ],
   "source": [
    "import numpy as np\n",
    "import pandas as pd\n",
    "from scipy.io.arff import loadarff \n",
    "\n",
    "raw_data = loadarff('log')\n",
    "df_data = pd.DataFrame(raw_data[0])\n",
    "df_data"
   ]
  },
  {
   "cell_type": "code",
   "execution_count": 12,
   "metadata": {},
   "outputs": [
    {
     "data": {
      "text/plain": [
       "array([0.])"
      ]
     },
     "execution_count": 12,
     "metadata": {},
     "output_type": "execute_result"
    }
   ],
   "source": [
    "raw_data = loadarff('log_clf')\n",
    "df_data = pd.DataFrame(raw_data[0])\n",
    "df_data['sample'].unique()"
   ]
  },
  {
   "cell_type": "code",
   "execution_count": 13,
   "metadata": {},
   "outputs": [
    {
     "data": {
      "text/plain": [
       "''"
      ]
     },
     "execution_count": 13,
     "metadata": {},
     "output_type": "execute_result"
    }
   ],
   "source": [
    "''"
   ]
  }
 ],
 "metadata": {
  "interpreter": {
   "hash": "b1686965f4865d96dc103f8dbe26a21474def9bc9131d2b1aa2fd03680a1d89b"
  },
  "kernelspec": {
   "display_name": "Python 3.8.5 ('wsp')",
   "language": "python",
   "name": "python3"
  },
  "language_info": {
   "codemirror_mode": {
    "name": "ipython",
    "version": 3
   },
   "file_extension": ".py",
   "mimetype": "text/x-python",
   "name": "python",
   "nbconvert_exporter": "python",
   "pygments_lexer": "ipython3",
   "version": "3.9.16"
  },
  "orig_nbformat": 4
 },
 "nbformat": 4,
 "nbformat_minor": 2
}
