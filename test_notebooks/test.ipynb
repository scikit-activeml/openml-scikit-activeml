{
 "cells": [
  {
   "cell_type": "code",
   "execution_count": 1,
   "metadata": {
    "ExecuteTime": {
     "end_time": "2023-05-11T16:02:55.725548667Z",
     "start_time": "2023-05-11T16:02:55.680444864Z"
    }
   },
   "outputs": [],
   "source": [
    "import sys\n",
    "sys.path.extend([\n",
    "    '../../openml-python-OpenMLActiveClassificationTask/',\n",
    "    '../../openml-scikit-activeml/'\n",
    "])\n",
    "%load_ext autoreload\n",
    "%autoreload 2"
   ]
  },
  {
   "cell_type": "code",
   "execution_count": 2,
   "metadata": {
    "ExecuteTime": {
     "end_time": "2023-05-11T16:02:57.235008099Z",
     "start_time": "2023-05-11T16:02:55.702005390Z"
    }
   },
   "outputs": [
    {
     "name": "stderr",
     "output_type": "stream",
     "text": [
      "/home/marek/Projects/GitHub/openml-skactiveml/openml-scikit-activeml/test_notebooks/../../openml-python-OpenMLActiveClassificationTask/openml/config.py:184: UserWarning: Switching to the test server https://test.openml.org/api/v1/xml to not upload results to the live server. Using the test server may result in reduced performance of the API!\n",
      "  warnings.warn(\n"
     ]
    }
   ],
   "source": [
    "import numpy as np\n",
    "from sklearn import ensemble\n",
    "from openml.tasks import OpenMLActiveClassificationTask, TaskType\n",
    "from openml import tasks, runs\n",
    "from skactiveml.classifier import ParzenWindowClassifier\n",
    "from skactiveml.pool import UncertaintySampling, RandomSampling, ProbabilisticAL\n",
    "import openml\n",
    "import openml_skactiveml\n",
    "from openml_skactiveml import PoolSkactivemlModel\n",
    "openml.config.start_using_configuration_for_example()"
   ]
  },
  {
   "cell_type": "code",
   "execution_count": 3,
   "metadata": {
    "ExecuteTime": {
     "end_time": "2023-05-11T16:02:57.389021175Z",
     "start_time": "2023-05-11T16:02:57.224734745Z"
    }
   },
   "outputs": [],
   "source": [
    "task_id = 5199\n",
    "# task_id = 6175\n",
    "task = tasks.get_task(task_id, download_data=False)"
   ]
  },
  {
   "cell_type": "code",
   "execution_count": 4,
   "metadata": {
    "ExecuteTime": {
     "end_time": "2023-05-11T16:02:57.467091846Z",
     "start_time": "2023-05-11T16:02:57.264206680Z"
    }
   },
   "outputs": [
    {
     "data": {
      "text/plain": "OpenML Active Classification Task\n=================================\nTask Type Description: https://test.openml.org/tt/TaskType.ACTIVE_CLASSIFICATION\nTask ID..............: 5199\nTask URL.............: https://test.openml.org/t/5199\nEstimation Procedure.: crossvalidation\nEvaluation Measure...: predictive_accuracy\nTarget Feature.......: class\n# of Classes.........: 3\nCost Matrix..........: Available"
     },
     "execution_count": 4,
     "metadata": {},
     "output_type": "execute_result"
    }
   ],
   "source": [
    "task"
   ]
  },
  {
   "cell_type": "code",
   "execution_count": 5,
   "metadata": {
    "ExecuteTime": {
     "end_time": "2023-05-11T16:02:57.531107380Z",
     "start_time": "2023-05-11T16:02:57.313092207Z"
    }
   },
   "outputs": [],
   "source": [
    "# # # Example on how an AL task can be created from an existing classification task\n",
    "\n",
    "# task_id = 1196\n",
    "# task = tasks.get_task(task_id)\n",
    "\n",
    "# my_task = openml.tasks.create_task(\n",
    "#     task_type=TaskType.SUPERVISED_CLASSIFICATION,\n",
    "#     dataset_id=128,\n",
    "#     target_name=\"class\",\n",
    "#     evaluation_measure=\"predictive_accuracy\",\n",
    "#     estimation_procedure_id=1,\n",
    "# )\n",
    "\n",
    "# task = OpenMLActiveClassificationTask(\n",
    "#         task_type_id=TaskType.ACTIVE_CLASSIFICATION,\n",
    "#         task_type=\"ACTIVE_CLASSIFICATION\",\n",
    "#         data_set_id=task.dataset_id,\n",
    "#         target_name=task.target_name,\n",
    "#         class_labels=task.class_labels,\n",
    "#         evaluation_measure=\"predictive_accuracy\",\n",
    "#         estimation_procedure_id=33, # 10-fold cross validation\n",
    "#         # annotation_costs=np.arange(150, dtype=float)*0+1, # hard-coded annotation cost for now\n",
    "#         batch_size=1,\n",
    "#     )\n",
    "\n",
    "# task.publish()"
   ]
  },
  {
   "cell_type": "code",
   "execution_count": null,
   "metadata": {
    "is_executing": true
   },
   "outputs": [],
   "source": [
    "# model = {\n",
    "#     'query_strategy':UncertaintySampling(missing_label=None),\n",
    "#     'prediction_model':ParzenWindowClassifier(missing_label=None, classes=task.class_labels),\n",
    "#     'query_params':{\n",
    "#         \"clf\": ParzenWindowClassifier(missing_label=None, classes=task.class_labels)\n",
    "#     },\n",
    "#     'budget': 100000,\n",
    "# }\n",
    "\n",
    "model = PoolSkactivemlModel(\n",
    "    query_strategy=ProbabilisticAL(missing_label=None),\n",
    "    prediction_model=ParzenWindowClassifier(missing_label=None, classes=task.class_labels),\n",
    "    query_params={\n",
    "        \"clf\": ParzenWindowClassifier(missing_label=None, classes=task.class_labels)\n",
    "    },\n",
    "    budget=100000,\n",
    ")\n",
    "# Automatically evaluate your model on the task\n",
    "run = runs.run_model_on_task(model, task, upload_flow=False, avoid_duplicate_runs=False, n_jobs=1, seed=0)"
   ]
  },
  {
   "cell_type": "code",
   "execution_count": 50,
   "metadata": {
    "ExecuteTime": {
     "end_time": "2023-05-11T14:33:05.894490189Z",
     "start_time": "2023-05-11T14:33:04.396150159Z"
    }
   },
   "outputs": [
    {
     "ename": "OpenMLServerError",
     "evalue": "Unexpected server error when calling https://test.openml.org/api/v1/xml/flow/. Please contact the developers!\nStatus code: 500\n",
     "output_type": "error",
     "traceback": [
      "\u001B[0;31m---------------------------------------------------------------------------\u001B[0m",
      "\u001B[0;31mExpatError\u001B[0m                                Traceback (most recent call last)",
      "File \u001B[0;32m~/Projects/GitHub/openml-skactiveml/openml-scikit-activeml/test_notebooks/../../openml-python-OpenMLActiveClassificationTask/openml/_api_calls.py:327\u001B[0m, in \u001B[0;36m_send_request\u001B[0;34m(request_method, url, data, files, md5_checksum)\u001B[0m\n\u001B[1;32m    326\u001B[0m     \u001B[38;5;28;01mraise\u001B[39;00m \u001B[38;5;167;01mNotImplementedError\u001B[39;00m()\n\u001B[0;32m--> 327\u001B[0m \u001B[43m__check_response\u001B[49m\u001B[43m(\u001B[49m\u001B[43mresponse\u001B[49m\u001B[38;5;241;43m=\u001B[39;49m\u001B[43mresponse\u001B[49m\u001B[43m,\u001B[49m\u001B[43m \u001B[49m\u001B[43murl\u001B[49m\u001B[38;5;241;43m=\u001B[39;49m\u001B[43murl\u001B[49m\u001B[43m,\u001B[49m\u001B[43m \u001B[49m\u001B[43mfile_elements\u001B[49m\u001B[38;5;241;43m=\u001B[39;49m\u001B[43mfiles\u001B[49m\u001B[43m)\u001B[49m\n\u001B[1;32m    328\u001B[0m \u001B[38;5;28;01mif\u001B[39;00m request_method \u001B[38;5;241m==\u001B[39m \u001B[38;5;124m\"\u001B[39m\u001B[38;5;124mget\u001B[39m\u001B[38;5;124m\"\u001B[39m \u001B[38;5;129;01mand\u001B[39;00m \u001B[38;5;129;01mnot\u001B[39;00m __is_checksum_equal(response\u001B[38;5;241m.\u001B[39mtext, md5_checksum):\n",
      "File \u001B[0;32m~/Projects/GitHub/openml-skactiveml/openml-scikit-activeml/test_notebooks/../../openml-python-OpenMLActiveClassificationTask/openml/_api_calls.py:377\u001B[0m, in \u001B[0;36m__check_response\u001B[0;34m(response, url, file_elements)\u001B[0m\n\u001B[1;32m    376\u001B[0m \u001B[38;5;28;01mif\u001B[39;00m response\u001B[38;5;241m.\u001B[39mstatus_code \u001B[38;5;241m!=\u001B[39m \u001B[38;5;241m200\u001B[39m:\n\u001B[0;32m--> 377\u001B[0m     \u001B[38;5;28;01mraise\u001B[39;00m \u001B[43m__parse_server_exception\u001B[49m\u001B[43m(\u001B[49m\u001B[43mresponse\u001B[49m\u001B[43m,\u001B[49m\u001B[43m \u001B[49m\u001B[43murl\u001B[49m\u001B[43m,\u001B[49m\u001B[43m \u001B[49m\u001B[43mfile_elements\u001B[49m\u001B[38;5;241;43m=\u001B[39;49m\u001B[43mfile_elements\u001B[49m\u001B[43m)\u001B[49m\n\u001B[1;32m    378\u001B[0m \u001B[38;5;28;01melif\u001B[39;00m (\n\u001B[1;32m    379\u001B[0m     \u001B[38;5;124m\"\u001B[39m\u001B[38;5;124mContent-Encoding\u001B[39m\u001B[38;5;124m\"\u001B[39m \u001B[38;5;129;01mnot\u001B[39;00m \u001B[38;5;129;01min\u001B[39;00m response\u001B[38;5;241m.\u001B[39mheaders \u001B[38;5;129;01mor\u001B[39;00m response\u001B[38;5;241m.\u001B[39mheaders[\u001B[38;5;124m\"\u001B[39m\u001B[38;5;124mContent-Encoding\u001B[39m\u001B[38;5;124m\"\u001B[39m] \u001B[38;5;241m!=\u001B[39m \u001B[38;5;124m\"\u001B[39m\u001B[38;5;124mgzip\u001B[39m\u001B[38;5;124m\"\u001B[39m\n\u001B[1;32m    380\u001B[0m ):\n",
      "File \u001B[0;32m~/Projects/GitHub/openml-skactiveml/openml-scikit-activeml/test_notebooks/../../openml-python-OpenMLActiveClassificationTask/openml/_api_calls.py:393\u001B[0m, in \u001B[0;36m__parse_server_exception\u001B[0;34m(response, url, file_elements)\u001B[0m\n\u001B[1;32m    392\u001B[0m \u001B[38;5;28;01mtry\u001B[39;00m:\n\u001B[0;32m--> 393\u001B[0m     server_exception \u001B[38;5;241m=\u001B[39m \u001B[43mxmltodict\u001B[49m\u001B[38;5;241;43m.\u001B[39;49m\u001B[43mparse\u001B[49m\u001B[43m(\u001B[49m\u001B[43mresponse\u001B[49m\u001B[38;5;241;43m.\u001B[39;49m\u001B[43mtext\u001B[49m\u001B[43m)\u001B[49m\n\u001B[1;32m    394\u001B[0m \u001B[38;5;28;01mexcept\u001B[39;00m xml\u001B[38;5;241m.\u001B[39mparsers\u001B[38;5;241m.\u001B[39mexpat\u001B[38;5;241m.\u001B[39mExpatError:\n",
      "File \u001B[0;32m~/miniconda3/envs/openml-skactiveml/lib/python3.9/site-packages/xmltodict.py:378\u001B[0m, in \u001B[0;36mparse\u001B[0;34m(xml_input, encoding, expat, process_namespaces, namespace_separator, disable_entities, process_comments, **kwargs)\u001B[0m\n\u001B[1;32m    377\u001B[0m \u001B[38;5;28;01melse\u001B[39;00m:\n\u001B[0;32m--> 378\u001B[0m     \u001B[43mparser\u001B[49m\u001B[38;5;241;43m.\u001B[39;49m\u001B[43mParse\u001B[49m\u001B[43m(\u001B[49m\u001B[43mxml_input\u001B[49m\u001B[43m,\u001B[49m\u001B[43m \u001B[49m\u001B[38;5;28;43;01mTrue\u001B[39;49;00m\u001B[43m)\u001B[49m\n\u001B[1;32m    379\u001B[0m \u001B[38;5;28;01mreturn\u001B[39;00m handler\u001B[38;5;241m.\u001B[39mitem\n",
      "\u001B[0;31mExpatError\u001B[0m: no element found: line 1, column 0",
      "\nDuring handling of the above exception, another exception occurred:\n",
      "\u001B[0;31mOpenMLServerError\u001B[0m                         Traceback (most recent call last)",
      "Cell \u001B[0;32mIn[50], line 1\u001B[0m\n\u001B[0;32m----> 1\u001B[0m \u001B[43mrun\u001B[49m\u001B[38;5;241;43m.\u001B[39;49m\u001B[43mpublish\u001B[49m\u001B[43m(\u001B[49m\u001B[43m)\u001B[49m\n",
      "File \u001B[0;32m~/Projects/GitHub/openml-skactiveml/openml-scikit-activeml/test_notebooks/../../openml-python-OpenMLActiveClassificationTask/openml/base.py:124\u001B[0m, in \u001B[0;36mOpenMLBase.publish\u001B[0;34m(self)\u001B[0m\n\u001B[1;32m    123\u001B[0m \u001B[38;5;28;01mdef\u001B[39;00m \u001B[38;5;21mpublish\u001B[39m(\u001B[38;5;28mself\u001B[39m) \u001B[38;5;241m-\u001B[39m\u001B[38;5;241m>\u001B[39m \u001B[38;5;124m\"\u001B[39m\u001B[38;5;124mOpenMLBase\u001B[39m\u001B[38;5;124m\"\u001B[39m:\n\u001B[0;32m--> 124\u001B[0m     file_elements \u001B[38;5;241m=\u001B[39m \u001B[38;5;28;43mself\u001B[39;49m\u001B[38;5;241;43m.\u001B[39;49m\u001B[43m_get_file_elements\u001B[49m\u001B[43m(\u001B[49m\u001B[43m)\u001B[49m\n\u001B[1;32m    126\u001B[0m     \u001B[38;5;28;01mif\u001B[39;00m \u001B[38;5;124m\"\u001B[39m\u001B[38;5;124mdescription\u001B[39m\u001B[38;5;124m\"\u001B[39m \u001B[38;5;129;01mnot\u001B[39;00m \u001B[38;5;129;01min\u001B[39;00m file_elements:\n\u001B[1;32m    127\u001B[0m         file_elements[\u001B[38;5;124m\"\u001B[39m\u001B[38;5;124mdescription\u001B[39m\u001B[38;5;124m\"\u001B[39m] \u001B[38;5;241m=\u001B[39m \u001B[38;5;28mself\u001B[39m\u001B[38;5;241m.\u001B[39m_to_xml()\n",
      "File \u001B[0;32m~/Projects/GitHub/openml-skactiveml/openml-scikit-activeml/test_notebooks/../../openml-python-OpenMLActiveClassificationTask/openml/runs/run.py:568\u001B[0m, in \u001B[0;36mOpenMLRun._get_file_elements\u001B[0;34m(self)\u001B[0m\n\u001B[1;32m    562\u001B[0m         \u001B[38;5;28;01mraise\u001B[39;00m PyOpenMLError(\n\u001B[1;32m    563\u001B[0m             \u001B[38;5;124m\"\u001B[39m\u001B[38;5;124mOpenMLRun object does not contain a flow id or reference to OpenMLFlow \u001B[39m\u001B[38;5;124m\"\u001B[39m\n\u001B[1;32m    564\u001B[0m             \u001B[38;5;124m\"\u001B[39m\u001B[38;5;124m(these should have been added while executing the task). \u001B[39m\u001B[38;5;124m\"\u001B[39m\n\u001B[1;32m    565\u001B[0m         )\n\u001B[1;32m    566\u001B[0m     \u001B[38;5;28;01melse\u001B[39;00m:\n\u001B[1;32m    567\u001B[0m         \u001B[38;5;66;03m# publish the linked Flow before publishing the run.\u001B[39;00m\n\u001B[0;32m--> 568\u001B[0m         \u001B[38;5;28;43mself\u001B[39;49m\u001B[38;5;241;43m.\u001B[39;49m\u001B[43mflow\u001B[49m\u001B[38;5;241;43m.\u001B[39;49m\u001B[43mpublish\u001B[49m\u001B[43m(\u001B[49m\u001B[43m)\u001B[49m\n\u001B[1;32m    569\u001B[0m         \u001B[38;5;28mself\u001B[39m\u001B[38;5;241m.\u001B[39mflow_id \u001B[38;5;241m=\u001B[39m \u001B[38;5;28mself\u001B[39m\u001B[38;5;241m.\u001B[39mflow\u001B[38;5;241m.\u001B[39mflow_id\n\u001B[1;32m    571\u001B[0m \u001B[38;5;28;01mif\u001B[39;00m \u001B[38;5;28mself\u001B[39m\u001B[38;5;241m.\u001B[39mparameter_settings \u001B[38;5;129;01mis\u001B[39;00m \u001B[38;5;28;01mNone\u001B[39;00m:\n",
      "File \u001B[0;32m~/Projects/GitHub/openml-skactiveml/openml-scikit-activeml/test_notebooks/../../openml-python-OpenMLActiveClassificationTask/openml/flows/flow.py:435\u001B[0m, in \u001B[0;36mOpenMLFlow.publish\u001B[0;34m(self, raise_error_if_exists)\u001B[0m\n\u001B[1;32m    431\u001B[0m     \u001B[38;5;28;01mif\u001B[39;00m \u001B[38;5;28mself\u001B[39m\u001B[38;5;241m.\u001B[39mflow_id:\n\u001B[1;32m    432\u001B[0m         \u001B[38;5;28;01mraise\u001B[39;00m openml\u001B[38;5;241m.\u001B[39mexceptions\u001B[38;5;241m.\u001B[39mPyOpenMLError(\n\u001B[1;32m    433\u001B[0m             \u001B[38;5;124m\"\u001B[39m\u001B[38;5;124mFlow does not exist on the server, \u001B[39m\u001B[38;5;124m\"\u001B[39m \u001B[38;5;124m\"\u001B[39m\u001B[38;5;124mbut \u001B[39m\u001B[38;5;124m'\u001B[39m\u001B[38;5;124mflow.flow_id\u001B[39m\u001B[38;5;124m'\u001B[39m\u001B[38;5;124m is not None.\u001B[39m\u001B[38;5;124m\"\u001B[39m\n\u001B[1;32m    434\u001B[0m         )\n\u001B[0;32m--> 435\u001B[0m     \u001B[38;5;28;43msuper\u001B[39;49m\u001B[43m(\u001B[49m\u001B[43m)\u001B[49m\u001B[38;5;241;43m.\u001B[39;49m\u001B[43mpublish\u001B[49m\u001B[43m(\u001B[49m\u001B[43m)\u001B[49m\n\u001B[1;32m    436\u001B[0m     flow_id \u001B[38;5;241m=\u001B[39m \u001B[38;5;28mself\u001B[39m\u001B[38;5;241m.\u001B[39mflow_id\n\u001B[1;32m    437\u001B[0m \u001B[38;5;28;01melif\u001B[39;00m raise_error_if_exists:\n",
      "File \u001B[0;32m~/Projects/GitHub/openml-skactiveml/openml-scikit-activeml/test_notebooks/../../openml-python-OpenMLActiveClassificationTask/openml/base.py:130\u001B[0m, in \u001B[0;36mOpenMLBase.publish\u001B[0;34m(self)\u001B[0m\n\u001B[1;32m    127\u001B[0m     file_elements[\u001B[38;5;124m\"\u001B[39m\u001B[38;5;124mdescription\u001B[39m\u001B[38;5;124m\"\u001B[39m] \u001B[38;5;241m=\u001B[39m \u001B[38;5;28mself\u001B[39m\u001B[38;5;241m.\u001B[39m_to_xml()\n\u001B[1;32m    129\u001B[0m call \u001B[38;5;241m=\u001B[39m \u001B[38;5;124m\"\u001B[39m\u001B[38;5;132;01m{}\u001B[39;00m\u001B[38;5;124m/\u001B[39m\u001B[38;5;124m\"\u001B[39m\u001B[38;5;241m.\u001B[39mformat(_get_rest_api_type_alias(\u001B[38;5;28mself\u001B[39m))\n\u001B[0;32m--> 130\u001B[0m response_text \u001B[38;5;241m=\u001B[39m \u001B[43mopenml\u001B[49m\u001B[38;5;241;43m.\u001B[39;49m\u001B[43m_api_calls\u001B[49m\u001B[38;5;241;43m.\u001B[39;49m\u001B[43m_perform_api_call\u001B[49m\u001B[43m(\u001B[49m\n\u001B[1;32m    131\u001B[0m \u001B[43m    \u001B[49m\u001B[43mcall\u001B[49m\u001B[43m,\u001B[49m\u001B[43m \u001B[49m\u001B[38;5;124;43m\"\u001B[39;49m\u001B[38;5;124;43mpost\u001B[39;49m\u001B[38;5;124;43m\"\u001B[39;49m\u001B[43m,\u001B[49m\u001B[43m \u001B[49m\u001B[43mfile_elements\u001B[49m\u001B[38;5;241;43m=\u001B[39;49m\u001B[43mfile_elements\u001B[49m\n\u001B[1;32m    132\u001B[0m \u001B[43m\u001B[49m\u001B[43m)\u001B[49m\n\u001B[1;32m    133\u001B[0m xml_response \u001B[38;5;241m=\u001B[39m xmltodict\u001B[38;5;241m.\u001B[39mparse(response_text)\n\u001B[1;32m    135\u001B[0m \u001B[38;5;28mself\u001B[39m\u001B[38;5;241m.\u001B[39m_parse_publish_response(xml_response)\n",
      "File \u001B[0;32m~/Projects/GitHub/openml-skactiveml/openml-scikit-activeml/test_notebooks/../../openml-python-OpenMLActiveClassificationTask/openml/_api_calls.py:91\u001B[0m, in \u001B[0;36m_perform_api_call\u001B[0;34m(call, request_method, data, file_elements)\u001B[0m\n\u001B[1;32m     89\u001B[0m     \u001B[38;5;28;01mif\u001B[39;00m request_method \u001B[38;5;241m!=\u001B[39m \u001B[38;5;124m\"\u001B[39m\u001B[38;5;124mpost\u001B[39m\u001B[38;5;124m\"\u001B[39m:\n\u001B[1;32m     90\u001B[0m         \u001B[38;5;28;01mraise\u001B[39;00m \u001B[38;5;167;01mValueError\u001B[39;00m(\u001B[38;5;124m\"\u001B[39m\u001B[38;5;124mrequest method must be post when file elements are present\u001B[39m\u001B[38;5;124m\"\u001B[39m)\n\u001B[0;32m---> 91\u001B[0m     response \u001B[38;5;241m=\u001B[39m \u001B[43m_read_url_files\u001B[49m\u001B[43m(\u001B[49m\u001B[43murl\u001B[49m\u001B[43m,\u001B[49m\u001B[43m \u001B[49m\u001B[43mdata\u001B[49m\u001B[38;5;241;43m=\u001B[39;49m\u001B[43mdata\u001B[49m\u001B[43m,\u001B[49m\u001B[43m \u001B[49m\u001B[43mfile_elements\u001B[49m\u001B[38;5;241;43m=\u001B[39;49m\u001B[43mfile_elements\u001B[49m\u001B[43m)\u001B[49m\n\u001B[1;32m     92\u001B[0m \u001B[38;5;28;01melse\u001B[39;00m:\n\u001B[1;32m     93\u001B[0m     response \u001B[38;5;241m=\u001B[39m __read_url(url, request_method, data)\n",
      "File \u001B[0;32m~/Projects/GitHub/openml-skactiveml/openml-scikit-activeml/test_notebooks/../../openml-python-OpenMLActiveClassificationTask/openml/_api_calls.py:282\u001B[0m, in \u001B[0;36m_read_url_files\u001B[0;34m(url, data, file_elements)\u001B[0m\n\u001B[1;32m    279\u001B[0m     file_elements \u001B[38;5;241m=\u001B[39m {}\n\u001B[1;32m    280\u001B[0m \u001B[38;5;66;03m# Using requests.post sets header 'Accept-encoding' automatically to\u001B[39;00m\n\u001B[1;32m    281\u001B[0m \u001B[38;5;66;03m# 'gzip,deflate'\u001B[39;00m\n\u001B[0;32m--> 282\u001B[0m response \u001B[38;5;241m=\u001B[39m \u001B[43m_send_request\u001B[49m\u001B[43m(\u001B[49m\n\u001B[1;32m    283\u001B[0m \u001B[43m    \u001B[49m\u001B[43mrequest_method\u001B[49m\u001B[38;5;241;43m=\u001B[39;49m\u001B[38;5;124;43m\"\u001B[39;49m\u001B[38;5;124;43mpost\u001B[39;49m\u001B[38;5;124;43m\"\u001B[39;49m\u001B[43m,\u001B[49m\n\u001B[1;32m    284\u001B[0m \u001B[43m    \u001B[49m\u001B[43murl\u001B[49m\u001B[38;5;241;43m=\u001B[39;49m\u001B[43murl\u001B[49m\u001B[43m,\u001B[49m\n\u001B[1;32m    285\u001B[0m \u001B[43m    \u001B[49m\u001B[43mdata\u001B[49m\u001B[38;5;241;43m=\u001B[39;49m\u001B[43mdata\u001B[49m\u001B[43m,\u001B[49m\n\u001B[1;32m    286\u001B[0m \u001B[43m    \u001B[49m\u001B[43mfiles\u001B[49m\u001B[38;5;241;43m=\u001B[39;49m\u001B[43mfile_elements\u001B[49m\u001B[43m,\u001B[49m\n\u001B[1;32m    287\u001B[0m \u001B[43m\u001B[49m\u001B[43m)\u001B[49m\n\u001B[1;32m    288\u001B[0m \u001B[38;5;28;01mreturn\u001B[39;00m response\n",
      "File \u001B[0;32m~/Projects/GitHub/openml-skactiveml/openml-scikit-activeml/test_notebooks/../../openml-python-OpenMLActiveClassificationTask/openml/_api_calls.py:348\u001B[0m, in \u001B[0;36m_send_request\u001B[0;34m(request_method, url, data, files, md5_checksum)\u001B[0m\n\u001B[1;32m    346\u001B[0m \u001B[38;5;28;01melif\u001B[39;00m \u001B[38;5;28misinstance\u001B[39m(e, xml\u001B[38;5;241m.\u001B[39mparsers\u001B[38;5;241m.\u001B[39mexpat\u001B[38;5;241m.\u001B[39mExpatError):\n\u001B[1;32m    347\u001B[0m     \u001B[38;5;28;01mif\u001B[39;00m request_method \u001B[38;5;241m!=\u001B[39m \u001B[38;5;124m\"\u001B[39m\u001B[38;5;124mget\u001B[39m\u001B[38;5;124m\"\u001B[39m \u001B[38;5;129;01mor\u001B[39;00m retry_counter \u001B[38;5;241m>\u001B[39m\u001B[38;5;241m=\u001B[39m n_retries:\n\u001B[0;32m--> 348\u001B[0m         \u001B[38;5;28;01mraise\u001B[39;00m OpenMLServerError(\n\u001B[1;32m    349\u001B[0m             \u001B[38;5;124m\"\u001B[39m\u001B[38;5;124mUnexpected server error when calling \u001B[39m\u001B[38;5;132;01m{}\u001B[39;00m\u001B[38;5;124m. Please contact the \u001B[39m\u001B[38;5;124m\"\u001B[39m\n\u001B[1;32m    350\u001B[0m             \u001B[38;5;124m\"\u001B[39m\u001B[38;5;124mdevelopers!\u001B[39m\u001B[38;5;130;01m\\n\u001B[39;00m\u001B[38;5;124mStatus code: \u001B[39m\u001B[38;5;132;01m{}\u001B[39;00m\u001B[38;5;130;01m\\n\u001B[39;00m\u001B[38;5;132;01m{}\u001B[39;00m\u001B[38;5;124m\"\u001B[39m\u001B[38;5;241m.\u001B[39mformat(\n\u001B[1;32m    351\u001B[0m                 url,\n\u001B[1;32m    352\u001B[0m                 response\u001B[38;5;241m.\u001B[39mstatus_code,\n\u001B[1;32m    353\u001B[0m                 response\u001B[38;5;241m.\u001B[39mtext,\n\u001B[1;32m    354\u001B[0m             )\n\u001B[1;32m    355\u001B[0m         )\n\u001B[1;32m    356\u001B[0m \u001B[38;5;28;01mif\u001B[39;00m retry_counter \u001B[38;5;241m>\u001B[39m\u001B[38;5;241m=\u001B[39m n_retries:\n\u001B[1;32m    357\u001B[0m     \u001B[38;5;28;01mraise\u001B[39;00m\n",
      "\u001B[0;31mOpenMLServerError\u001B[0m: Unexpected server error when calling https://test.openml.org/api/v1/xml/flow/. Please contact the developers!\nStatus code: 500\n"
     ]
    }
   ],
   "source": [
    "run.publish()"
   ]
  },
  {
   "cell_type": "code",
   "execution_count": 8,
   "metadata": {},
   "outputs": [
    {
     "data": {
      "image/png": "[encoded data removed]",
      "text/plain": [
       "<Figure size 500x500 with 1 Axes>"
      ]
     },
     "metadata": {},
     "output_type": "display_data"
    }
   ],
   "source": [
    "import matplotlib.pyplot as plt\n",
    "\n",
    "X, y = task.get_X_and_y()\n",
    "\n",
    "learning_curve_per_fold = []\n",
    "budgets_per_fold = []\n",
    "\n",
    "for repetition in range(1):\n",
    "    for fold in range(10):\n",
    "        fold_learning_curve = []\n",
    "        preds = run.fold_evaluations['pred_t'][0][fold]\n",
    "        budgets = run.fold_evaluations['budget_t'][0][fold]\n",
    "        y_true_idx = task.get_train_test_split_indices(repeat=repetition, fold=fold)[1]\n",
    "        y_true = np.array(task.class_labels)[y[y_true_idx]]\n",
    "        for c in range(preds.shape[0]):\n",
    "            fold_learning_curve.append(np.mean(preds[c,:] == y_true))\n",
    "        learning_curve_per_fold.append(fold_learning_curve)\n",
    "        budgets_per_fold.append(budgets)\n",
    "\n",
    "for repetition in range(1):\n",
    "    fig, ax = plt.subplots(1,1,figsize=(5,5))\n",
    "    fig.set_facecolor('w')\n",
    "    for fold in range(10):\n",
    "        plt.plot(budgets_per_fold[fold] , learning_curve_per_fold[fold], label=f\"{fold}_{len(learning_curve_per_fold[fold])}\")\n",
    "    # plt.plot(np.mean(learning_curve_per_fold, axis=0), label=str(fold))\n",
    "    plt.legend()\n",
    "    display(fig)\n",
    "    plt.close(fig)"
   ]
  },
  {
   "cell_type": "code",
   "execution_count": null,
   "metadata": {},
   "outputs": [],
   "source": [
    "for budgets in [budgets_per_fold[0]]:\n",
    "    plt.plot(budgets)"
   ]
  },
  {
   "cell_type": "code",
   "execution_count": null,
   "metadata": {},
   "outputs": [],
   "source": [
    "import arff\n",
    "test_export = arff.dumps(run._generate_arff_dict())\n",
    "with open('test_export.arff', 'w') as f:\n",
    "    f.write(test_export)"
   ]
  },
  {
   "cell_type": "code",
   "execution_count": null,
   "metadata": {},
   "outputs": [],
   "source": [
    "run.to_filesystem('test_export')"
   ]
  },
  {
   "cell_type": "code",
   "execution_count": 10,
   "metadata": {},
   "outputs": [],
   "source": [
    "import sklearn\n",
    "import sklearn.impute\n",
    "from sklearn.impute import SimpleImputer\n",
    "from sklearn import ensemble\n",
    "from openml import tasks, runs\n",
    "from sklearn.svm import LinearSVC\n",
    "from sklearn.tree import DecisionTreeClassifier\n",
    "from sklearn.pipeline import make_pipeline\n",
    "\n",
    "# Build any model you like\n",
    "# clf = ensemble.AdaBoostClassifier(estimator=DecisionTreeClassifier())\n",
    "# clf = sklearn.pipeline.Pipeline(imputer=SimpleImputer(),classifier=DecisionTreeClassifier())\n",
    "\n",
    "clf = ensemble.RandomForestClassifier()\n",
    "\n",
    "# Download any OpenML task (includes the datasets)\n",
    "task = tasks.get_task(119)\n",
    "\n",
    "\n",
    "\n",
    "# Automatically evaluate your model on the task\n",
    "run = runs.run_model_on_task(clf, task, upload_flow=False, avoid_duplicate_runs=False, n_jobs=1, seed=10)\n",
    "\n",
    "# Share the results on OpenML.\n",
    "# run.publish()"
   ]
  },
  {
   "cell_type": "code",
   "execution_count": 11,
   "metadata": {},
   "outputs": [
    {
     "ename": "OpenMLServerException",
     "evalue": "https://test.openml.org/api/v1/xml/run/ returned code 201: Please provide run xml - Filesize is 0 bytes, which is not allowed.",
     "output_type": "error",
     "traceback": [
      "\u001B[1;31m---------------------------------------------------------------------------\u001B[0m",
      "\u001B[1;31mOpenMLServerException\u001B[0m                     Traceback (most recent call last)",
      "Cell \u001B[1;32mIn[11], line 1\u001B[0m\n\u001B[1;32m----> 1\u001B[0m run\u001B[39m.\u001B[39;49mpublish()\n",
      "File \u001B[1;32mc:\\Users\\tpham\\Desktop\\Arbeit\\openml-skactiveml\\openml-scikit-activeml\\test_notebooks\\../../openml-python-OpenMLActiveClassificationTask\\openml\\base.py:130\u001B[0m, in \u001B[0;36mOpenMLBase.publish\u001B[1;34m(self)\u001B[0m\n\u001B[0;32m    127\u001B[0m     file_elements[\u001B[39m\"\u001B[39m\u001B[39mdescription\u001B[39m\u001B[39m\"\u001B[39m] \u001B[39m=\u001B[39m \u001B[39mself\u001B[39m\u001B[39m.\u001B[39m_to_xml()\n\u001B[0;32m    129\u001B[0m call \u001B[39m=\u001B[39m \u001B[39m\"\u001B[39m\u001B[39m{}\u001B[39;00m\u001B[39m/\u001B[39m\u001B[39m\"\u001B[39m\u001B[39m.\u001B[39mformat(_get_rest_api_type_alias(\u001B[39mself\u001B[39m))\n\u001B[1;32m--> 130\u001B[0m response_text \u001B[39m=\u001B[39m openml\u001B[39m.\u001B[39;49m_api_calls\u001B[39m.\u001B[39;49m_perform_api_call(\n\u001B[0;32m    131\u001B[0m     call, \u001B[39m\"\u001B[39;49m\u001B[39mpost\u001B[39;49m\u001B[39m\"\u001B[39;49m, file_elements\u001B[39m=\u001B[39;49mfile_elements\n\u001B[0;32m    132\u001B[0m )\n\u001B[0;32m    133\u001B[0m xml_response \u001B[39m=\u001B[39m xmltodict\u001B[39m.\u001B[39mparse(response_text)\n\u001B[0;32m    135\u001B[0m \u001B[39mself\u001B[39m\u001B[39m.\u001B[39m_parse_publish_response(xml_response)\n",
      "File \u001B[1;32mc:\\Users\\tpham\\Desktop\\Arbeit\\openml-skactiveml\\openml-scikit-activeml\\test_notebooks\\../../openml-python-OpenMLActiveClassificationTask\\openml\\_api_calls.py:91\u001B[0m, in \u001B[0;36m_perform_api_call\u001B[1;34m(call, request_method, data, file_elements)\u001B[0m\n\u001B[0;32m     89\u001B[0m     \u001B[39mif\u001B[39;00m request_method \u001B[39m!=\u001B[39m \u001B[39m\"\u001B[39m\u001B[39mpost\u001B[39m\u001B[39m\"\u001B[39m:\n\u001B[0;32m     90\u001B[0m         \u001B[39mraise\u001B[39;00m \u001B[39mValueError\u001B[39;00m(\u001B[39m\"\u001B[39m\u001B[39mrequest method must be post when file elements are present\u001B[39m\u001B[39m\"\u001B[39m)\n\u001B[1;32m---> 91\u001B[0m     response \u001B[39m=\u001B[39m _read_url_files(url, data\u001B[39m=\u001B[39;49mdata, file_elements\u001B[39m=\u001B[39;49mfile_elements)\n\u001B[0;32m     92\u001B[0m \u001B[39melse\u001B[39;00m:\n\u001B[0;32m     93\u001B[0m     response \u001B[39m=\u001B[39m __read_url(url, request_method, data)\n",
      "File \u001B[1;32mc:\\Users\\tpham\\Desktop\\Arbeit\\openml-skactiveml\\openml-scikit-activeml\\test_notebooks\\../../openml-python-OpenMLActiveClassificationTask\\openml\\_api_calls.py:282\u001B[0m, in \u001B[0;36m_read_url_files\u001B[1;34m(url, data, file_elements)\u001B[0m\n\u001B[0;32m    279\u001B[0m     file_elements \u001B[39m=\u001B[39m {}\n\u001B[0;32m    280\u001B[0m \u001B[39m# Using requests.post sets header 'Accept-encoding' automatically to\u001B[39;00m\n\u001B[0;32m    281\u001B[0m \u001B[39m# 'gzip,deflate'\u001B[39;00m\n\u001B[1;32m--> 282\u001B[0m response \u001B[39m=\u001B[39m _send_request(\n\u001B[0;32m    283\u001B[0m     request_method\u001B[39m=\u001B[39;49m\u001B[39m\"\u001B[39;49m\u001B[39mpost\u001B[39;49m\u001B[39m\"\u001B[39;49m,\n\u001B[0;32m    284\u001B[0m     url\u001B[39m=\u001B[39;49murl,\n\u001B[0;32m    285\u001B[0m     data\u001B[39m=\u001B[39;49mdata,\n\u001B[0;32m    286\u001B[0m     files\u001B[39m=\u001B[39;49mfile_elements,\n\u001B[0;32m    287\u001B[0m )\n\u001B[0;32m    288\u001B[0m \u001B[39mreturn\u001B[39;00m response\n",
      "File \u001B[1;32mc:\\Users\\tpham\\Desktop\\Arbeit\\openml-skactiveml\\openml-scikit-activeml\\test_notebooks\\../../openml-python-OpenMLActiveClassificationTask\\openml\\_api_calls.py:327\u001B[0m, in \u001B[0;36m_send_request\u001B[1;34m(request_method, url, data, files, md5_checksum)\u001B[0m\n\u001B[0;32m    325\u001B[0m \u001B[39melse\u001B[39;00m:\n\u001B[0;32m    326\u001B[0m     \u001B[39mraise\u001B[39;00m \u001B[39mNotImplementedError\u001B[39;00m()\n\u001B[1;32m--> 327\u001B[0m __check_response(response\u001B[39m=\u001B[39;49mresponse, url\u001B[39m=\u001B[39;49murl, file_elements\u001B[39m=\u001B[39;49mfiles)\n\u001B[0;32m    328\u001B[0m \u001B[39mif\u001B[39;00m request_method \u001B[39m==\u001B[39m \u001B[39m\"\u001B[39m\u001B[39mget\u001B[39m\u001B[39m\"\u001B[39m \u001B[39mand\u001B[39;00m \u001B[39mnot\u001B[39;00m __is_checksum_equal(response\u001B[39m.\u001B[39mtext, md5_checksum):\n\u001B[0;32m    329\u001B[0m     \u001B[39mraise\u001B[39;00m OpenMLHashException(\n\u001B[0;32m    330\u001B[0m         \u001B[39m\"\u001B[39m\u001B[39mChecksum of downloaded file is unequal to the expected checksum \u001B[39m\u001B[39m{}\u001B[39;00m\u001B[39m \u001B[39m\u001B[39m\"\u001B[39m\n\u001B[0;32m    331\u001B[0m         \u001B[39m\"\u001B[39m\u001B[39mwhen downloading \u001B[39m\u001B[39m{}\u001B[39;00m\u001B[39m.\u001B[39m\u001B[39m\"\u001B[39m\u001B[39m.\u001B[39mformat(md5_checksum, url)\n\u001B[0;32m    332\u001B[0m     )\n",
      "File \u001B[1;32mc:\\Users\\tpham\\Desktop\\Arbeit\\openml-skactiveml\\openml-scikit-activeml\\test_notebooks\\../../openml-python-OpenMLActiveClassificationTask\\openml\\_api_calls.py:377\u001B[0m, in \u001B[0;36m__check_response\u001B[1;34m(response, url, file_elements)\u001B[0m\n\u001B[0;32m    375\u001B[0m \u001B[39mdef\u001B[39;00m \u001B[39m__check_response\u001B[39m(response, url, file_elements):\n\u001B[0;32m    376\u001B[0m     \u001B[39mif\u001B[39;00m response\u001B[39m.\u001B[39mstatus_code \u001B[39m!=\u001B[39m \u001B[39m200\u001B[39m:\n\u001B[1;32m--> 377\u001B[0m         \u001B[39mraise\u001B[39;00m __parse_server_exception(response, url, file_elements\u001B[39m=\u001B[39mfile_elements)\n\u001B[0;32m    378\u001B[0m     \u001B[39melif\u001B[39;00m (\n\u001B[0;32m    379\u001B[0m         \u001B[39m\"\u001B[39m\u001B[39mContent-Encoding\u001B[39m\u001B[39m\"\u001B[39m \u001B[39mnot\u001B[39;00m \u001B[39min\u001B[39;00m response\u001B[39m.\u001B[39mheaders \u001B[39mor\u001B[39;00m response\u001B[39m.\u001B[39mheaders[\u001B[39m\"\u001B[39m\u001B[39mContent-Encoding\u001B[39m\u001B[39m\"\u001B[39m] \u001B[39m!=\u001B[39m \u001B[39m\"\u001B[39m\u001B[39mgzip\u001B[39m\u001B[39m\"\u001B[39m\n\u001B[0;32m    380\u001B[0m     ):\n\u001B[0;32m    381\u001B[0m         logging\u001B[39m.\u001B[39mwarning(\u001B[39m\"\u001B[39m\u001B[39mReceived uncompressed content from OpenML for \u001B[39m\u001B[39m{}\u001B[39;00m\u001B[39m.\u001B[39m\u001B[39m\"\u001B[39m\u001B[39m.\u001B[39mformat(url))\n",
      "\u001B[1;31mOpenMLServerException\u001B[0m: https://test.openml.org/api/v1/xml/run/ returned code 201: Please provide run xml - Filesize is 0 bytes, which is not allowed."
     ]
    }
   ],
   "source": [
    "run.publish()"
   ]
  },
  {
   "cell_type": "code",
   "execution_count": 7,
   "metadata": {},
   "outputs": [
    {
     "data": {
      "text/plain": [
       "OpenML Flow\n",
       "===========\n",
       "Flow ID.........: 84806 (version 21)\n",
       "Flow URL........: https://test.openml.org/f/84806\n",
       "Flow Name.......: sklearn.ensemble._forest.RandomForestClassifier\n",
       "Flow Description: A random forest classifier.\n",
       "\n",
       "A random forest is a meta estimator that fits a number of decision tree\n",
       "classifiers on various sub-samples of the dataset and uses averaging to\n",
       "improve the predictive accuracy and control over-fitting.\n",
       "The sub-sample size is controlled with the `max_samples` parameter if\n",
       "`bootstrap=True` (default), otherwise the whole dataset is used to build\n",
       "each tree.\n",
       "Upload Date.....: 2023-03-14 00:05:16\n",
       "Dependencies....: sklearn==1.2.2\n",
       "numpy>=1.17.3\n",
       "scipy>=1.3.2\n",
       "joblib>=1.1.1\n",
       "threadpoolctl>=2.0.0"
      ]
     },
     "execution_count": 7,
     "metadata": {},
     "output_type": "execute_result"
    }
   ],
   "source": [
    "run.flow.publish()"
   ]
  },
  {
   "cell_type": "code",
   "execution_count": 25,
   "metadata": {
    "ExecuteTime": {
     "end_time": "2023-05-11T13:34:32.754164934Z",
     "start_time": "2023-05-11T13:34:32.636347736Z"
    }
   },
   "outputs": [],
   "source": [
    "from sklearn.base import BaseEstimator\n",
    "from collections import defaultdict\n",
    "\n",
    "\n",
    "\n",
    "class PoolSkactivemlModel2():\n",
    "    def __init__(self, query_strategy, prediction_model, query_params, budget):\n",
    "        self.query_strategy = query_strategy\n",
    "        self.prediction_model = prediction_model\n",
    "        self.query_params = query_params\n",
    "        self.budget = budget\n",
    "    \n",
    "    def get_params(self, deep=True):\n",
    "        params_dict = {\n",
    "                \"query_params\": self.query_params,\n",
    "                \"budget\": self.budget,\n",
    "                \"query_strategy\":self.query_strategy,\n",
    "                \"prediction_model\":self.prediction_model\n",
    "            }\n",
    "        if deep:\n",
    "            params_dict_qs = self.query_strategy.get_params()\n",
    "            for k, v in params_dict_qs.items():\n",
    "                params_dict[f'query_strategy__{k}'] = v\n",
    "            params_dict_pm = self.prediction_model.get_params()\n",
    "            for k, v in params_dict_pm.items():\n",
    "                params_dict[f'prediction_model__{k}'] = v\n",
    "            for k, v in self.query_params.items():\n",
    "                params_dict[f'query_params+{k}'] = v\n",
    "                if hasattr(v, \"get_params\"):\n",
    "                    for k_sub, v_sub in v.get_params().items():\n",
    "                        params_dict[f'query_params+{k}__{k_sub}'] = v_sub\n",
    "        return params_dict\n",
    "\n",
    "    def set_params(self, **params):\n",
    "        if not params:\n",
    "            # Simple optimization to gain speed (inspect is slow)\n",
    "            return self\n",
    "        valid_params = self.get_params(deep=True)\n",
    "\n",
    "        nested_params = defaultdict(dict)  # grouped by prefix\n",
    "        for key, value in params.items():\n",
    "            key = key.replace(\"+\", \"__\")\n",
    "            key, delim, sub_key = key.partition(\"__\")\n",
    "            if key not in valid_params:\n",
    "                local_valid_params = [\"query_params\", \"budget\", \"query_strategy\", \"prediction_model\"]\n",
    "                raise ValueError(\n",
    "                    f\"Invalid parameter {key!r} for estimator {self}. \"\n",
    "                    f\"Valid parameters are: {local_valid_params!r}.\"\n",
    "                )\n",
    "            if delim:\n",
    "                nested_params[key][sub_key] = value\n",
    "            else:\n",
    "                setattr(self, key, value)\n",
    "                valid_params[key] = value\n",
    "\n",
    "        for key, sub_params in nested_params.items():\n",
    "            if key == \"query_params\":\n",
    "                query_nested_params = defaultdict(dict)  # grouped by prefix\n",
    "                key, delim, sub_key = key.partition(\"__\")\n",
    "                if delim:\n",
    "                    query_nested_params[key][sub_key] = value\n",
    "                else:\n",
    "                    setattr(self, key, value)\n",
    "                    valid_params[key] = value\n",
    "            else:\n",
    "                valid_params[key].set_params(**sub_params)\n",
    "\n",
    "\n",
    "\n",
    "\n",
    "        nested_params = defaultdict(dict)  # grouped by prefix\n",
    "        for key, value in params.items():\n",
    "            key, delim, sub_key = key.partition(\"__\")\n",
    "            if key not in valid_params:\n",
    "                local_valid_params = BaseEstimator._get_param_names()\n",
    "                raise ValueError(\n",
    "                    f\"Invalid parameter {key!r} for estimator {self}. \"\n",
    "                    f\"Valid parameters are: {local_valid_params!r}.\"\n",
    "                )\n",
    "\n",
    "            if delim:\n",
    "                nested_params[key][sub_key] = value\n",
    "            else:\n",
    "                setattr(self, key, value)\n",
    "                valid_params[key] = value\n",
    "\n",
    "        for key, sub_params in nested_params.items():\n",
    "            valid_params[key].set_params(**sub_params)\n",
    "\n",
    "        return self"
   ]
  },
  {
   "cell_type": "code",
   "execution_count": 43,
   "metadata": {
    "ExecuteTime": {
     "end_time": "2023-05-11T14:21:51.178252042Z",
     "start_time": "2023-05-11T14:21:51.062567424Z"
    }
   },
   "outputs": [
    {
     "ename": "AttributeError",
     "evalue": "'dict' object has no attribute 'set_params'",
     "output_type": "error",
     "traceback": [
      "\u001B[0;31m---------------------------------------------------------------------------\u001B[0m",
      "\u001B[0;31mAttributeError\u001B[0m                            Traceback (most recent call last)",
      "Cell \u001B[0;32mIn[43], line 6\u001B[0m\n\u001B[1;32m      4\u001B[0m clf \u001B[38;5;241m=\u001B[39m BaggingClassifier(ParzenWindowClassifier())\n\u001B[1;32m      5\u001B[0m obj \u001B[38;5;241m=\u001B[39m PoolSkactivemlModel(query_strategy\u001B[38;5;241m=\u001B[39mqs, prediction_model\u001B[38;5;241m=\u001B[39mclf, query_params\u001B[38;5;241m=\u001B[39m{\u001B[38;5;124m'\u001B[39m\u001B[38;5;124mclf\u001B[39m\u001B[38;5;124m'\u001B[39m: clf}, budget\u001B[38;5;241m=\u001B[39m\u001B[38;5;241m5\u001B[39m)\n\u001B[0;32m----> 6\u001B[0m \u001B[43mobj\u001B[49m\u001B[38;5;241;43m.\u001B[39;49m\u001B[43mset_params\u001B[49m\u001B[43m(\u001B[49m\u001B[43mquery_params__cost_matrix\u001B[49m\u001B[38;5;241;43m=\u001B[39;49m\u001B[38;5;28;43;01mNone\u001B[39;49;00m\u001B[43m)\u001B[49m\n\u001B[1;32m      7\u001B[0m d1 \u001B[38;5;241m=\u001B[39m obj\u001B[38;5;241m.\u001B[39mget_params()\n\u001B[1;32m      8\u001B[0m \u001B[38;5;28mprint\u001B[39m(d1)\n",
      "File \u001B[0;32m~/miniconda3/envs/openml-skactiveml/lib/python3.9/site-packages/sklearn/base.py:236\u001B[0m, in \u001B[0;36mBaseEstimator.set_params\u001B[0;34m(self, **params)\u001B[0m\n\u001B[1;32m    228\u001B[0m         warnings\u001B[38;5;241m.\u001B[39mwarn(\n\u001B[1;32m    229\u001B[0m             \u001B[38;5;124mf\u001B[39m\u001B[38;5;124m\"\u001B[39m\u001B[38;5;124mParameter \u001B[39m\u001B[38;5;124m'\u001B[39m\u001B[38;5;124mbase_estimator\u001B[39m\u001B[38;5;124m'\u001B[39m\u001B[38;5;124m of \u001B[39m\u001B[38;5;132;01m{\u001B[39;00m\u001B[38;5;28mself\u001B[39m\u001B[38;5;241m.\u001B[39m\u001B[38;5;18m__class__\u001B[39m\u001B[38;5;241m.\u001B[39m\u001B[38;5;18m__name__\u001B[39m\u001B[38;5;132;01m}\u001B[39;00m\u001B[38;5;124m is\u001B[39m\u001B[38;5;124m\"\u001B[39m\n\u001B[1;32m    230\u001B[0m             \u001B[38;5;124m\"\u001B[39m\u001B[38;5;124m deprecated in favor of \u001B[39m\u001B[38;5;124m'\u001B[39m\u001B[38;5;124mestimator\u001B[39m\u001B[38;5;124m'\u001B[39m\u001B[38;5;124m. See\u001B[39m\u001B[38;5;124m\"\u001B[39m\n\u001B[0;32m   (...)\u001B[0m\n\u001B[1;32m    233\u001B[0m             stacklevel\u001B[38;5;241m=\u001B[39m\u001B[38;5;241m2\u001B[39m,\n\u001B[1;32m    234\u001B[0m         )\n\u001B[1;32m    235\u001B[0m         key \u001B[38;5;241m=\u001B[39m \u001B[38;5;124m\"\u001B[39m\u001B[38;5;124mestimator\u001B[39m\u001B[38;5;124m\"\u001B[39m\n\u001B[0;32m--> 236\u001B[0m     \u001B[43mvalid_params\u001B[49m\u001B[43m[\u001B[49m\u001B[43mkey\u001B[49m\u001B[43m]\u001B[49m\u001B[38;5;241;43m.\u001B[39;49m\u001B[43mset_params\u001B[49m(\u001B[38;5;241m*\u001B[39m\u001B[38;5;241m*\u001B[39msub_params)\n\u001B[1;32m    238\u001B[0m \u001B[38;5;28;01mreturn\u001B[39;00m \u001B[38;5;28mself\u001B[39m\n",
      "\u001B[0;31mAttributeError\u001B[0m: 'dict' object has no attribute 'set_params'"
     ]
    }
   ],
   "source": [
    "from sklearn.ensemble import BaggingClassifier\n",
    "from skactiveml.pool import UncertaintySampling\n",
    "qs = UncertaintySampling()\n",
    "clf = BaggingClassifier(ParzenWindowClassifier())\n",
    "obj = PoolSkactivemlModel(query_strategy=qs, prediction_model=clf, query_params={'clf': clf}, budget=5)\n",
    "obj.set_params(query_params__cost_matrix=None)\n",
    "d1 = obj.get_params()\n",
    "print(d1)"
   ]
  },
  {
   "cell_type": "code",
   "execution_count": 27,
   "metadata": {
    "ExecuteTime": {
     "end_time": "2023-05-11T13:34:34.374790709Z",
     "start_time": "2023-05-11T13:34:34.230203344Z"
    }
   },
   "outputs": [
    {
     "data": {
      "text/plain": "{'query_params': {'clf': BaggingClassifier(estimator=ParzenWindowClassifier())},\n 'budget': 5,\n 'query_strategy': UncertaintySampling(),\n 'prediction_model': BaggingClassifier(estimator=ParzenWindowClassifier()),\n 'query_strategy__cost_matrix': None,\n 'query_strategy__method': 'least_confident',\n 'query_strategy__missing_label': nan,\n 'query_strategy__random_state': None,\n 'prediction_model__base_estimator': 'deprecated',\n 'prediction_model__bootstrap': True,\n 'prediction_model__bootstrap_features': False,\n 'prediction_model__estimator__class_prior': 0.0,\n 'prediction_model__estimator__classes': None,\n 'prediction_model__estimator__cost_matrix': None,\n 'prediction_model__estimator__metric': 'rbf',\n 'prediction_model__estimator__metric_dict': None,\n 'prediction_model__estimator__missing_label': nan,\n 'prediction_model__estimator__n_neighbors': None,\n 'prediction_model__estimator__random_state': None,\n 'prediction_model__estimator': ParzenWindowClassifier(),\n 'prediction_model__max_features': 1.0,\n 'prediction_model__max_samples': 1.0,\n 'prediction_model__n_estimators': 10,\n 'prediction_model__n_jobs': None,\n 'prediction_model__oob_score': False,\n 'prediction_model__random_state': None,\n 'prediction_model__verbose': 0,\n 'prediction_model__warm_start': False,\n 'query_params+clf': BaggingClassifier(estimator=ParzenWindowClassifier()),\n 'query_params+clf__base_estimator': 'deprecated',\n 'query_params+clf__bootstrap': True,\n 'query_params+clf__bootstrap_features': False,\n 'query_params+clf__estimator__class_prior': 0.0,\n 'query_params+clf__estimator__classes': None,\n 'query_params+clf__estimator__cost_matrix': None,\n 'query_params+clf__estimator__metric': 'rbf',\n 'query_params+clf__estimator__metric_dict': None,\n 'query_params+clf__estimator__missing_label': nan,\n 'query_params+clf__estimator__n_neighbors': None,\n 'query_params+clf__estimator__random_state': None,\n 'query_params+clf__estimator': ParzenWindowClassifier(),\n 'query_params+clf__max_features': 1.0,\n 'query_params+clf__max_samples': 1.0,\n 'query_params+clf__n_estimators': 10,\n 'query_params+clf__n_jobs': None,\n 'query_params+clf__oob_score': False,\n 'query_params+clf__random_state': None,\n 'query_params+clf__verbose': 0,\n 'query_params+clf__warm_start': False}"
     },
     "execution_count": 27,
     "metadata": {},
     "output_type": "execute_result"
    }
   ],
   "source": [
    "obj2 = PoolSkactivemlModel2(query_strategy=qs, prediction_model=clf, query_params={'clf': clf}, budget=5)\n",
    "d2 = obj2.get_params()\n",
    "d2"
   ]
  },
  {
   "cell_type": "code",
   "execution_count": 18,
   "metadata": {
    "ExecuteTime": {
     "end_time": "2023-05-11T13:27:30.453416465Z",
     "start_time": "2023-05-11T13:27:30.232132660Z"
    }
   },
   "outputs": [
    {
     "name": "stdout",
     "output_type": "stream",
     "text": [
      "budget: True\n",
      "prediction_model__base_estimator: True\n",
      "prediction_model__bootstrap: True\n",
      "prediction_model__bootstrap_features: True\n",
      "prediction_model__estimator__class_prior: True\n",
      "prediction_model__estimator__classes: True\n",
      "prediction_model__estimator__cost_matrix: True\n",
      "prediction_model__estimator__metric: True\n",
      "prediction_model__estimator__metric_dict: True\n",
      "prediction_model__estimator__missing_label: False\n",
      "prediction_model__estimator__n_neighbors: True\n",
      "prediction_model__estimator__random_state: True\n",
      "prediction_model__estimator: True\n",
      "prediction_model__max_features: True\n",
      "prediction_model__max_samples: True\n",
      "prediction_model__n_estimators: True\n",
      "prediction_model__n_jobs: True\n",
      "prediction_model__oob_score: True\n",
      "prediction_model__random_state: True\n",
      "prediction_model__verbose: True\n",
      "prediction_model__warm_start: True\n",
      "prediction_model: True\n",
      "query_params: True\n",
      "query_strategy__cost_matrix: True\n",
      "query_strategy__method: True\n",
      "query_strategy__missing_label: False\n",
      "query_strategy__random_state: True\n",
      "query_strategy: True\n"
     ]
    }
   ],
   "source": [
    "for k, v in d1.items():\n",
    "    print(f\"{k}: {v == d2[k]}\")"
   ]
  },
  {
   "cell_type": "code",
   "execution_count": 143,
   "metadata": {},
   "outputs": [
    {
     "data": {
      "text/plain": [
       "True"
      ]
     },
     "execution_count": 143,
     "metadata": {},
     "output_type": "execute_result"
    }
   ],
   "source": [
    "{'a':1,'b':1}=={'a':1,'b':1}"
   ]
  },
  {
   "cell_type": "code",
   "execution_count": 82,
   "metadata": {},
   "outputs": [
    {
     "data": {
      "text/plain": [
       "True"
      ]
     },
     "execution_count": 82,
     "metadata": {},
     "output_type": "execute_result"
    }
   ],
   "source": [
    "obj = PoolSkactivemlModel(1,2,3,4)\n",
    "isinstance(obj, sklearn.base.BaseEstimator)\n",
    "# issubclass(PoolSkactivemlModel, PoolSkactivemlModel)"
   ]
  },
  {
   "cell_type": "code",
   "execution_count": 53,
   "metadata": {},
   "outputs": [],
   "source": [
    "PoolSkactivemlModel.__bases__\n",
    "obj.__bases__"
   ]
  },
  {
   "cell_type": "code",
   "execution_count": 54,
   "metadata": {},
   "outputs": [
    {
     "data": {
      "text/plain": [
       "(sklearn.base.BaseEstimator,)"
      ]
     },
     "execution_count": 54,
     "metadata": {},
     "output_type": "execute_result"
    }
   ],
   "source": [
    "PoolSkactivemlModel.__bases__"
   ]
  },
  {
   "cell_type": "code",
   "execution_count": 56,
   "metadata": {
    "ExecuteTime": {
     "end_time": "2023-05-11T15:01:14.046850426Z",
     "start_time": "2023-05-11T15:01:13.968597845Z"
    }
   },
   "outputs": [
    {
     "name": "stdout",
     "output_type": "stream",
     "text": [
      "False\n",
      "True\n",
      "PoolSkactivemlModel(budget=5,\n",
      "                    prediction_model=BaggingClassifier(estimator=ParzenWindowClassifier()),\n",
      "                    query_params={'clf': BaggingClassifier(estimator=ParzenWindowClassifier())},\n",
      "                    query_strategy=UncertaintySampling())\n"
     ]
    }
   ],
   "source": [
    "from sklearn.base import BaseEstimator\n",
    "\n",
    "class PoolSkactivemlModel():\n",
    "        def __init__(self, query_strategy, prediction_model, query_params, budget):\n",
    "            self.query_strategy = query_strategy\n",
    "            self.prediction_model = prediction_model\n",
    "            self.query_params = query_params\n",
    "            self.budget = budget\n",
    "\n",
    "def _wrap_skactiveml_model(clf, model):\n",
    "    class PoolSkactivemlModel(BaseEstimator):\n",
    "        def __init__(self, query_strategy, prediction_model, query_params, budget):\n",
    "            self.query_strategy = query_strategy\n",
    "            self.prediction_model = prediction_model\n",
    "            self.query_params = query_params\n",
    "            self.budget = budget\n",
    "\n",
    "    return PoolSkactivemlModel(\n",
    "        query_strategy=model.query_strategy,\n",
    "        prediction_model=model.prediction_model,\n",
    "        query_params=model.query_params,\n",
    "        budget=model.budget,\n",
    "    )\n",
    "\n",
    "obj = PoolSkactivemlModel(query_strategy=qs, prediction_model=clf, query_params={'clf': clf}, budget=5)\n",
    "print(isinstance(obj, BaseEstimator))\n",
    "obj_new = _wrap_skactiveml_model(_, obj)\n",
    "print(isinstance(obj_new, BaseEstimator))\n",
    "print(obj_new)"
   ]
  },
  {
   "cell_type": "code",
   "execution_count": 58,
   "outputs": [
    {
     "ename": "AttributeError",
     "evalue": "'PoolSkactivemlModel' object has no attribute 'get_params'",
     "output_type": "error",
     "traceback": [
      "\u001B[0;31m---------------------------------------------------------------------------\u001B[0m",
      "\u001B[0;31mAttributeError\u001B[0m                            Traceback (most recent call last)",
      "Cell \u001B[0;32mIn[58], line 1\u001B[0m\n\u001B[0;32m----> 1\u001B[0m \u001B[43mobj\u001B[49m\u001B[38;5;241;43m.\u001B[39;49m\u001B[43mget_params\u001B[49m()\n",
      "\u001B[0;31mAttributeError\u001B[0m: 'PoolSkactivemlModel' object has no attribute 'get_params'"
     ]
    }
   ],
   "source": [
    "obj.get_params()"
   ],
   "metadata": {
    "collapsed": false,
    "ExecuteTime": {
     "end_time": "2023-05-11T15:01:22.545010893Z",
     "start_time": "2023-05-11T15:01:22.497925340Z"
    }
   }
  },
  {
   "cell_type": "code",
   "execution_count": null,
   "outputs": [],
   "source": [],
   "metadata": {
    "collapsed": false
   }
  }
 ],
 "metadata": {
  "interpreter": {
   "hash": "b1686965f4865d96dc103f8dbe26a21474def9bc9131d2b1aa2fd03680a1d89b"
  },
  "kernelspec": {
   "display_name": "Python 3.8.5 ('wsp')",
   "language": "python",
   "name": "python3"
  },
  "language_info": {
   "codemirror_mode": {
    "name": "ipython",
    "version": 3
   },
   "file_extension": ".py",
   "mimetype": "text/x-python",
   "name": "python",
   "nbconvert_exporter": "python",
   "pygments_lexer": "ipython3",
   "version": "3.9.16"
  },
  "orig_nbformat": 4
 },
 "nbformat": 4,
 "nbformat_minor": 2
}
