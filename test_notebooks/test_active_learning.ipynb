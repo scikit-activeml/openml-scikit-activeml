{
 "cells": [
  {
   "cell_type": "code",
   "execution_count": 1,
   "metadata": {
    "ExecuteTime": {
     "end_time": "2023-08-16T15:12:38.846298843Z",
     "start_time": "2023-08-16T15:12:38.765086773Z"
    }
   },
   "outputs": [
    {
     "name": "stderr",
     "output_type": "stream",
     "text": [
      "c:\\Users\\tpham\\Desktop\\Arbeit\\openml-skactiveml\\openml-python-OpenMLActiveClassificationTask\\openml\\config.py:184: UserWarning: Switching to the test server https://test.openml.org/api/v1/xml to not upload results to the live server. Using the test server may result in reduced performance of the API!\n",
      "  warnings.warn(\n"
     ]
    }
   ],
   "source": [
    "%load_ext autoreload\n",
    "%autoreload 2\n",
    "\n",
    "import sys\n",
    "sys.path.extend([\n",
    "    'openml-python-OpenMLActiveClassificationTask/',\n",
    "    'openml-scikit-activeml/',\n",
    "    '../../openml-python-OpenMLActiveClassificationTask/',\n",
    "    '../../openml-scikit-activeml/',\n",
    "])\n",
    "\n",
    "from openml import config, tasks, runs, flows\n",
    "from openml_skactiveml import PoolSkactivemlModel\n",
    "from skactiveml.classifier import ParzenWindowClassifier, MixtureModelClassifier, SklearnClassifier\n",
    "from skactiveml.pool import RandomSampling, UncertaintySampling, ProbabilisticAL, GreedySamplingX, DiscriminativeAL\n",
    "from sklearn.tree import DecisionTreeClassifier\n",
    "from sklearn.ensemble import RandomForestClassifier\n",
    "\n",
    "from shutil import rmtree\n",
    "\n",
    "config.start_using_configuration_for_example()\n",
    "rmtree(config.cache_directory)"
   ]
  },
  {
   "cell_type": "code",
   "execution_count": 2,
   "metadata": {
    "ExecuteTime": {
     "end_time": "2023-08-16T15:12:39.168764073Z",
     "start_time": "2023-08-16T15:12:39.071724591Z"
    }
   },
   "outputs": [
    {
     "data": {
      "text/plain": [
       "OpenML Active Classification Task\n",
       "=================================\n",
       "Task Type Description: https://test.openml.org/tt/TaskType.ACTIVE_CLASSIFICATION\n",
       "Task ID..............: 1305\n",
       "Task URL.............: https://test.openml.org/t/1305\n",
       "Estimation Procedure.: crossvalidation\n",
       "Evaluation Measure...: predictive_accuracy\n",
       "Target Feature.......: class\n",
       "# of Classes.........: 3\n",
       "Cost Matrix..........: Available"
      ]
     },
     "execution_count": 2,
     "metadata": {},
     "output_type": "execute_result"
    }
   ],
   "source": [
    "# task_id = 1328\n",
    "task_id = 1305\n",
    "task = tasks.get_task(task_id)\n",
    "task"
   ]
  },
  {
   "cell_type": "code",
   "execution_count": 3,
   "metadata": {
    "ExecuteTime": {
     "end_time": "2023-08-16T15:13:12.891591540Z",
     "start_time": "2023-08-16T15:13:04.469211542Z"
    }
   },
   "outputs": [
    {
     "data": {
      "text/plain": [
       "OpenML Run\n",
       "==========\n",
       "Uploader Name: None\n",
       "Metric.......: None\n",
       "Run ID.......: None\n",
       "Task ID......: 1305\n",
       "Task Type....: None\n",
       "Task URL.....: https://test.openml.org/t/1305\n",
       "Flow ID......: None\n",
       "Flow Name....: openml_skactiveml.extension.PoolSkactivemlModel(prediction_model=skactiveml.classifier._wrapper.SklearnClassifier(estimator=sklearn.ensemble._forest.RandomForestClassifier),query_strategy=skactiveml.pool._random_sampling.RandomSampling)\n",
       "Flow URL.....: https://test.openml.org/f/None\n",
       "Setup ID.....: None\n",
       "Setup String.: Python_3.9.16. Sklearn_1.2.2. NumPy_1.24.3. SciPy_1.9.3.\n",
       "Dataset ID...: 128\n",
       "Dataset URL..: https://test.openml.org/d/128"
      ]
     },
     "execution_count": 3,
     "metadata": {},
     "output_type": "execute_result"
    }
   ],
   "source": [
    "# model = PoolSkactivemlModel(\n",
    "#     query_strategy=GreedySamplingX(missing_label=None),\n",
    "#     prediction_model=ParzenWindowClassifier(missing_label=None, classes=None, class_prior=0),\n",
    "#     #selection_model_name=\"clf\",\n",
    "#     #selection_model=ParzenWindowClassifier(missing_label=None, classes=task.class_labels, class_prior=0),\n",
    "#     budget=10000,\n",
    "# )\n",
    "# model = PoolSkactivemlModel(\n",
    "#     query_strategy=RandomSampling(missing_label=None),\n",
    "#     prediction_model=MixtureModelClassifier(missing_label=None, classes=None, class_prior=0),\n",
    "#     #selection_model_name=\"clf\",\n",
    "#     #selection_model=ParzenWindowClassifier(missing_label=None, classes=task.class_labels, class_prior=0),\n",
    "#     budget=10000,\n",
    "# )\n",
    "# model = PoolSkactivemlModel(\n",
    "#     query_strategy=RandomSampling(missing_label=None),\n",
    "#     prediction_model=SklearnClassifier(estimator=DecisionTreeClassifier(), missing_label=None, classes=None),\n",
    "#     #selection_model_name=\"clf\",\n",
    "#     #selection_model=ParzenWindowClassifier(missing_label=None, classes=task.class_labels, class_prior=0),\n",
    "#     budget=10000,\n",
    "# )\n",
    "# model = PoolSkactivemlModel(\n",
    "#     query_strategy=DiscriminativeAL(missing_label=None),\n",
    "#     prediction_model=MixtureModelClassifier(missing_label=None, classes=None, class_prior=0),\n",
    "#     selection_model_name=\"discriminator\",\n",
    "#     selection_model=ParzenWindowClassifier(missing_label=None, classes=None, class_prior=0),\n",
    "#     budget=10000,\n",
    "# )\n",
    "# model = PoolSkactivemlModel(\n",
    "#     query_strategy=RandomSampling(missing_label=None),\n",
    "#     prediction_model=SklearnClassifier(estimator=DecisionTreeClassifier(), missing_label=None, classes=None),\n",
    "#     #selection_model_name=\"clf\",\n",
    "#     #selection_model=ParzenWindowClassifier(missing_label=None, classes=task.class_labels, class_prior=0),\n",
    "#     budget=10000,\n",
    "# )\n",
    "model = PoolSkactivemlModel(\n",
    "    query_strategy=RandomSampling(missing_label=None),\n",
    "    prediction_model=SklearnClassifier(estimator=RandomForestClassifier(), missing_label=None, classes=None),\n",
    "    #selection_model_name=\"clf\",\n",
    "    #selection_model=ParzenWindowClassifier(missing_label=None, classes=task.class_labels, class_prior=0),\n",
    "    budget=10000,\n",
    ")\n",
    "\n",
    "run = runs.run_model_on_task(\n",
    "    model,\n",
    "    task,\n",
    "    upload_flow=False,\n",
    "    avoid_duplicate_runs=False,\n",
    "    n_jobs=1,\n",
    "    seed=0\n",
    ")\n",
    "run"
   ]
  },
  {
   "cell_type": "code",
   "execution_count": 4,
   "metadata": {
    "ExecuteTime": {
     "end_time": "2023-08-16T15:13:18.285970885Z",
     "start_time": "2023-08-16T15:13:16.205631567Z"
    }
   },
   "outputs": [
    {
     "data": {
      "text/plain": [
       "OpenML Run\n",
       "==========\n",
       "Uploader Name: None\n",
       "Metric.......: None\n",
       "Run ID.......: 52\n",
       "Run URL......: https://test.openml.org/r/52\n",
       "Task ID......: 1305\n",
       "Task Type....: None\n",
       "Task URL.....: https://test.openml.org/t/1305\n",
       "Flow ID......: 5425\n",
       "Flow Name....: openml_skactiveml.extension.PoolSkactivemlModel(prediction_model=skactiveml.classifier._wrapper.SklearnClassifier(estimator=sklearn.ensemble._forest.RandomForestClassifier),query_strategy=skactiveml.pool._random_sampling.RandomSampling)\n",
       "Flow URL.....: https://test.openml.org/f/5425\n",
       "Setup ID.....: None\n",
       "Setup String.: Python_3.9.16. Sklearn_1.2.2. NumPy_1.24.3. SciPy_1.9.3.\n",
       "Dataset ID...: 128\n",
       "Dataset URL..: https://test.openml.org/d/128"
      ]
     },
     "execution_count": 4,
     "metadata": {},
     "output_type": "execute_result"
    }
   ],
   "source": [
    "run.publish()"
   ]
  },
  {
   "cell_type": "code",
   "execution_count": 5,
   "metadata": {
    "ExecuteTime": {
     "end_time": "2023-08-16T15:13:32.294402213Z",
     "start_time": "2023-08-16T15:13:32.223060546Z"
    },
    "collapsed": false
   },
   "outputs": [
    {
     "name": "stdout",
     "output_type": "stream",
     "text": [
      "OpenML Flow\n",
      "===========\n",
      "Flow ID.........: 5425 (version 1)\n",
      "Flow URL........: https://test.openml.org/f/5425\n",
      "Flow Name.......: openml_skactiveml.extension.PoolSkactivemlModel(prediction_model=skactiveml.classifier._wrapper.SklearnClassifier(estimator=sklearn.ensemble._forest.RandomForestClassifier),query_strategy=skactiveml.pool._random_sampling.RandomSampling)\n",
      "Flow Description: Pool Skactiveml Model\n",
      "\n",
      "This class implements the model that is used for an active learning \n",
      "experiment. It consists of the query_strategy, a prediction model,\n",
      "a selection model (if applicable), extra query parameters and the\n",
      "budget.\n",
      "Upload Date.....: 2023-10-30 16:02:09\n",
      "Dependencies....: sklearn==1.2.2\n",
      "numpy>=1.17.3\n",
      "scipy>=1.3.2\n",
      "joblib>=1.1.1\n",
      "threadpoolctl>=2.0.0\n"
     ]
    }
   ],
   "source": [
    "flow = flows.get_flow(run.flow_id)\n",
    "print(flow)"
   ]
  },
  {
   "cell_type": "code",
   "execution_count": 6,
   "metadata": {
    "ExecuteTime": {
     "end_time": "2023-08-16T15:13:38.068327400Z",
     "start_time": "2023-08-16T15:13:37.889300880Z"
    },
    "collapsed": false
   },
   "outputs": [
    {
     "name": "stdout",
     "output_type": "stream",
     "text": [
      "OpenML Run\n",
      "==========\n",
      "Uploader Name...: Test Test\n",
      "Uploader Profile: https://test.openml.org/u/3229\n",
      "Metric..........: predictive_accuracy\n",
      "Run ID..........: 52\n",
      "Run URL.........: https://test.openml.org/r/52\n",
      "Task ID.........: 1305\n",
      "Task Type.......: Active Classification\n",
      "Task URL........: https://test.openml.org/t/1305\n",
      "Flow ID.........: 5425\n",
      "Flow Name.......: openml_skactiveml.extension.PoolSkactivemlModel(prediction_model=skactiveml.classifier._wrapper.SklearnClassifier(estimator=sklearn.ensemble._forest.RandomForestClassifier),query_strategy=skactiveml.pool._random_sampling.RandomSampling)(1)\n",
      "Flow URL........: https://test.openml.org/f/5425\n",
      "Setup ID........: 32\n",
      "Setup String....: Python_3.9.16. Sklearn_1.2.2. NumPy_1.24.3. SciPy_1.9.3.\n",
      "Dataset ID......: 128\n",
      "Dataset URL.....: https://test.openml.org/d/128\n"
     ]
    }
   ],
   "source": [
    "run = runs.get_run(run.run_id, ignore_cache=True)\n",
    "print(run)"
   ]
  },
  {
   "cell_type": "code",
   "execution_count": 7,
   "metadata": {
    "ExecuteTime": {
     "end_time": "2023-08-16T15:13:41.002067038Z",
     "start_time": "2023-08-16T15:13:39.020902336Z"
    },
    "collapsed": false
   },
   "outputs": [
    {
     "name": "stdout",
     "output_type": "stream",
     "text": [
      "Index(['repeat', 'fold', 'cycle', 'budget', 'row_id', 'confidence.Iris-setosa',\n",
      "       'confidence.Iris-versicolor', 'confidence.Iris-virginica', 'prediction',\n",
      "       'correct'],\n",
      "      dtype='object')\n"
     ]
    },
    {
     "data": {
      "text/plain": [
       "<ErrorbarContainer object of 3 artists>"
      ]
     },
     "execution_count": 7,
     "metadata": {},
     "output_type": "execute_result"
    },
    {
     "data": {
      "image/png": "[encoded data removed]",
      "text/plain": [
       "<Figure size 640x480 with 1 Axes>"
      ]
     },
     "metadata": {},
     "output_type": "display_data"
    }
   ],
   "source": [
    "res = run.predictions\n",
    "print(res.columns)\n",
    "res[\"is_correct\"] = res[\"prediction\"] == res[\"correct\"]\n",
    "import matplotlib.pyplot as plt\n",
    "import numpy as np\n",
    "grouped_res = res.groupby([\"cycle\"])[\"is_correct\"]\n",
    "plt.errorbar(x=np.arange(len(grouped_res)), y=grouped_res.mean(), yerr=grouped_res.std())"
   ]
  },
  {
   "cell_type": "code",
   "execution_count": 8,
   "metadata": {},
   "outputs": [],
   "source": [
    "# using sklearn flows together with skactiveml flows does not work yet\n",
    "flow = flows.get_flow(run.flow_id)\n",
    "run2 = runs.run_flow_on_task(flow, task, avoid_duplicate_runs=False, upload_flow=False, n_jobs=-1, seed=0)"
   ]
  },
  {
   "cell_type": "code",
   "execution_count": 9,
   "metadata": {},
   "outputs": [
    {
     "name": "stdout",
     "output_type": "stream",
     "text": [
      "Index(['repeat', 'fold', 'cycle', 'budget', 'row_id', 'confidence.Iris-setosa',\n",
      "       'confidence.Iris-versicolor', 'confidence.Iris-virginica', 'prediction',\n",
      "       'correct'],\n",
      "      dtype='object')\n"
     ]
    },
    {
     "data": {
      "text/plain": [
       "<ErrorbarContainer object of 3 artists>"
      ]
     },
     "execution_count": 9,
     "metadata": {},
     "output_type": "execute_result"
    },
    {
     "data": {
      "image/png": "[encoded data removed]",
      "text/plain": [
       "<Figure size 640x480 with 1 Axes>"
      ]
     },
     "metadata": {},
     "output_type": "display_data"
    }
   ],
   "source": [
    "res = run2.predictions\n",
    "print(res.columns)\n",
    "res[\"is_correct\"] = res[\"prediction\"] == res[\"correct\"]\n",
    "import matplotlib.pyplot as plt\n",
    "import numpy as np\n",
    "grouped_res = res.groupby([\"cycle\"])[\"is_correct\"]\n",
    "plt.errorbar(x=np.arange(len(grouped_res)), y=grouped_res.mean(), yerr=grouped_res.std())"
   ]
  },
  {
   "cell_type": "code",
   "execution_count": 10,
   "metadata": {},
   "outputs": [
    {
     "data": {
      "text/plain": [
       "OpenML Flow\n",
       "===========\n",
       "Flow ID.........: 5425 (version 1)\n",
       "Flow URL........: https://test.openml.org/f/5425\n",
       "Flow Name.......: openml_skactiveml.extension.PoolSkactivemlModel(prediction_model=skactiveml.classifier._wrapper.SklearnClassifier(estimator=sklearn.ensemble._forest.RandomForestClassifier),query_strategy=skactiveml.pool._random_sampling.RandomSampling)\n",
       "Flow Description: Pool Skactiveml Model\n",
       "\n",
       "This class implements the model that is used for an active learning \n",
       "experiment. It consists of the query_strategy, a prediction model,\n",
       "a selection model (if applicable), extra query parameters and the\n",
       "budget.\n",
       "Upload Date.....: 2023-10-30 16:02:09\n",
       "Dependencies....: sklearn==1.2.2\n",
       "numpy>=1.17.3\n",
       "scipy>=1.3.2\n",
       "joblib>=1.1.1\n",
       "threadpoolctl>=2.0.0"
      ]
     },
     "execution_count": 10,
     "metadata": {},
     "output_type": "execute_result"
    }
   ],
   "source": [
    "run2.flow"
   ]
  },
  {
   "cell_type": "code",
   "execution_count": null,
   "metadata": {},
   "outputs": [],
   "source": []
  }
 ],
 "metadata": {
  "interpreter": {
   "hash": "b1686965f4865d96dc103f8dbe26a21474def9bc9131d2b1aa2fd03680a1d89b"
  },
  "kernelspec": {
   "display_name": "Python 3.8.5 ('wsp')",
   "language": "python",
   "name": "python3"
  },
  "language_info": {
   "codemirror_mode": {
    "name": "ipython",
    "version": 3
   },
   "file_extension": ".py",
   "mimetype": "text/x-python",
   "name": "python",
   "nbconvert_exporter": "python",
   "pygments_lexer": "ipython3",
   "version": "3.9.16"
  },
  "orig_nbformat": 4
 },
 "nbformat": 4,
 "nbformat_minor": 2
}
