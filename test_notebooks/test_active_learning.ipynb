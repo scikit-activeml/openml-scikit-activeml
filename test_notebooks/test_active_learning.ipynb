{
 "cells": [
  {
   "cell_type": "code",
   "execution_count": 5,
   "metadata": {
    "ExecuteTime": {
     "end_time": "2023-08-16T15:12:38.846298843Z",
     "start_time": "2023-08-16T15:12:38.765086773Z"
    }
   },
   "outputs": [
    {
     "name": "stdout",
     "output_type": "stream",
     "text": [
      "The autoreload extension is already loaded. To reload it, use:\n",
      "  %reload_ext autoreload\n"
     ]
    }
   ],
   "source": [
    "%load_ext autoreload\n",
    "%autoreload 2\n",
    "\n",
    "import sys\n",
    "sys.path.extend([\n",
    "    'openml-python-OpenMLActiveClassificationTask/',\n",
    "    'openml-scikit-activeml/',\n",
    "    '../../openml-python-OpenMLActiveClassificationTask/',\n",
    "    '../../openml-scikit-activeml/',\n",
    "])\n",
    "\n",
    "from openml import config, tasks, runs, flows\n",
    "from openml_skactiveml import PoolSkactivemlModel\n",
    "from skactiveml.classifier import ParzenWindowClassifier\n",
    "from skactiveml.pool import RandomSampling, UncertaintySampling, ProbabilisticAL, GreedySamplingX\n",
    "\n",
    "config.start_using_configuration_for_example()"
   ]
  },
  {
   "cell_type": "code",
   "execution_count": 6,
   "metadata": {
    "ExecuteTime": {
     "end_time": "2023-08-16T15:12:39.168764073Z",
     "start_time": "2023-08-16T15:12:39.071724591Z"
    }
   },
   "outputs": [
    {
     "data": {
      "text/plain": "OpenML Active Classification Task\n=================================\nTask Type Description: https://test.openml.org/tt/TaskType.ACTIVE_CLASSIFICATION\nTask ID..............: 1328\nTask URL.............: https://test.openml.org/t/1328\nEstimation Procedure.: crossvalidation\nEvaluation Measure...: predictive_accuracy\nTarget Feature.......: class\n# of Classes.........: 3\nCost Matrix..........: Available"
     },
     "execution_count": 6,
     "metadata": {},
     "output_type": "execute_result"
    }
   ],
   "source": [
    "task_id = 1328\n",
    "task = tasks.get_task(task_id)\n",
    "task"
   ]
  },
  {
   "cell_type": "code",
   "execution_count": 8,
   "metadata": {
    "ExecuteTime": {
     "end_time": "2023-08-16T15:13:12.891591540Z",
     "start_time": "2023-08-16T15:13:04.469211542Z"
    }
   },
   "outputs": [
    {
     "name": "stdout",
     "output_type": "stream",
     "text": [
      "openml==0.13.1.dev,skactiveml==0.4.1,\n",
      "numpy>=1.17.3\n",
      "scipy>=1.3.2\n",
      "joblib>=1.1.1\n",
      "threadpoolctl>=2.0.0\n",
      "openml==0.13.1.dev,skactiveml==0.4.1,\n",
      "numpy>=1.17.3\n",
      "scipy>=1.3.2\n",
      "joblib>=1.1.1\n",
      "threadpoolctl>=2.0.0\n",
      ",openml==0.13.1.dev,openml_skactiveml==0.0.1,skactiveml==0.4.1,\n",
      "numpy>=1.17.3\n",
      "scipy>=1.3.2\n",
      "joblib>=1.1.1\n",
      "threadpoolctl>=2.0.0\n"
     ]
    },
    {
     "data": {
      "text/plain": "OpenML Run\n==========\nUploader Name: None\nMetric.......: None\nRun ID.......: None\nTask ID......: 1328\nTask Type....: None\nTask URL.....: https://test.openml.org/t/1328\nFlow ID......: None\nFlow Name....: openml_skactiveml.extension.PoolSkactivemlModel(prediction_model=skactiveml.classifier._parzen_window_classifier.ParzenWindowClassifier,query_strategy=skactiveml.pool._greedy_sampling.GreedySamplingX)\nFlow URL.....: https://test.openml.org/f/None\nSetup ID.....: None\nSetup String.: Python_3.9.16. Sklearn_1.2.2. NumPy_1.24.2. SciPy_1.9.3.\nDataset ID...: 128\nDataset URL..: https://test.openml.org/d/128"
     },
     "execution_count": 8,
     "metadata": {},
     "output_type": "execute_result"
    }
   ],
   "source": [
    "model = PoolSkactivemlModel(\n",
    "    query_strategy=GreedySamplingX(missing_label=None),\n",
    "    prediction_model=ParzenWindowClassifier(missing_label=None, classes=task.class_labels, class_prior=0),\n",
    "    #selection_model_name=\"clf\",\n",
    "    #selection_model=ParzenWindowClassifier(missing_label=None, classes=task.class_labels, class_prior=0),\n",
    "    budget=10000,\n",
    ")\n",
    "\n",
    "run = runs.run_model_on_task(\n",
    "    model,\n",
    "    task,\n",
    "    upload_flow=False,\n",
    "    avoid_duplicate_runs=False,\n",
    "    n_jobs=-1,\n",
    "    seed=0\n",
    ")\n",
    "run"
   ]
  },
  {
   "cell_type": "code",
   "execution_count": 9,
   "metadata": {
    "ExecuteTime": {
     "end_time": "2023-08-16T15:13:18.285970885Z",
     "start_time": "2023-08-16T15:13:16.205631567Z"
    }
   },
   "outputs": [
    {
     "name": "stdout",
     "output_type": "stream",
     "text": [
      "openml==0.13.1.dev,skactiveml==0.4.1,\n",
      "numpy>=1.17.3\n",
      "scipy>=1.3.2\n",
      "joblib>=1.1.1\n",
      "threadpoolctl>=2.0.0\n",
      "openml==0.13.1.dev,skactiveml==0.4.1,\n",
      "numpy>=1.17.3\n",
      "scipy>=1.3.2\n",
      "joblib>=1.1.1\n",
      "threadpoolctl>=2.0.0\n"
     ]
    },
    {
     "data": {
      "text/plain": "OpenML Run\n==========\nUploader Name: None\nMetric.......: None\nRun ID.......: 1285\nRun URL......: https://test.openml.org/r/1285\nTask ID......: 1328\nTask Type....: None\nTask URL.....: https://test.openml.org/t/1328\nFlow ID......: 5272\nFlow Name....: openml_skactiveml.extension.PoolSkactivemlModel(prediction_model=skactiveml.classifier._parzen_window_classifier.ParzenWindowClassifier,query_strategy=skactiveml.pool._greedy_sampling.GreedySamplingX)\nFlow URL.....: https://test.openml.org/f/5272\nSetup ID.....: None\nSetup String.: Python_3.9.16. Sklearn_1.2.2. NumPy_1.24.2. SciPy_1.9.3.\nDataset ID...: 128\nDataset URL..: https://test.openml.org/d/128"
     },
     "execution_count": 9,
     "metadata": {},
     "output_type": "execute_result"
    }
   ],
   "source": [
    "run.publish()"
   ]
  },
  {
   "cell_type": "code",
   "execution_count": 11,
   "outputs": [
    {
     "name": "stdout",
     "output_type": "stream",
     "text": [
      "OpenML Flow\n",
      "===========\n",
      "Flow ID.........: 5272 (version 1)\n",
      "Flow URL........: https://test.openml.org/f/5272\n",
      "Flow Name.......: openml_skactiveml.extension.PoolSkactivemlModel(prediction_model=skactiveml.classifier._parzen_window_classifier.ParzenWindowClassifier,query_strategy=skactiveml.pool._greedy_sampling.GreedySamplingX)\n",
      "Flow Description: Pool Skactiveml Model\n",
      "\n",
      "This class implements the model that is used for an active learning \n",
      "experiment. It consists of the query_strategy, a prediction model,\n",
      "a selection model (if applicable), extra query parameters and the\n",
      "budget.\n",
      "Upload Date.....: 2023-08-16 15:13:16\n",
      "Dependencies....: numpy>=1.17.3\n",
      "scipy>=1.3.2\n",
      "joblib>=1.1.1\n",
      "threadpoolctl>=2.0.0\n"
     ]
    }
   ],
   "source": [
    "flow = flows.get_flow(run.flow_id)\n",
    "print(flow)"
   ],
   "metadata": {
    "collapsed": false,
    "ExecuteTime": {
     "end_time": "2023-08-16T15:13:32.294402213Z",
     "start_time": "2023-08-16T15:13:32.223060546Z"
    }
   }
  },
  {
   "cell_type": "code",
   "execution_count": 12,
   "outputs": [
    {
     "name": "stdout",
     "output_type": "stream",
     "text": [
      "OpenML Run\n",
      "==========\n",
      "Uploader Name...: Test Test\n",
      "Uploader Profile: https://test.openml.org/u/3229\n",
      "Metric..........: predictive_accuracy\n",
      "Run ID..........: 1285\n",
      "Run URL.........: https://test.openml.org/r/1285\n",
      "Task ID.........: 1328\n",
      "Task Type.......: Active Classification\n",
      "Task URL........: https://test.openml.org/t/1328\n",
      "Flow ID.........: 5272\n",
      "Flow Name.......: openml_skactiveml.extension.PoolSkactivemlModel(prediction_model=skactiveml.classifier._parzen_window_classifier.ParzenWindowClassifier,query_strategy=skactiveml.pool._greedy_sampling.GreedySamplingX)(1)\n",
      "Flow URL........: https://test.openml.org/f/5272\n",
      "Setup ID........: 1033\n",
      "Setup String....: Python_3.9.16. Sklearn_1.2.2. NumPy_1.24.2. SciPy_1.9.3.\n",
      "Dataset ID......: 128\n",
      "Dataset URL.....: https://test.openml.org/d/128\n"
     ]
    }
   ],
   "source": [
    "run = runs.get_run(run.run_id, ignore_cache=True)\n",
    "print(run)"
   ],
   "metadata": {
    "collapsed": false,
    "ExecuteTime": {
     "end_time": "2023-08-16T15:13:38.068327400Z",
     "start_time": "2023-08-16T15:13:37.889300880Z"
    }
   }
  },
  {
   "cell_type": "code",
   "execution_count": 13,
   "outputs": [
    {
     "name": "stdout",
     "output_type": "stream",
     "text": [
      "Index(['repeat', 'fold', 'cycle', 'budget', 'row_id', 'confidence.Iris-setosa',\n",
      "       'confidence.Iris-versicolor', 'confidence.Iris-virginica', 'prediction',\n",
      "       'correct'],\n",
      "      dtype='object')\n"
     ]
    },
    {
     "data": {
      "text/plain": "<ErrorbarContainer object of 3 artists>"
     },
     "execution_count": 13,
     "metadata": {},
     "output_type": "execute_result"
    },
    {
     "data": {
      "text/plain": "<Figure size 640x480 with 1 Axes>",
      "image/png": "[encoded data removed]"
     },
     "metadata": {},
     "output_type": "display_data"
    }
   ],
   "source": [
    "res = run.predictions\n",
    "print(res.columns)\n",
    "res[\"is_correct\"] = res[\"prediction\"] == res[\"correct\"]\n",
    "import matplotlib.pyplot as plt\n",
    "import numpy as np\n",
    "grouped_res = res.groupby([\"cycle\"])[\"is_correct\"]\n",
    "plt.errorbar(x=np.arange(len(grouped_res)), y=grouped_res.mean(), yerr=grouped_res.std())"
   ],
   "metadata": {
    "collapsed": false,
    "ExecuteTime": {
     "end_time": "2023-08-16T15:13:41.002067038Z",
     "start_time": "2023-08-16T15:13:39.020902336Z"
    }
   }
  },
  {
   "cell_type": "code",
   "execution_count": 15,
   "outputs": [
    {
     "data": {
      "text/plain": "OrderedDict([('oml:flow',\n              OrderedDict([('@xmlns:oml', 'http://openml.org/openml'),\n                           ('oml:id', 5272),\n                           ('oml:uploader', '3229'),\n                           ('oml:name',\n                            'openml_skactiveml.extension.PoolSkactivemlModel(prediction_model=skactiveml.classifier._parzen_window_classifier.ParzenWindowClassifier,query_strategy=skactiveml.pool._greedy_sampling.GreedySamplingX)'),\n                           ('oml:custom_name',\n                            'openml_skactiveml.PoolSkactivemlModel'),\n                           ('oml:class_name',\n                            'openml_skactiveml.extension.PoolSkactivemlModel'),\n                           ('oml:version', '1'),\n                           ('oml:external_version',\n                            ',openml==0.13.1.dev,openml_skactiveml==0.0.1,skactiveml==0.4.1,'),\n                           ('oml:description',\n                            'Pool Skactiveml Model\\n\\nThis class implements the model that is used for an active learning \\nexperiment. It consists of the query_strategy, a prediction model,\\na selection model (if applicable), extra query parameters and the\\nbudget.'),\n                           ('oml:upload_date', '2023-08-16T15:13:16'),\n                           ('oml:language', 'English'),\n                           ('oml:dependencies',\n                            'numpy>=1.17.3\\nscipy>=1.3.2\\njoblib>=1.1.1\\nthreadpoolctl>=2.0.0'),\n                           ('oml:parameter',\n                            [OrderedDict([('oml:name', 'budget'),\n                                          ('oml:data_type', 'int'),\n                                          ('oml:default_value', '10000'),\n                                          ('oml:description',\n                                           'The maximum number of labeled instances to query. If the number is -1, all instances will be queried.')]),\n                             OrderedDict([('oml:name', 'extra_query_params'),\n                                          ('oml:data_type', 'dict'),\n                                          ('oml:default_value', 'null'),\n                                          ('oml:description',\n                                           'Extra parameters for `query_strategy.query`. If None, no extra parameters will be passed')]),\n                             OrderedDict([('oml:name', 'prediction_model'),\n                                          ('oml:data_type', 'skactiveml'),\n                                          ('oml:default_value',\n                                           '{\"oml-python:serialized_object\": \"component_reference\", \"value\": {\"key\": \"prediction_model\", \"step_name\": null}}'),\n                                          ('oml:description',\n                                           'The classifier used for the evaluation')]),\n                             OrderedDict([('oml:name', 'query_strategy'),\n                                          ('oml:data_type', 'skactiveml'),\n                                          ('oml:default_value',\n                                           '{\"oml-python:serialized_object\": \"component_reference\", \"value\": {\"key\": \"query_strategy\", \"step_name\": null}}'),\n                                          ('oml:description',\n                                           'The query strategy used for the instance selection')]),\n                             OrderedDict([('oml:name', 'selection_model'),\n                                          ('oml:data_type', 'skactiveml'),\n                                          ('oml:default_value', 'null'),\n                                          ('oml:description',\n                                           'The classifier used for the instance selection. If selection_model and selection_model_name are None, no extra parameters will be passed')]),\n                             OrderedDict([('oml:name', 'selection_model_name'),\n                                          ('oml:data_type', 'str'),\n                                          ('oml:default_value', 'null'),\n                                          ('oml:description',\n                                           'The selection model name within `query_strategy.query`. If selection_model and selection_model_name are None, no extra parameters will be passed')])]),\n                           ('oml:component',\n                            [OrderedDict([('oml:identifier',\n                                           'prediction_model'),\n                                          ('oml:flow',\n                                           OrderedDict([('@xmlns:oml',\n                                                         'http://openml.org/openml'),\n                                                        ('oml:id', 5266),\n                                                        ('oml:uploader',\n                                                         '3229'),\n                                                        ('oml:name',\n                                                         'skactiveml.classifier._parzen_window_classifier.ParzenWindowClassifier'),\n                                                        ('oml:custom_name',\n                                                         'skactiveml.ParzenWindowClassifier'),\n                                                        ('oml:class_name',\n                                                         'skactiveml.classifier._parzen_window_classifier.ParzenWindowClassifier'),\n                                                        ('oml:version', '2'),\n                                                        ('oml:external_version',\n                                                         'openml==0.13.1.dev,skactiveml==0.4.1,'),\n                                                        ('oml:description',\n                                                         'ParzenWindowClassifier\\n\\nThe Parzen window classifier (PWC) is a simple and\\nprobabilistic classifier. This classifier is based on a non-parametric\\ndensity estimation obtained by applying a kernel function.'),\n                                                        ('oml:upload_date',\n                                                         '2023-08-16T14:17:32'),\n                                                        ('oml:language',\n                                                         'English'),\n                                                        ('oml:dependencies',\n                                                         'numpy>=1.17.3\\nscipy>=1.3.2\\njoblib>=1.1.1\\nthreadpoolctl>=2.0.0'),\n                                                        ('oml:parameter',\n                                                         [OrderedDict([('oml:name',\n                                                                        'class_prior'),\n                                                                       ('oml:data_type',\n                                                                        'np'),\n                                                                       ('oml:default_value',\n                                                                        '0.0'),\n                                                                       ('oml:description',\n                                                                        'Prior observations of the class frequency estimates. The entry\\n    `class_prior_[i]` indicates the non-negative prior number of samples\\n    belonging to class `classes_[i]`')]),\n                                                          OrderedDict([('oml:name',\n                                                                        'classes'),\n                                                                       ('oml:data_type',\n                                                                        'array'),\n                                                                       ('oml:default_value',\n                                                                        '[\"Iris-setosa\", \"Iris-versicolor\", \"Iris-virginica\"]'),\n                                                                       ('oml:description',\n                                                                        'Holds the label for each class. If none, the classes are determined\\n    during the fit')]),\n                                                          OrderedDict([('oml:name',\n                                                                        'cost_matrix'),\n                                                                       ('oml:data_type',\n                                                                        'array'),\n                                                                       ('oml:default_value',\n                                                                        'null'),\n                                                                       ('oml:description',\n                                                                        'Cost matrix with `cost_matrix[i,j]` indicating cost of predicting class\\n    `classes[j]` for a sample of class `classes[i]`. Can be only set, if\\n    `classes` is not none')]),\n                                                          OrderedDict([('oml:name',\n                                                                        'metric'),\n                                                                       ('oml:data_type',\n                                                                        'str or callable'),\n                                                                       ('oml:default_value',\n                                                                        '\"rbf\"'),\n                                                                       ('oml:description',\n                                                                        'The metric must a be a valid kernel defined by the function\\n    `sklearn.metrics.pairwise.pairwise_kernels`')]),\n                                                          OrderedDict([('oml:name',\n                                                                        'metric_dict'),\n                                                                       ('oml:data_type',\n                                                                        'dict'),\n                                                                       ('oml:default_value',\n                                                                        'null'),\n                                                                       ('oml:description',\n                                                                        \"Any further parameters are passed directly to the kernel function\\n    For the the kernel 'rbf' we allow the use of mean kernel [2] and use\\n    it when gamma is set to 'mean' (i.e., {'gamma': 'mean'}). While N is\\n    defined as the labeled data the variance is calculated over all X\\n\\nAttributes\\n----------\")]),\n                                                          OrderedDict([('oml:name',\n                                                                        'missing_label'),\n                                                                       ('oml:data_type',\n                                                                        'scalar or string or np'),\n                                                                       ('oml:default_value',\n                                                                        'null'),\n                                                                       ('oml:description',\n                                                                        'Value to represent a missing label')]),\n                                                          OrderedDict([('oml:name',\n                                                                        'n_neighbors'),\n                                                                       ('oml:data_type',\n                                                                        'int or None'),\n                                                                       ('oml:default_value',\n                                                                        'null'),\n                                                                       ('oml:description',\n                                                                        'Number of nearest neighbours. Default is None, which means all\\n    available samples are considered')]),\n                                                          OrderedDict([('oml:name',\n                                                                        'random_state'),\n                                                                       ('oml:default_value',\n                                                                        'null')])]),\n                                                        ('oml:component', []),\n                                                        ('oml:tag',\n                                                         ['openml-python',\n                                                          'python',\n                                                          'scikit-learn',\n                                                          'sklearn',\n                                                          'sklearn_1.2.2'])]))]),\n                             OrderedDict([('oml:identifier', 'query_strategy'),\n                                          ('oml:flow',\n                                           OrderedDict([('@xmlns:oml',\n                                                         'http://openml.org/openml'),\n                                                        ('oml:id', 5273),\n                                                        ('oml:uploader',\n                                                         '3229'),\n                                                        ('oml:name',\n                                                         'skactiveml.pool._greedy_sampling.GreedySamplingX'),\n                                                        ('oml:custom_name',\n                                                         'skactiveml.GreedySamplingX'),\n                                                        ('oml:class_name',\n                                                         'skactiveml.pool._greedy_sampling.GreedySamplingX'),\n                                                        ('oml:version', '1'),\n                                                        ('oml:external_version',\n                                                         'openml==0.13.1.dev,skactiveml==0.4.1,'),\n                                                        ('oml:description',\n                                                         'Greedy Sampling on the feature space.\\n\\nThis class implements greedy sampling on the feature space. A query strategy\\nthat tries to select those samples that increase the diversity of the\\nfeature space the most.'),\n                                                        ('oml:upload_date',\n                                                         '2023-08-16T15:13:16'),\n                                                        ('oml:language',\n                                                         'English'),\n                                                        ('oml:dependencies',\n                                                         'numpy>=1.17.3\\nscipy>=1.3.2\\njoblib>=1.1.1\\nthreadpoolctl>=2.0.0'),\n                                                        ('oml:parameter',\n                                                         [OrderedDict([('oml:name',\n                                                                        'metric'),\n                                                                       ('oml:data_type',\n                                                                        'str'),\n                                                                       ('oml:default_value',\n                                                                        'null'),\n                                                                       ('oml:description',\n                                                                        'Metric used for calculating the distances of the samples in the feature\\n    space. It must be a valid argument for\\n    `sklearn.metrics.pairwise_distances` argument `metric`')]),\n                                                          OrderedDict([('oml:name',\n                                                                        'metric_dict'),\n                                                                       ('oml:data_type',\n                                                                        'dict'),\n                                                                       ('oml:default_value',\n                                                                        'null'),\n                                                                       ('oml:description',\n                                                                        'Any further parameters are passed directly to the pairwise_distances\\n    function')]),\n                                                          OrderedDict([('oml:name',\n                                                                        'missing_label'),\n                                                                       ('oml:data_type',\n                                                                        'scalar or string or np'),\n                                                                       ('oml:default_value',\n                                                                        'null'),\n                                                                       ('oml:description',\n                                                                        '(default=skactiveml.utils.MISSING_LABEL)\\n    Value to represent a missing label')]),\n                                                          OrderedDict([('oml:name',\n                                                                        'random_state'),\n                                                                       ('oml:data_type',\n                                                                        'int'),\n                                                                       ('oml:default_value',\n                                                                        'null'),\n                                                                       ('oml:description',\n                                                                        'Random state for candidate selection\\n\\nReferences\\n----------\\n[1] Wu, Dongrui, Chin-Teng Lin, and Jian Huang. Active learning for\\nregression using greedy sampling, Information Sciences, pages 90--105, 2019.')])]),\n                                                        ('oml:component', []),\n                                                        ('oml:tag',\n                                                         ['openml-python',\n                                                          'python',\n                                                          'scikit-learn',\n                                                          'sklearn',\n                                                          'sklearn_1.2.2'])]))])]),\n                           ('oml:tag',\n                            ['openml-python',\n                             'python',\n                             'scikit-learn',\n                             'sklearn',\n                             'sklearn_1.2.2'])]))])"
     },
     "execution_count": 15,
     "metadata": {},
     "output_type": "execute_result"
    }
   ],
   "source": [
    "flow._to_dict()"
   ],
   "metadata": {
    "collapsed": false,
    "ExecuteTime": {
     "end_time": "2023-08-16T15:16:08.406212769Z",
     "start_time": "2023-08-16T15:16:08.239621158Z"
    }
   }
  },
  {
   "cell_type": "code",
   "execution_count": null,
   "outputs": [],
   "source": [],
   "metadata": {
    "collapsed": false
   }
  }
 ],
 "metadata": {
  "interpreter": {
   "hash": "b1686965f4865d96dc103f8dbe26a21474def9bc9131d2b1aa2fd03680a1d89b"
  },
  "kernelspec": {
   "display_name": "Python 3.8.5 ('wsp')",
   "language": "python",
   "name": "python3"
  },
  "language_info": {
   "codemirror_mode": {
    "name": "ipython",
    "version": 3
   },
   "file_extension": ".py",
   "mimetype": "text/x-python",
   "name": "python",
   "nbconvert_exporter": "python",
   "pygments_lexer": "ipython3",
   "version": "3.9.16"
  },
  "orig_nbformat": 4
 },
 "nbformat": 4,
 "nbformat_minor": 2
}
