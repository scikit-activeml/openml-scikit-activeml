{
 "cells": [
  {
   "cell_type": "code",
   "execution_count": 1,
   "metadata": {
    "ExecuteTime": {
     "end_time": "2023-08-16T15:12:38.846298843Z",
     "start_time": "2023-08-16T15:12:38.765086773Z"
    }
   },
   "outputs": [
    {
     "name": "stderr",
     "output_type": "stream",
     "text": [
      "c:\\Users\\tpham\\Desktop\\Arbeit\\openml-skactiveml\\openml-python-OpenMLActiveClassificationTask\\openml\\config.py:184: UserWarning: Switching to the test server https://test.openml.org/api/v1/xml to not upload results to the live server. Using the test server may result in reduced performance of the API!\n",
      "  warnings.warn(\n"
     ]
    }
   ],
   "source": [
    "%load_ext autoreload\n",
    "%autoreload 2\n",
    "\n",
    "import sys\n",
    "sys.path.extend([\n",
    "    'openml-python-OpenMLActiveClassificationTask/',\n",
    "    'openml-scikit-activeml/',\n",
    "    '../../openml-python-OpenMLActiveClassificationTask/',\n",
    "    '../../openml-scikit-activeml/',\n",
    "])\n",
    "\n",
    "from openml import config, tasks, runs, flows\n",
    "from openml_skactiveml import PoolSkactivemlModel\n",
    "from skactiveml.classifier import ParzenWindowClassifier, MixtureModelClassifier, SklearnClassifier\n",
    "from skactiveml.pool import RandomSampling, UncertaintySampling, ProbabilisticAL, GreedySamplingX\n",
    "from sklearn.tree import DecisionTreeClassifier\n",
    "\n",
    "config.start_using_configuration_for_example()"
   ]
  },
  {
   "cell_type": "code",
   "execution_count": 2,
   "metadata": {
    "ExecuteTime": {
     "end_time": "2023-08-16T15:12:39.168764073Z",
     "start_time": "2023-08-16T15:12:39.071724591Z"
    }
   },
   "outputs": [
    {
     "data": {
      "text/plain": [
       "OpenML Active Classification Task\n",
       "=================================\n",
       "Task Type Description: https://test.openml.org/tt/TaskType.ACTIVE_CLASSIFICATION\n",
       "Task ID..............: 1305\n",
       "Task URL.............: https://test.openml.org/t/1305\n",
       "Estimation Procedure.: crossvalidation\n",
       "Evaluation Measure...: predictive_accuracy\n",
       "Target Feature.......: class\n",
       "# of Classes.........: 3\n",
       "Cost Matrix..........: Available"
      ]
     },
     "execution_count": 2,
     "metadata": {},
     "output_type": "execute_result"
    }
   ],
   "source": [
    "# task_id = 1328\n",
    "task_id = 1305\n",
    "task = tasks.get_task(task_id)\n",
    "task"
   ]
  },
  {
   "cell_type": "code",
   "execution_count": 3,
   "metadata": {
    "ExecuteTime": {
     "end_time": "2023-08-16T15:13:12.891591540Z",
     "start_time": "2023-08-16T15:13:04.469211542Z"
    }
   },
   "outputs": [
    {
     "name": "stdout",
     "output_type": "stream",
     "text": [
      "openml==0.13.1.dev,\n",
      "numpy>=1.17.3\n",
      "scipy>=1.3.2\n",
      "joblib>=1.1.1\n",
      "threadpoolctl>=2.0.0\n",
      ",openml==0.13.1.dev,skactiveml==0.4.0,\n",
      "numpy>=1.17.3\n",
      "scipy>=1.3.2\n",
      "joblib>=1.1.1\n",
      "threadpoolctl>=2.0.0\n",
      "openml==0.13.1.dev,skactiveml==0.4.0,\n",
      "numpy>=1.17.3\n",
      "scipy>=1.3.2\n",
      "joblib>=1.1.1\n",
      "threadpoolctl>=2.0.0\n",
      ",openml==0.13.1.dev,openml_skactiveml==0.0.1,skactiveml==0.4.0,\n",
      "numpy>=1.17.3\n",
      "scipy>=1.3.2\n",
      "joblib>=1.1.1\n",
      "threadpoolctl>=2.0.0\n"
     ]
    },
    {
     "data": {
      "text/plain": [
       "OpenML Run\n",
       "==========\n",
       "Uploader Name: None\n",
       "Metric.......: None\n",
       "Run ID.......: None\n",
       "Task ID......: 1305\n",
       "Task Type....: None\n",
       "Task URL.....: https://test.openml.org/t/1305\n",
       "Flow ID......: None\n",
       "Flow Name....: openml_skactiveml.extension.PoolSkactivemlModel(prediction_model=skactiveml.classifier._wrapper.SklearnClassifier(estimator=sklearn.tree._classes.DecisionTreeClassifier),query_strategy=skactiveml.pool._random_sampling.RandomSampling)\n",
       "Flow URL.....: https://test.openml.org/f/None\n",
       "Setup ID.....: None\n",
       "Setup String.: Python_3.9.16. Sklearn_1.2.2. NumPy_1.24.3. SciPy_1.9.3.\n",
       "Dataset ID...: 128\n",
       "Dataset URL..: https://test.openml.org/d/128"
      ]
     },
     "execution_count": 3,
     "metadata": {},
     "output_type": "execute_result"
    }
   ],
   "source": [
    "# model = PoolSkactivemlModel(\n",
    "#     query_strategy=GreedySamplingX(missing_label=None),\n",
    "#     prediction_model=ParzenWindowClassifier(missing_label=None, classes=task.class_labels, class_prior=0),\n",
    "#     #selection_model_name=\"clf\",\n",
    "#     #selection_model=ParzenWindowClassifier(missing_label=None, classes=task.class_labels, class_prior=0),\n",
    "#     budget=10000,\n",
    "# )\n",
    "# model = PoolSkactivemlModel(\n",
    "#     query_strategy=RandomSampling(missing_label=None),\n",
    "#     prediction_model=ParzenWindowClassifier(missing_label=None, classes=['Iris-setosa', 'Iris-versicolor', 'Iris-virginica'], class_prior=0),\n",
    "#     #selection_model_name=\"clf\",\n",
    "#     #selection_model=ParzenWindowClassifier(missing_label=None, classes=task.class_labels, class_prior=0),\n",
    "#     budget=10000,\n",
    "# )\n",
    "# model = PoolSkactivemlModel(\n",
    "#     query_strategy=RandomSampling(missing_label=None),\n",
    "#     prediction_model=MixtureModelClassifier(missing_label=None, classes=None, class_prior=0),\n",
    "#     #selection_model_name=\"clf\",\n",
    "#     #selection_model=ParzenWindowClassifier(missing_label=None, classes=task.class_labels, class_prior=0),\n",
    "#     budget=10000,\n",
    "# )\n",
    "model = PoolSkactivemlModel(\n",
    "    query_strategy=RandomSampling(missing_label=None),\n",
    "    prediction_model=SklearnClassifier(estimator=DecisionTreeClassifier(), missing_label=None, classes=None),\n",
    "    #selection_model_name=\"clf\",\n",
    "    #selection_model=ParzenWindowClassifier(missing_label=None, classes=task.class_labels, class_prior=0),\n",
    "    budget=10000,\n",
    ")\n",
    "\n",
    "run = runs.run_model_on_task(\n",
    "    model,\n",
    "    task,\n",
    "    upload_flow=False,\n",
    "    avoid_duplicate_runs=False,\n",
    "    n_jobs=-1,\n",
    "    seed=0\n",
    ")\n",
    "run"
   ]
  },
  {
   "cell_type": "code",
   "execution_count": 4,
   "metadata": {
    "ExecuteTime": {
     "end_time": "2023-08-16T15:13:18.285970885Z",
     "start_time": "2023-08-16T15:13:16.205631567Z"
    }
   },
   "outputs": [
    {
     "name": "stdout",
     "output_type": "stream",
     "text": [
      "openml==0.13.1.dev,\n",
      "numpy>=1.17.3\n",
      "scipy>=1.3.2\n",
      "joblib>=1.1.1\n",
      "threadpoolctl>=2.0.0\n",
      ",openml==0.13.1.dev,skactiveml==0.4.0,\n",
      "numpy>=1.17.3\n",
      "scipy>=1.3.2\n",
      "joblib>=1.1.1\n",
      "threadpoolctl>=2.0.0\n",
      "openml==0.13.1.dev,skactiveml==0.4.0,\n",
      "numpy>=1.17.3\n",
      "scipy>=1.3.2\n",
      "joblib>=1.1.1\n",
      "threadpoolctl>=2.0.0\n",
      "openml==0.13.1.dev,\n",
      "numpy>=1.17.3\n",
      "scipy>=1.3.2\n",
      "joblib>=1.1.1\n",
      "threadpoolctl>=2.0.0\n"
     ]
    },
    {
     "data": {
      "text/plain": [
       "OpenML Run\n",
       "==========\n",
       "Uploader Name: None\n",
       "Metric.......: None\n",
       "Run ID.......: 16\n",
       "Run URL......: https://test.openml.org/r/16\n",
       "Task ID......: 1305\n",
       "Task Type....: None\n",
       "Task URL.....: https://test.openml.org/t/1305\n",
       "Flow ID......: 29\n",
       "Flow Name....: openml_skactiveml.extension.PoolSkactivemlModel(prediction_model=skactiveml.classifier._wrapper.SklearnClassifier(estimator=sklearn.tree._classes.DecisionTreeClassifier),query_strategy=skactiveml.pool._random_sampling.RandomSampling)\n",
       "Flow URL.....: https://test.openml.org/f/29\n",
       "Setup ID.....: None\n",
       "Setup String.: Python_3.9.16. Sklearn_1.2.2. NumPy_1.24.3. SciPy_1.9.3.\n",
       "Dataset ID...: 128\n",
       "Dataset URL..: https://test.openml.org/d/128"
      ]
     },
     "execution_count": 4,
     "metadata": {},
     "output_type": "execute_result"
    }
   ],
   "source": [
    "run.publish()"
   ]
  },
  {
   "cell_type": "code",
   "execution_count": 5,
   "metadata": {
    "ExecuteTime": {
     "end_time": "2023-08-16T15:13:32.294402213Z",
     "start_time": "2023-08-16T15:13:32.223060546Z"
    },
    "collapsed": false
   },
   "outputs": [
    {
     "name": "stdout",
     "output_type": "stream",
     "text": [
      "OpenML Flow\n",
      "===========\n",
      "Flow ID.........: 29 (version 1)\n",
      "Flow URL........: https://test.openml.org/f/29\n",
      "Flow Name.......: openml_skactiveml.extension.PoolSkactivemlModel(prediction_model=skactiveml.classifier._wrapper.SklearnClassifier(estimator=sklearn.tree._classes.DecisionTreeClassifier),query_strategy=skactiveml.pool._random_sampling.RandomSampling)\n",
      "Flow Description: Pool Skactiveml Model\n",
      "\n",
      "This class implements the model that is used for an active learning \n",
      "experiment. It consists of the query_strategy, a prediction model,\n",
      "a selection model (if applicable), extra query parameters and the\n",
      "budget.\n",
      "Upload Date.....: 2023-10-16 13:47:08\n",
      "Dependencies....: numpy>=1.17.3\n",
      "scipy>=1.3.2\n",
      "joblib>=1.1.1\n",
      "threadpoolctl>=2.0.0\n"
     ]
    }
   ],
   "source": [
    "flow = flows.get_flow(run.flow_id)\n",
    "print(flow)"
   ]
  },
  {
   "cell_type": "code",
   "execution_count": 6,
   "metadata": {
    "ExecuteTime": {
     "end_time": "2023-08-16T15:13:38.068327400Z",
     "start_time": "2023-08-16T15:13:37.889300880Z"
    },
    "collapsed": false
   },
   "outputs": [
    {
     "name": "stdout",
     "output_type": "stream",
     "text": [
      "OpenML Run\n",
      "==========\n",
      "Uploader Name...: Test Test\n",
      "Uploader Profile: https://test.openml.org/u/3229\n",
      "Metric..........: predictive_accuracy\n",
      "Run ID..........: 16\n",
      "Run URL.........: https://test.openml.org/r/16\n",
      "Task ID.........: 1305\n",
      "Task Type.......: Active Classification\n",
      "Task URL........: https://test.openml.org/t/1305\n",
      "Flow ID.........: 29\n",
      "Flow Name.......: openml_skactiveml.extension.PoolSkactivemlModel(prediction_model=skactiveml.classifier._wrapper.SklearnClassifier(estimator=sklearn.tree._classes.DecisionTreeClassifier),query_strategy=skactiveml.pool._random_sampling.RandomSampling)(1)\n",
      "Flow URL........: https://test.openml.org/f/29\n",
      "Setup ID........: 12\n",
      "Setup String....: Python_3.9.16. Sklearn_1.2.2. NumPy_1.24.3. SciPy_1.9.3.\n",
      "Dataset ID......: 128\n",
      "Dataset URL.....: https://test.openml.org/d/128\n"
     ]
    }
   ],
   "source": [
    "run = runs.get_run(run.run_id, ignore_cache=True)\n",
    "print(run)"
   ]
  },
  {
   "cell_type": "code",
   "execution_count": 7,
   "metadata": {
    "ExecuteTime": {
     "end_time": "2023-08-16T15:13:41.002067038Z",
     "start_time": "2023-08-16T15:13:39.020902336Z"
    },
    "collapsed": false
   },
   "outputs": [
    {
     "name": "stdout",
     "output_type": "stream",
     "text": [
      "Index(['repeat', 'fold', 'cycle', 'budget', 'row_id', 'confidence.Iris-setosa',\n",
      "       'confidence.Iris-versicolor', 'confidence.Iris-virginica', 'prediction',\n",
      "       'correct'],\n",
      "      dtype='object')\n"
     ]
    },
    {
     "data": {
      "text/plain": [
       "<ErrorbarContainer object of 3 artists>"
      ]
     },
     "execution_count": 7,
     "metadata": {},
     "output_type": "execute_result"
    },
    {
     "data": {
      "image/png": "[encoded data removed]",
      "text/plain": [
       "<Figure size 640x480 with 1 Axes>"
      ]
     },
     "metadata": {},
     "output_type": "display_data"
    }
   ],
   "source": [
    "res = run.predictions\n",
    "print(res.columns)\n",
    "res[\"is_correct\"] = res[\"prediction\"] == res[\"correct\"]\n",
    "import matplotlib.pyplot as plt\n",
    "import numpy as np\n",
    "grouped_res = res.groupby([\"cycle\"])[\"is_correct\"]\n",
    "plt.errorbar(x=np.arange(len(grouped_res)), y=grouped_res.mean(), yerr=grouped_res.std())"
   ]
  },
  {
   "cell_type": "code",
   "execution_count": 13,
   "metadata": {},
   "outputs": [
    {
     "ename": "ValueError",
     "evalue": "Only sklearn flows can be reinstantiated",
     "output_type": "error",
     "traceback": [
      "\u001b[1;31m---------------------------------------------------------------------------\u001b[0m",
      "\u001b[1;31mValueError\u001b[0m                                Traceback (most recent call last)",
      "\u001b[1;32mc:\\Users\\tpham\\Desktop\\Arbeit\\openml-skactiveml\\openml-scikit-activeml\\test_notebooks\\test_active_learning.ipynb Cell 8\u001b[0m line \u001b[0;36m1\n\u001b[1;32m----> <a href='vscode-notebook-cell:/c%3A/Users/tpham/Desktop/Arbeit/openml-skactiveml/openml-scikit-activeml/test_notebooks/test_active_learning.ipynb#X14sZmlsZQ%3D%3D?line=0'>1</a>\u001b[0m runs\u001b[39m.\u001b[39;49mrun_flow_on_task(flows\u001b[39m.\u001b[39;49mget_flow(run\u001b[39m.\u001b[39;49mflow_id), task, avoid_duplicate_runs\u001b[39m=\u001b[39;49m\u001b[39mFalse\u001b[39;49;00m, upload_flow\u001b[39m=\u001b[39;49m\u001b[39mFalse\u001b[39;49;00m, n_jobs\u001b[39m=\u001b[39;49m\u001b[39m-\u001b[39;49m\u001b[39m1\u001b[39;49m)\n",
      "File \u001b[1;32mc:\\Users\\tpham\\Desktop\\Arbeit\\openml-skactiveml\\openml-python-OpenMLActiveClassificationTask\\openml\\runs\\functions.py:222\u001b[0m, in \u001b[0;36mrun_flow_on_task\u001b[1;34m(flow, task, avoid_duplicate_runs, flow_tags, seed, add_local_measures, upload_flow, dataset_format, n_jobs)\u001b[0m\n\u001b[0;32m    219\u001b[0m     \u001b[39mraise\u001b[39;00m \u001b[39mValueError\u001b[39;00m(\u001b[39m\"\u001b[39m\u001b[39mThe task should be published at OpenML\u001b[39m\u001b[39m\"\u001b[39m)\n\u001b[0;32m    221\u001b[0m \u001b[39mif\u001b[39;00m flow\u001b[39m.\u001b[39mmodel \u001b[39mis\u001b[39;00m \u001b[39mNone\u001b[39;00m:\n\u001b[1;32m--> 222\u001b[0m     flow\u001b[39m.\u001b[39mmodel \u001b[39m=\u001b[39m flow\u001b[39m.\u001b[39;49mextension\u001b[39m.\u001b[39;49mflow_to_model(flow)\n\u001b[0;32m    223\u001b[0m flow\u001b[39m.\u001b[39mmodel \u001b[39m=\u001b[39m flow\u001b[39m.\u001b[39mextension\u001b[39m.\u001b[39mseed_model(flow\u001b[39m.\u001b[39mmodel, seed\u001b[39m=\u001b[39mseed)\n\u001b[0;32m    225\u001b[0m \u001b[39m# We only need to sync with the server right now if we want to upload the flow,\u001b[39;00m\n\u001b[0;32m    226\u001b[0m \u001b[39m# or ensure no duplicate runs exist. Otherwise it can be synced at upload time.\u001b[39;00m\n",
      "File \u001b[1;32mc:\\Users\\tpham\\Desktop\\Arbeit\\openml-skactiveml\\openml-python-OpenMLActiveClassificationTask\\openml\\extensions\\sklearn\\extension.py:307\u001b[0m, in \u001b[0;36mSklearnExtension.flow_to_model\u001b[1;34m(self, flow, initialize_with_defaults, strict_version)\u001b[0m\n\u001b[0;32m    282\u001b[0m \u001b[39mdef\u001b[39;00m \u001b[39mflow_to_model\u001b[39m(\n\u001b[0;32m    283\u001b[0m     \u001b[39mself\u001b[39m,\n\u001b[0;32m    284\u001b[0m     flow: \u001b[39m\"\u001b[39m\u001b[39mOpenMLFlow\u001b[39m\u001b[39m\"\u001b[39m,\n\u001b[0;32m    285\u001b[0m     initialize_with_defaults: \u001b[39mbool\u001b[39m \u001b[39m=\u001b[39m \u001b[39mFalse\u001b[39;00m,\n\u001b[0;32m    286\u001b[0m     strict_version: \u001b[39mbool\u001b[39m \u001b[39m=\u001b[39m \u001b[39mTrue\u001b[39;00m,\n\u001b[0;32m    287\u001b[0m ) \u001b[39m-\u001b[39m\u001b[39m>\u001b[39m Any:\n\u001b[0;32m    288\u001b[0m     \u001b[39m\"\"\"Initializes a sklearn model based on a flow.\u001b[39;00m\n\u001b[0;32m    289\u001b[0m \n\u001b[0;32m    290\u001b[0m \u001b[39m    Parameters\u001b[39;00m\n\u001b[1;32m   (...)\u001b[0m\n\u001b[0;32m    305\u001b[0m \u001b[39m    mixed\u001b[39;00m\n\u001b[0;32m    306\u001b[0m \u001b[39m    \"\"\"\u001b[39;00m\n\u001b[1;32m--> 307\u001b[0m     \u001b[39mreturn\u001b[39;00m \u001b[39mself\u001b[39;49m\u001b[39m.\u001b[39;49m_deserialize_sklearn(\n\u001b[0;32m    308\u001b[0m         flow, initialize_with_defaults\u001b[39m=\u001b[39;49minitialize_with_defaults, strict_version\u001b[39m=\u001b[39;49mstrict_version\n\u001b[0;32m    309\u001b[0m     )\n",
      "File \u001b[1;32mc:\\Users\\tpham\\Desktop\\Arbeit\\openml-skactiveml\\openml-scikit-activeml\\openml_skactiveml\\extension.py:1203\u001b[0m, in \u001b[0;36mSkactivemlExtension._deserialize_sklearn\u001b[1;34m(self, o, components, initialize_with_defaults, recursion_depth, strict_version)\u001b[0m\n\u001b[0;32m   1201\u001b[0m     \u001b[39mif\u001b[39;00m \u001b[39mnot\u001b[39;00m \u001b[39mself\u001b[39m\u001b[39m.\u001b[39m_is_skactiveml_flow(o):\n\u001b[0;32m   1202\u001b[0m         \u001b[39mraise\u001b[39;00m \u001b[39mValueError\u001b[39;00m(\u001b[39m\"\u001b[39m\u001b[39mOnly sklearn flows can be reinstantiated\u001b[39m\u001b[39m\"\u001b[39m)\n\u001b[1;32m-> 1203\u001b[0m     rval \u001b[39m=\u001b[39m \u001b[39mself\u001b[39;49m\u001b[39m.\u001b[39;49m_deserialize_model(\n\u001b[0;32m   1204\u001b[0m         flow\u001b[39m=\u001b[39;49mo,\n\u001b[0;32m   1205\u001b[0m         keep_defaults\u001b[39m=\u001b[39;49minitialize_with_defaults,\n\u001b[0;32m   1206\u001b[0m         recursion_depth\u001b[39m=\u001b[39;49mrecursion_depth,\n\u001b[0;32m   1207\u001b[0m         strict_version\u001b[39m=\u001b[39;49mstrict_version,\n\u001b[0;32m   1208\u001b[0m     )\n\u001b[0;32m   1209\u001b[0m \u001b[39melse\u001b[39;00m:\n\u001b[0;32m   1210\u001b[0m     \u001b[39mraise\u001b[39;00m \u001b[39mTypeError\u001b[39;00m(o)\n",
      "File \u001b[1;32mc:\\Users\\tpham\\Desktop\\Arbeit\\openml-skactiveml\\openml-python-OpenMLActiveClassificationTask\\openml\\extensions\\sklearn\\extension.py:1170\u001b[0m, in \u001b[0;36mSklearnExtension._deserialize_model\u001b[1;34m(self, flow, keep_defaults, recursion_depth, strict_version)\u001b[0m\n\u001b[0;32m   1168\u001b[0m     value \u001b[39m=\u001b[39m parameters\u001b[39m.\u001b[39mget(name)\n\u001b[0;32m   1169\u001b[0m     logger\u001b[39m.\u001b[39minfo(\u001b[39m\"\u001b[39m\u001b[39m--\u001b[39m\u001b[39m%s\u001b[39;00m\u001b[39m flow_parameter=\u001b[39m\u001b[39m%s\u001b[39;00m\u001b[39m, value=\u001b[39m\u001b[39m%s\u001b[39;00m\u001b[39m\"\u001b[39m \u001b[39m%\u001b[39m (\u001b[39m\"\u001b[39m\u001b[39m-\u001b[39m\u001b[39m\"\u001b[39m \u001b[39m*\u001b[39m recursion_depth, name, value))\n\u001b[1;32m-> 1170\u001b[0m     rval \u001b[39m=\u001b[39m \u001b[39mself\u001b[39;49m\u001b[39m.\u001b[39;49m_deserialize_sklearn(\n\u001b[0;32m   1171\u001b[0m         value,\n\u001b[0;32m   1172\u001b[0m         components\u001b[39m=\u001b[39;49mcomponents_,\n\u001b[0;32m   1173\u001b[0m         initialize_with_defaults\u001b[39m=\u001b[39;49mkeep_defaults,\n\u001b[0;32m   1174\u001b[0m         recursion_depth\u001b[39m=\u001b[39;49mrecursion_depth \u001b[39m+\u001b[39;49m \u001b[39m1\u001b[39;49m,\n\u001b[0;32m   1175\u001b[0m         strict_version\u001b[39m=\u001b[39;49mstrict_version,\n\u001b[0;32m   1176\u001b[0m     )\n\u001b[0;32m   1177\u001b[0m     parameter_dict[name] \u001b[39m=\u001b[39m rval\n\u001b[0;32m   1179\u001b[0m \u001b[39mfor\u001b[39;00m name \u001b[39min\u001b[39;00m components:\n",
      "File \u001b[1;32mc:\\Users\\tpham\\Desktop\\Arbeit\\openml-skactiveml\\openml-scikit-activeml\\openml_skactiveml\\extension.py:1142\u001b[0m, in \u001b[0;36mSkactivemlExtension._deserialize_sklearn\u001b[1;34m(self, o, components, initialize_with_defaults, recursion_depth, strict_version)\u001b[0m\n\u001b[0;32m   1140\u001b[0m step_name \u001b[39m=\u001b[39m value[\u001b[39m\"\u001b[39m\u001b[39mstep_name\u001b[39m\u001b[39m\"\u001b[39m]\n\u001b[0;32m   1141\u001b[0m key \u001b[39m=\u001b[39m value[\u001b[39m\"\u001b[39m\u001b[39mkey\u001b[39m\u001b[39m\"\u001b[39m]\n\u001b[1;32m-> 1142\u001b[0m component \u001b[39m=\u001b[39m \u001b[39mself\u001b[39;49m\u001b[39m.\u001b[39;49m_deserialize_sklearn(\n\u001b[0;32m   1143\u001b[0m     components[key],\n\u001b[0;32m   1144\u001b[0m     initialize_with_defaults\u001b[39m=\u001b[39;49minitialize_with_defaults,\n\u001b[0;32m   1145\u001b[0m     recursion_depth\u001b[39m=\u001b[39;49mdepth_pp,\n\u001b[0;32m   1146\u001b[0m     strict_version\u001b[39m=\u001b[39;49mstrict_version,\n\u001b[0;32m   1147\u001b[0m )\n\u001b[0;32m   1148\u001b[0m \u001b[39m# The component is now added to where it should be used\u001b[39;00m\n\u001b[0;32m   1149\u001b[0m \u001b[39m# later. It should not be passed to the constructor of the\u001b[39;00m\n\u001b[0;32m   1150\u001b[0m \u001b[39m# main flow object.\u001b[39;00m\n\u001b[0;32m   1151\u001b[0m \u001b[39mdel\u001b[39;00m components[key]\n",
      "File \u001b[1;32mc:\\Users\\tpham\\Desktop\\Arbeit\\openml-skactiveml\\openml-scikit-activeml\\openml_skactiveml\\extension.py:1203\u001b[0m, in \u001b[0;36mSkactivemlExtension._deserialize_sklearn\u001b[1;34m(self, o, components, initialize_with_defaults, recursion_depth, strict_version)\u001b[0m\n\u001b[0;32m   1201\u001b[0m     \u001b[39mif\u001b[39;00m \u001b[39mnot\u001b[39;00m \u001b[39mself\u001b[39m\u001b[39m.\u001b[39m_is_skactiveml_flow(o):\n\u001b[0;32m   1202\u001b[0m         \u001b[39mraise\u001b[39;00m \u001b[39mValueError\u001b[39;00m(\u001b[39m\"\u001b[39m\u001b[39mOnly sklearn flows can be reinstantiated\u001b[39m\u001b[39m\"\u001b[39m)\n\u001b[1;32m-> 1203\u001b[0m     rval \u001b[39m=\u001b[39m \u001b[39mself\u001b[39;49m\u001b[39m.\u001b[39;49m_deserialize_model(\n\u001b[0;32m   1204\u001b[0m         flow\u001b[39m=\u001b[39;49mo,\n\u001b[0;32m   1205\u001b[0m         keep_defaults\u001b[39m=\u001b[39;49minitialize_with_defaults,\n\u001b[0;32m   1206\u001b[0m         recursion_depth\u001b[39m=\u001b[39;49mrecursion_depth,\n\u001b[0;32m   1207\u001b[0m         strict_version\u001b[39m=\u001b[39;49mstrict_version,\n\u001b[0;32m   1208\u001b[0m     )\n\u001b[0;32m   1209\u001b[0m \u001b[39melse\u001b[39;00m:\n\u001b[0;32m   1210\u001b[0m     \u001b[39mraise\u001b[39;00m \u001b[39mTypeError\u001b[39;00m(o)\n",
      "File \u001b[1;32mc:\\Users\\tpham\\Desktop\\Arbeit\\openml-skactiveml\\openml-python-OpenMLActiveClassificationTask\\openml\\extensions\\sklearn\\extension.py:1170\u001b[0m, in \u001b[0;36mSklearnExtension._deserialize_model\u001b[1;34m(self, flow, keep_defaults, recursion_depth, strict_version)\u001b[0m\n\u001b[0;32m   1168\u001b[0m     value \u001b[39m=\u001b[39m parameters\u001b[39m.\u001b[39mget(name)\n\u001b[0;32m   1169\u001b[0m     logger\u001b[39m.\u001b[39minfo(\u001b[39m\"\u001b[39m\u001b[39m--\u001b[39m\u001b[39m%s\u001b[39;00m\u001b[39m flow_parameter=\u001b[39m\u001b[39m%s\u001b[39;00m\u001b[39m, value=\u001b[39m\u001b[39m%s\u001b[39;00m\u001b[39m\"\u001b[39m \u001b[39m%\u001b[39m (\u001b[39m\"\u001b[39m\u001b[39m-\u001b[39m\u001b[39m\"\u001b[39m \u001b[39m*\u001b[39m recursion_depth, name, value))\n\u001b[1;32m-> 1170\u001b[0m     rval \u001b[39m=\u001b[39m \u001b[39mself\u001b[39;49m\u001b[39m.\u001b[39;49m_deserialize_sklearn(\n\u001b[0;32m   1171\u001b[0m         value,\n\u001b[0;32m   1172\u001b[0m         components\u001b[39m=\u001b[39;49mcomponents_,\n\u001b[0;32m   1173\u001b[0m         initialize_with_defaults\u001b[39m=\u001b[39;49mkeep_defaults,\n\u001b[0;32m   1174\u001b[0m         recursion_depth\u001b[39m=\u001b[39;49mrecursion_depth \u001b[39m+\u001b[39;49m \u001b[39m1\u001b[39;49m,\n\u001b[0;32m   1175\u001b[0m         strict_version\u001b[39m=\u001b[39;49mstrict_version,\n\u001b[0;32m   1176\u001b[0m     )\n\u001b[0;32m   1177\u001b[0m     parameter_dict[name] \u001b[39m=\u001b[39m rval\n\u001b[0;32m   1179\u001b[0m \u001b[39mfor\u001b[39;00m name \u001b[39min\u001b[39;00m components:\n",
      "File \u001b[1;32mc:\\Users\\tpham\\Desktop\\Arbeit\\openml-skactiveml\\openml-scikit-activeml\\openml_skactiveml\\extension.py:1142\u001b[0m, in \u001b[0;36mSkactivemlExtension._deserialize_sklearn\u001b[1;34m(self, o, components, initialize_with_defaults, recursion_depth, strict_version)\u001b[0m\n\u001b[0;32m   1140\u001b[0m step_name \u001b[39m=\u001b[39m value[\u001b[39m\"\u001b[39m\u001b[39mstep_name\u001b[39m\u001b[39m\"\u001b[39m]\n\u001b[0;32m   1141\u001b[0m key \u001b[39m=\u001b[39m value[\u001b[39m\"\u001b[39m\u001b[39mkey\u001b[39m\u001b[39m\"\u001b[39m]\n\u001b[1;32m-> 1142\u001b[0m component \u001b[39m=\u001b[39m \u001b[39mself\u001b[39;49m\u001b[39m.\u001b[39;49m_deserialize_sklearn(\n\u001b[0;32m   1143\u001b[0m     components[key],\n\u001b[0;32m   1144\u001b[0m     initialize_with_defaults\u001b[39m=\u001b[39;49minitialize_with_defaults,\n\u001b[0;32m   1145\u001b[0m     recursion_depth\u001b[39m=\u001b[39;49mdepth_pp,\n\u001b[0;32m   1146\u001b[0m     strict_version\u001b[39m=\u001b[39;49mstrict_version,\n\u001b[0;32m   1147\u001b[0m )\n\u001b[0;32m   1148\u001b[0m \u001b[39m# The component is now added to where it should be used\u001b[39;00m\n\u001b[0;32m   1149\u001b[0m \u001b[39m# later. It should not be passed to the constructor of the\u001b[39;00m\n\u001b[0;32m   1150\u001b[0m \u001b[39m# main flow object.\u001b[39;00m\n\u001b[0;32m   1151\u001b[0m \u001b[39mdel\u001b[39;00m components[key]\n",
      "File \u001b[1;32mc:\\Users\\tpham\\Desktop\\Arbeit\\openml-skactiveml\\openml-scikit-activeml\\openml_skactiveml\\extension.py:1202\u001b[0m, in \u001b[0;36mSkactivemlExtension._deserialize_sklearn\u001b[1;34m(self, o, components, initialize_with_defaults, recursion_depth, strict_version)\u001b[0m\n\u001b[0;32m   1200\u001b[0m \u001b[39melif\u001b[39;00m \u001b[39misinstance\u001b[39m(o, OpenMLFlow):\n\u001b[0;32m   1201\u001b[0m     \u001b[39mif\u001b[39;00m \u001b[39mnot\u001b[39;00m \u001b[39mself\u001b[39m\u001b[39m.\u001b[39m_is_skactiveml_flow(o):\n\u001b[1;32m-> 1202\u001b[0m         \u001b[39mraise\u001b[39;00m \u001b[39mValueError\u001b[39;00m(\u001b[39m\"\u001b[39m\u001b[39mOnly sklearn flows can be reinstantiated\u001b[39m\u001b[39m\"\u001b[39m)\n\u001b[0;32m   1203\u001b[0m     rval \u001b[39m=\u001b[39m \u001b[39mself\u001b[39m\u001b[39m.\u001b[39m_deserialize_model(\n\u001b[0;32m   1204\u001b[0m         flow\u001b[39m=\u001b[39mo,\n\u001b[0;32m   1205\u001b[0m         keep_defaults\u001b[39m=\u001b[39minitialize_with_defaults,\n\u001b[0;32m   1206\u001b[0m         recursion_depth\u001b[39m=\u001b[39mrecursion_depth,\n\u001b[0;32m   1207\u001b[0m         strict_version\u001b[39m=\u001b[39mstrict_version,\n\u001b[0;32m   1208\u001b[0m     )\n\u001b[0;32m   1209\u001b[0m \u001b[39melse\u001b[39;00m:\n",
      "\u001b[1;31mValueError\u001b[0m: Only sklearn flows can be reinstantiated"
     ]
    }
   ],
   "source": [
    "# using sklearn flows together with skactiveml flows does not work yet\n",
    "runs.run_flow_on_task(flows.get_flow(run.flow_id), task, avoid_duplicate_runs=False, upload_flow=False, n_jobs=-1)"
   ]
  }
 ],
 "metadata": {
  "interpreter": {
   "hash": "b1686965f4865d96dc103f8dbe26a21474def9bc9131d2b1aa2fd03680a1d89b"
  },
  "kernelspec": {
   "display_name": "Python 3.8.5 ('wsp')",
   "language": "python",
   "name": "python3"
  },
  "language_info": {
   "codemirror_mode": {
    "name": "ipython",
    "version": 3
   },
   "file_extension": ".py",
   "mimetype": "text/x-python",
   "name": "python",
   "nbconvert_exporter": "python",
   "pygments_lexer": "ipython3",
   "version": "3.9.16"
  },
  "orig_nbformat": 4
 },
 "nbformat": 4,
 "nbformat_minor": 2
}
