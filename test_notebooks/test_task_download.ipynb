{
 "cells": [
  {
   "cell_type": "code",
   "execution_count": 1,
   "metadata": {
    "collapsed": false
   },
   "outputs": [
    {
     "name": "stderr",
     "output_type": "stream",
     "text": [
      "c:\\Users\\tpham\\Desktop\\Arbeit\\openml-skactiveml\\openml-python-OpenMLActiveClassificationTask\\openml\\config.py:184: UserWarning: Switching to the test server https://test.openml.org/api/v1/xml to not upload results to the live server. Using the test server may result in reduced performance of the API!\n",
      "  warnings.warn(\n"
     ]
    }
   ],
   "source": [
    "%load_ext autoreload\n",
    "%autoreload 2\n",
    "\n",
    "import sys\n",
    "sys.path.extend([\n",
    "    'openml-python-OpenMLActiveClassificationTask/',\n",
    "    'openml-scikit-activeml/',\n",
    "    '../../openml-python-OpenMLActiveClassificationTask/',\n",
    "    '../../openml-scikit-activeml/',\n",
    "])\n",
    "\n",
    "from openml import config, tasks\n",
    "\n",
    "config.start_using_configuration_for_example()"
   ]
  },
  {
   "cell_type": "code",
   "execution_count": 2,
   "metadata": {
    "ExecuteTime": {
     "end_time": "2023-05-11T16:02:55.725548667Z",
     "start_time": "2023-05-11T16:02:55.680444864Z"
    }
   },
   "outputs": [
    {
     "data": {
      "text/plain": [
       "OpenML Active Classification Task\n",
       "=================================\n",
       "Task Type Description: https://test.openml.org/tt/TaskType.ACTIVE_CLASSIFICATION\n",
       "Task ID..............: 1561\n",
       "Task URL.............: https://test.openml.org/t/1561\n",
       "Estimation Procedure.: None\n",
       "Evaluation Measure...: predictive_accuracy\n",
       "Target Feature.......: class\n",
       "# of Classes.........: 2\n",
       "Cost Matrix..........: Available"
      ]
     },
     "execution_count": 2,
     "metadata": {},
     "output_type": "execute_result"
    }
   ],
   "source": [
    "task_id_clf = 119\n",
    "task_clf = tasks.get_task(task_id_clf)\n",
    "\n",
    "task_al = tasks.OpenMLActiveClassificationTask(\n",
    "    task_type_id=tasks.TaskType.ACTIVE_CLASSIFICATION,\n",
    "    task_type=\"ACTIVE_CLASSIFICATION\",\n",
    "    data_set_id=task_clf.dataset_id,\n",
    "    target_name=task_clf.target_name,\n",
    "    class_labels=task_clf.class_labels,\n",
    "    evaluation_measure=\"predictive_accuracy\",\n",
    "    estimation_procedure_id=30,\n",
    "    batch_size=1,\n",
    ")\n",
    "\n",
    "task_al.publish()"
   ]
  },
  {
   "cell_type": "code",
   "execution_count": 3,
   "metadata": {
    "ExecuteTime": {
     "end_time": "2023-05-11T16:02:57.235008099Z",
     "start_time": "2023-05-11T16:02:55.702005390Z"
    }
   },
   "outputs": [
    {
     "name": "stderr",
     "output_type": "stream",
     "text": [
      "c:\\Users\\tpham\\Desktop\\Arbeit\\openml-skactiveml\\openml-python-OpenMLActiveClassificationTask\\openml\\config.py:184: UserWarning: Switching to the test server https://test.openml.org/api/v1/xml to not upload results to the live server. Using the test server may result in reduced performance of the API!\n",
      "  warnings.warn(\n"
     ]
    }
   ],
   "source": [
    "# Hot fix if datasplit generation is broken for AL tasks.\n",
    "# from shutil import copyfile\n",
    "# task = tasks.get_task(task_al.id, download_data=False)\n",
    "# copyfile(\n",
    "#     f\"{config.cache_directory}/org/openml/test/tasks/{task_clf.id}/datasplits.arff\",\n",
    "#     f\"{config.cache_directory}/org/openml/test/tasks/{task_id.al}/datasplits.arff\"\n",
    "# )\n",
    "# copyfile(\n",
    "#     f\"{config.cache_directory}/org/openml/test/tasks/{task_clf.id}/datasplits.pkl.py3\",\n",
    "#     f\"{config.cache_directory}/org/openml/test/tasks/{task_al.id}/datasplits.pkl.py3\"\n",
    "# )"
   ]
  }
 ],
 "metadata": {
  "interpreter": {
   "hash": "b1686965f4865d96dc103f8dbe26a21474def9bc9131d2b1aa2fd03680a1d89b"
  },
  "kernelspec": {
   "display_name": "Python 3.8.5 ('wsp')",
   "language": "python",
   "name": "python3"
  },
  "language_info": {
   "codemirror_mode": {
    "name": "ipython",
    "version": 3
   },
   "file_extension": ".py",
   "mimetype": "text/x-python",
   "name": "python",
   "nbconvert_exporter": "python",
   "pygments_lexer": "ipython3",
   "version": "3.9.16"
  },
  "orig_nbformat": 4
 },
 "nbformat": 4,
 "nbformat_minor": 2
}
