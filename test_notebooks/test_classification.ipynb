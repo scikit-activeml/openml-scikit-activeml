{
 "cells": [
  {
   "cell_type": "code",
   "execution_count": 1,
   "metadata": {
    "ExecuteTime": {
     "end_time": "2023-08-16T14:43:19.840830271Z",
     "start_time": "2023-08-16T14:43:19.771171904Z"
    }
   },
   "outputs": [
    {
     "name": "stderr",
     "output_type": "stream",
     "text": [
      "c:\\Users\\tpham\\Desktop\\Arbeit\\openml-skactiveml\\openml-python-OpenMLActiveClassificationTask\\openml\\config.py:184: UserWarning: Switching to the test server https://test.openml.org/api/v1/xml to not upload results to the live server. Using the test server may result in reduced performance of the API!\n",
      "  warnings.warn(\n"
     ]
    }
   ],
   "source": [
    "%load_ext autoreload\n",
    "%autoreload 2\n",
    "import sys\n",
    "sys.path.extend([\n",
    "    'openml-python-OpenMLActiveClassificationTask/',\n",
    "    'openml-scikit-activeml/',\n",
    "    '../../openml-python-OpenMLActiveClassificationTask/',\n",
    "    '../../openml-scikit-activeml/',\n",
    "])\n",
    "import openml\n",
    "openml.config.start_using_configuration_for_example()\n",
    "\n",
    "from sklearn.tree import DecisionTreeClassifier\n",
    "from skactiveml.classifier import ParzenWindowClassifier\n",
    "from sklearn.ensemble import BaggingClassifier\n",
    "from sklearn.gaussian_process import GaussianProcessClassifier"
   ]
  },
  {
   "cell_type": "code",
   "execution_count": 2,
   "metadata": {
    "ExecuteTime": {
     "end_time": "2023-08-16T14:43:20.677395225Z",
     "start_time": "2023-08-16T14:43:20.065234706Z"
    }
   },
   "outputs": [
    {
     "data": {
      "text/plain": [
       "OpenML Run\n",
       "==========\n",
       "Uploader Name: None\n",
       "Metric.......: None\n",
       "Run ID.......: None\n",
       "Task ID......: 1196\n",
       "Task Type....: None\n",
       "Task URL.....: https://test.openml.org/t/1196\n",
       "Flow ID......: None\n",
       "Flow Name....: sklearn.ensemble._bagging.BaggingClassifier(estimator=sklearn.gaussian_process._gpc.GaussianProcessClassifier)\n",
       "Flow URL.....: https://test.openml.org/f/None\n",
       "Setup ID.....: None\n",
       "Setup String.: Python_3.9.16. Sklearn_1.2.2. NumPy_1.24.3. SciPy_1.9.3.\n",
       "Dataset ID...: 128\n",
       "Dataset URL..: https://test.openml.org/d/128"
      ]
     },
     "execution_count": 2,
     "metadata": {},
     "output_type": "execute_result"
    }
   ],
   "source": [
    "# Build any model you like\n",
    "# clf = ParzenWindowClassifier(class_prior=1, missing_label=None)\n",
    "# clf = ParzenWindowClassifier(class_prior=1, missing_label=None)\n",
    "# clf = BaggingClassifier(ParzenWindowClassifier(class_prior=1, missing_label=None))\n",
    "# clf = GaussianProcessClassifier()\n",
    "clf = BaggingClassifier(GaussianProcessClassifier())\n",
    "\n",
    "# Download any OpenML task (includes the datasets)\n",
    "task = openml.tasks.get_task(1196)\n",
    "\n",
    "# Automatically evaluate your model on the task\n",
    "run = openml.runs.run_model_on_task(clf, task)\n",
    "run"
   ]
  },
  {
   "cell_type": "code",
   "execution_count": 3,
   "metadata": {
    "ExecuteTime": {
     "end_time": "2023-08-16T14:43:21.097611265Z",
     "start_time": "2023-08-16T14:43:20.679585354Z"
    }
   },
   "outputs": [
    {
     "data": {
      "text/plain": [
       "OpenML Run\n",
       "==========\n",
       "Uploader Name: None\n",
       "Metric.......: None\n",
       "Run ID.......: 7\n",
       "Run URL......: https://test.openml.org/r/7\n",
       "Task ID......: 1196\n",
       "Task Type....: None\n",
       "Task URL.....: https://test.openml.org/t/1196\n",
       "Flow ID......: 24\n",
       "Flow Name....: sklearn.ensemble._bagging.BaggingClassifier(estimator=sklearn.gaussian_process._gpc.GaussianProcessClassifier)\n",
       "Flow URL.....: https://test.openml.org/f/24\n",
       "Setup ID.....: None\n",
       "Setup String.: Python_3.9.16. Sklearn_1.2.2. NumPy_1.24.3. SciPy_1.9.3.\n",
       "Dataset ID...: 128\n",
       "Dataset URL..: https://test.openml.org/d/128"
      ]
     },
     "execution_count": 3,
     "metadata": {},
     "output_type": "execute_result"
    }
   ],
   "source": [
    "# Share the results on OpenML.\n",
    "run.publish()"
   ]
  },
  {
   "cell_type": "code",
   "execution_count": 4,
   "metadata": {
    "ExecuteTime": {
     "end_time": "2023-08-16T14:44:27.053754916Z",
     "start_time": "2023-08-16T14:44:26.826476016Z"
    },
    "collapsed": false
   },
   "outputs": [
    {
     "name": "stdout",
     "output_type": "stream",
     "text": [
      "OpenML Run\n",
      "==========\n",
      "Uploader Name...: Test Test\n",
      "Uploader Profile: https://test.openml.org/u/3229\n",
      "Metric..........: None\n",
      "Run ID..........: 7\n",
      "Run URL.........: https://test.openml.org/r/7\n",
      "Task ID.........: 1196\n",
      "Task Type.......: Supervised Classification\n",
      "Task URL........: https://test.openml.org/t/1196\n",
      "Flow ID.........: 24\n",
      "Flow Name.......: sklearn.ensemble._bagging.BaggingClassifier(estimator=sklearn.gaussian_process._gpc.GaussianProcessClassifier)(1)\n",
      "Flow URL........: https://test.openml.org/f/24\n",
      "Setup ID........: 7\n",
      "Setup String....: Python_3.9.16. Sklearn_1.2.2. NumPy_1.24.3. SciPy_1.9.3.\n",
      "Dataset ID......: 128\n",
      "Dataset URL.....: https://test.openml.org/d/128\n"
     ]
    }
   ],
   "source": [
    "run = openml.runs.get_run(run.run_id, ignore_cache=True)\n",
    "print(run)"
   ]
  },
  {
   "cell_type": "code",
   "execution_count": 5,
   "metadata": {
    "ExecuteTime": {
     "end_time": "2023-08-16T14:45:09.749762221Z",
     "start_time": "2023-08-16T14:45:09.678597023Z"
    },
    "collapsed": false
   },
   "outputs": [
    {
     "data": {
      "text/plain": [
       "OrderedDict()"
      ]
     },
     "execution_count": 5,
     "metadata": {},
     "output_type": "execute_result"
    }
   ],
   "source": [
    "run.evaluations"
   ]
  },
  {
   "cell_type": "code",
   "execution_count": 6,
   "metadata": {
    "collapsed": false
   },
   "outputs": [
    {
     "data": {
      "text/plain": [
       "'c0c42819af31e706efe1f4b88c23c6c1'"
      ]
     },
     "execution_count": 6,
     "metadata": {},
     "output_type": "execute_result"
    }
   ],
   "source": [
    "openml.config.apikey"
   ]
  }
 ],
 "metadata": {
  "kernelspec": {
   "display_name": "scikitactiveml-openml",
   "language": "python",
   "name": "python3"
  },
  "language_info": {
   "codemirror_mode": {
    "name": "ipython",
    "version": 3
   },
   "file_extension": ".py",
   "mimetype": "text/x-python",
   "name": "python",
   "nbconvert_exporter": "python",
   "pygments_lexer": "ipython3",
   "version": "3.9.16"
  },
  "orig_nbformat": 4
 },
 "nbformat": 4,
 "nbformat_minor": 2
}
