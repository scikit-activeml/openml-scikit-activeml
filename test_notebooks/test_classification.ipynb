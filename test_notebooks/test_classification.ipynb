{
 "cells": [
  {
   "cell_type": "code",
   "execution_count": 1,
   "metadata": {
    "ExecuteTime": {
     "end_time": "2023-08-16T14:43:19.840830271Z",
     "start_time": "2023-08-16T14:43:19.771171904Z"
    }
   },
   "outputs": [
    {
     "name": "stderr",
     "output_type": "stream",
     "text": [
      "c:\\Users\\tpham\\Desktop\\Arbeit\\openml-skactiveml\\openml-python-OpenMLActiveClassificationTask\\openml\\config.py:184: UserWarning: Switching to the test server https://test.openml.org/api/v1/xml to not upload results to the live server. Using the test server may result in reduced performance of the API!\n",
      "  warnings.warn(\n"
     ]
    }
   ],
   "source": [
    "%load_ext autoreload\n",
    "%autoreload 2\n",
    "import sys\n",
    "sys.path.extend([\n",
    "    'openml-python-OpenMLActiveClassificationTask/',\n",
    "    'openml-scikit-activeml/',\n",
    "    '../../openml-python-OpenMLActiveClassificationTask/',\n",
    "    '../../openml-scikit-activeml/',\n",
    "])\n",
    "import openml\n",
    "openml.config.start_using_configuration_for_example()\n",
    "\n",
    "from sklearn.tree import DecisionTreeClassifier\n",
    "from skactiveml.classifier import ParzenWindowClassifier\n",
    "from sklearn.ensemble import BaggingClassifier\n",
    "from sklearn.gaussian_process import GaussianProcessClassifier"
   ]
  },
  {
   "cell_type": "code",
   "execution_count": 2,
   "metadata": {
    "ExecuteTime": {
     "end_time": "2023-08-16T14:43:20.677395225Z",
     "start_time": "2023-08-16T14:43:20.065234706Z"
    }
   },
   "outputs": [
    {
     "data": {
      "text/plain": [
       "OpenML Run\n",
       "==========\n",
       "Uploader Name: None\n",
       "Metric.......: None\n",
       "Run ID.......: None\n",
       "Task ID......: 1196\n",
       "Task Type....: None\n",
       "Task URL.....: https://test.openml.org/t/1196\n",
       "Flow ID......: 24\n",
       "Flow Name....: sklearn.ensemble._bagging.BaggingClassifier(estimator=sklearn.gaussian_process._gpc.GaussianProcessClassifier)\n",
       "Flow URL.....: https://test.openml.org/f/24\n",
       "Setup ID.....: None\n",
       "Setup String.: Python_3.9.16. Sklearn_1.2.2. NumPy_1.24.3. SciPy_1.9.3.\n",
       "Dataset ID...: 128\n",
       "Dataset URL..: https://test.openml.org/d/128"
      ]
     },
     "execution_count": 2,
     "metadata": {},
     "output_type": "execute_result"
    }
   ],
   "source": [
    "# Build any model you like\n",
    "# clf = ParzenWindowClassifier(class_prior=1, missing_label=None)\n",
    "# clf = ParzenWindowClassifier(class_prior=1, missing_label=None)\n",
    "# clf = BaggingClassifier(ParzenWindowClassifier(class_prior=1, missing_label=None))\n",
    "# clf = GaussianProcessClassifier()\n",
    "clf = BaggingClassifier(GaussianProcessClassifier())\n",
    "\n",
    "# Download any OpenML task (includes the datasets)\n",
    "task = openml.tasks.get_task(1196)\n",
    "\n",
    "# Automatically evaluate your model on the task\n",
    "run = openml.runs.run_model_on_task(clf, task)\n",
    "run"
   ]
  },
  {
   "cell_type": "code",
   "execution_count": 3,
   "metadata": {
    "ExecuteTime": {
     "end_time": "2023-08-16T14:43:21.097611265Z",
     "start_time": "2023-08-16T14:43:20.679585354Z"
    }
   },
   "outputs": [
    {
     "data": {
      "text/plain": [
       "OpenML Run\n",
       "==========\n",
       "Uploader Name: None\n",
       "Metric.......: None\n",
       "Run ID.......: 7\n",
       "Run URL......: https://test.openml.org/r/7\n",
       "Task ID......: 1196\n",
       "Task Type....: None\n",
       "Task URL.....: https://test.openml.org/t/1196\n",
       "Flow ID......: 24\n",
       "Flow Name....: sklearn.ensemble._bagging.BaggingClassifier(estimator=sklearn.gaussian_process._gpc.GaussianProcessClassifier)\n",
       "Flow URL.....: https://test.openml.org/f/24\n",
       "Setup ID.....: None\n",
       "Setup String.: Python_3.9.16. Sklearn_1.2.2. NumPy_1.24.3. SciPy_1.9.3.\n",
       "Dataset ID...: 128\n",
       "Dataset URL..: https://test.openml.org/d/128"
      ]
     },
     "execution_count": 3,
     "metadata": {},
     "output_type": "execute_result"
    }
   ],
   "source": [
    "# Share the results on OpenML.\n",
    "run.publish()"
   ]
  },
  {
   "cell_type": "code",
   "execution_count": 3,
   "metadata": {
    "ExecuteTime": {
     "end_time": "2023-08-16T14:44:27.053754916Z",
     "start_time": "2023-08-16T14:44:26.826476016Z"
    },
    "collapsed": false
   },
   "outputs": [
    {
     "ename": "TypeError",
     "evalue": "%d format: a number is required, not NoneType",
     "output_type": "error",
     "traceback": [
      "\u001b[1;31m---------------------------------------------------------------------------\u001b[0m",
      "\u001b[1;31mOpenMLCacheException\u001b[0m                      Traceback (most recent call last)",
      "File \u001b[1;32mc:\\Users\\tpham\\Desktop\\Arbeit\\openml-skactiveml\\openml-python-OpenMLActiveClassificationTask\\openml\\runs\\functions.py:786\u001b[0m, in \u001b[0;36mget_run\u001b[1;34m(run_id, ignore_cache)\u001b[0m\n\u001b[0;32m    785\u001b[0m     \u001b[39melse\u001b[39;00m:\n\u001b[1;32m--> 786\u001b[0m         \u001b[39mraise\u001b[39;00m OpenMLCacheException(message\u001b[39m=\u001b[39m\u001b[39m\"\u001b[39m\u001b[39mdummy\u001b[39m\u001b[39m\"\u001b[39m)\n\u001b[0;32m    788\u001b[0m \u001b[39mexcept\u001b[39;00m OpenMLCacheException:\n",
      "\u001b[1;31mOpenMLCacheException\u001b[0m: dummy",
      "\nDuring handling of the above exception, another exception occurred:\n",
      "\u001b[1;31mTypeError\u001b[0m                                 Traceback (most recent call last)",
      "\u001b[1;32mc:\\Users\\tpham\\Desktop\\Arbeit\\openml-skactiveml\\openml-scikit-activeml\\test_notebooks\\test_classification.ipynb Cell 4\u001b[0m line \u001b[0;36m1\n\u001b[1;32m----> <a href='vscode-notebook-cell:/c%3A/Users/tpham/Desktop/Arbeit/openml-skactiveml/openml-scikit-activeml/test_notebooks/test_classification.ipynb#W3sZmlsZQ%3D%3D?line=0'>1</a>\u001b[0m run \u001b[39m=\u001b[39m openml\u001b[39m.\u001b[39;49mruns\u001b[39m.\u001b[39;49mget_run(run\u001b[39m.\u001b[39;49mrun_id, ignore_cache\u001b[39m=\u001b[39;49m\u001b[39mTrue\u001b[39;49;00m)\n\u001b[0;32m      <a href='vscode-notebook-cell:/c%3A/Users/tpham/Desktop/Arbeit/openml-skactiveml/openml-scikit-activeml/test_notebooks/test_classification.ipynb#W3sZmlsZQ%3D%3D?line=1'>2</a>\u001b[0m \u001b[39mprint\u001b[39m(run)\n",
      "File \u001b[1;32mc:\\Users\\tpham\\Desktop\\Arbeit\\openml-skactiveml\\openml-python-OpenMLActiveClassificationTask\\openml\\runs\\functions.py:789\u001b[0m, in \u001b[0;36mget_run\u001b[1;34m(run_id, ignore_cache)\u001b[0m\n\u001b[0;32m    786\u001b[0m         \u001b[39mraise\u001b[39;00m OpenMLCacheException(message\u001b[39m=\u001b[39m\u001b[39m\"\u001b[39m\u001b[39mdummy\u001b[39m\u001b[39m\"\u001b[39m)\n\u001b[0;32m    788\u001b[0m \u001b[39mexcept\u001b[39;00m OpenMLCacheException:\n\u001b[1;32m--> 789\u001b[0m     run_xml \u001b[39m=\u001b[39m openml\u001b[39m.\u001b[39m_api_calls\u001b[39m.\u001b[39m_perform_api_call(\u001b[39m\"\u001b[39;49m\u001b[39mrun/\u001b[39;49m\u001b[39m%d\u001b[39;49;00m\u001b[39m\"\u001b[39;49m \u001b[39m%\u001b[39;49m run_id, \u001b[39m\"\u001b[39m\u001b[39mget\u001b[39m\u001b[39m\"\u001b[39m)\n\u001b[0;32m    790\u001b[0m     \u001b[39mwith\u001b[39;00m io\u001b[39m.\u001b[39mopen(run_file, \u001b[39m\"\u001b[39m\u001b[39mw\u001b[39m\u001b[39m\"\u001b[39m, encoding\u001b[39m=\u001b[39m\u001b[39m\"\u001b[39m\u001b[39mutf8\u001b[39m\u001b[39m\"\u001b[39m) \u001b[39mas\u001b[39;00m fh:\n\u001b[0;32m    791\u001b[0m         fh\u001b[39m.\u001b[39mwrite(run_xml)\n",
      "\u001b[1;31mTypeError\u001b[0m: %d format: a number is required, not NoneType"
     ]
    }
   ],
   "source": [
    "run = openml.runs.get_run(run.run_id, ignore_cache=True)\n",
    "print(run)"
   ]
  },
  {
   "cell_type": "code",
   "execution_count": 5,
   "metadata": {
    "ExecuteTime": {
     "end_time": "2023-08-16T14:45:09.749762221Z",
     "start_time": "2023-08-16T14:45:09.678597023Z"
    },
    "collapsed": false
   },
   "outputs": [
    {
     "data": {
      "text/plain": [
       "OrderedDict()"
      ]
     },
     "execution_count": 5,
     "metadata": {},
     "output_type": "execute_result"
    }
   ],
   "source": [
    "run.evaluations"
   ]
  },
  {
   "cell_type": "code",
   "execution_count": 6,
   "metadata": {
    "collapsed": false
   },
   "outputs": [
    {
     "data": {
      "text/plain": [
       "'c0c42819af31e706efe1f4b88c23c6c1'"
      ]
     },
     "execution_count": 6,
     "metadata": {},
     "output_type": "execute_result"
    }
   ],
   "source": [
    "openml.config.apikey"
   ]
  }
 ],
 "metadata": {
  "kernelspec": {
   "display_name": "scikitactiveml-openml",
   "language": "python",
   "name": "python3"
  },
  "language_info": {
   "codemirror_mode": {
    "name": "ipython",
    "version": 3
   },
   "file_extension": ".py",
   "mimetype": "text/x-python",
   "name": "python",
   "nbconvert_exporter": "python",
   "pygments_lexer": "ipython3",
   "version": "3.9.16"
  },
  "orig_nbformat": 4
 },
 "nbformat": 4,
 "nbformat_minor": 2
}
