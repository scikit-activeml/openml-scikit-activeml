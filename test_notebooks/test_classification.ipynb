{
 "cells": [
  {
   "cell_type": "code",
   "execution_count": 1,
   "metadata": {},
   "outputs": [],
   "source": [
    "%load_ext autoreload\n",
    "%autoreload 2\n",
    "import sys\n",
    "sys.path.extend([\n",
    "    'openml-python-OpenMLActiveClassificationTask/',\n",
    "    'openml-scikit-activeml/'\n",
    "])"
   ]
  },
  {
   "cell_type": "code",
   "execution_count": 2,
   "metadata": {},
   "outputs": [
    {
     "name": "stderr",
     "output_type": "stream",
     "text": [
      "c:\\Users\\tpham\\Desktop\\Arbeit\\openml-skactiveml\\openml-python-OpenMLActiveClassificationTask\\openml\\config.py:184: UserWarning: Switching to the test server https://test.openml.org/api/v1/xml to not upload results to the live server. Using the test server may result in reduced performance of the API!\n",
      "  warnings.warn(\n"
     ]
    }
   ],
   "source": [
    "from sklearn import ensemble\n",
    "import openml\n",
    "from openml import tasks, runs\n",
    "from skactiveml.classifier import ParzenWindowClassifier\n",
    "from sklearn.linear_model import LogisticRegression\n",
    "openml.config.start_using_configuration_for_example()"
   ]
  },
  {
   "cell_type": "code",
   "execution_count": 3,
   "metadata": {},
   "outputs": [],
   "source": [
    "import openml\n",
    "from openml import tasks, runs\n",
    "from sklearn.tree import DecisionTreeClassifier\n",
    "openml.config.start_using_configuration_for_example()\n",
    "\n",
    "# Build any model you like\n",
    "clf = DecisionTreeClassifier()\n",
    "\n",
    "# Download any OpenML task (includes the datasets)\n",
    "# task = tasks.get_task(1196)\n",
    "task = tasks.get_task(803)\n",
    "\n",
    "# Automatically evaluate your model on the task\n",
    "run = runs.run_model_on_task(clf, task)"
   ]
  },
  {
   "cell_type": "code",
   "execution_count": 4,
   "metadata": {},
   "outputs": [
    {
     "data": {
      "text/plain": [
       "OpenML Run\n",
       "==========\n",
       "Uploader Name: None\n",
       "Metric.......: None\n",
       "Run ID.......: None\n",
       "Task ID......: 1196\n",
       "Task Type....: None\n",
       "Task URL.....: https://test.openml.org/t/1196\n",
       "Flow ID......: 1398\n",
       "Flow Name....: sklearn.tree._classes.DecisionTreeClassifier\n",
       "Flow URL.....: https://test.openml.org/f/1398\n",
       "Setup ID.....: None\n",
       "Setup String.: Python_3.9.16. Sklearn_1.2.2. NumPy_1.24.3. SciPy_1.9.3.\n",
       "Dataset ID...: 128\n",
       "Dataset URL..: https://test.openml.org/d/128"
      ]
     },
     "execution_count": 4,
     "metadata": {},
     "output_type": "execute_result"
    }
   ],
   "source": [
    "run"
   ]
  },
  {
   "cell_type": "code",
   "execution_count": 5,
   "metadata": {},
   "outputs": [
    {
     "data": {
      "text/plain": [
       "OpenML Run\n",
       "==========\n",
       "Uploader Name: None\n",
       "Metric.......: None\n",
       "Run ID.......: 505\n",
       "Run URL......: https://test.openml.org/r/505\n",
       "Task ID......: 1196\n",
       "Task Type....: None\n",
       "Task URL.....: https://test.openml.org/t/1196\n",
       "Flow ID......: 1398\n",
       "Flow Name....: sklearn.tree._classes.DecisionTreeClassifier\n",
       "Flow URL.....: https://test.openml.org/f/1398\n",
       "Setup ID.....: None\n",
       "Setup String.: Python_3.9.16. Sklearn_1.2.2. NumPy_1.24.3. SciPy_1.9.3.\n",
       "Dataset ID...: 128\n",
       "Dataset URL..: https://test.openml.org/d/128"
      ]
     },
     "execution_count": 5,
     "metadata": {},
     "output_type": "execute_result"
    }
   ],
   "source": [
    "# Share the results on OpenML.\n",
    "run.publish()"
   ]
  },
  {
   "cell_type": "code",
   "execution_count": null,
   "metadata": {},
   "outputs": [],
   "source": []
  }
 ],
 "metadata": {
  "kernelspec": {
   "display_name": "scikitactiveml-openml",
   "language": "python",
   "name": "python3"
  },
  "language_info": {
   "codemirror_mode": {
    "name": "ipython",
    "version": 3
   },
   "file_extension": ".py",
   "mimetype": "text/x-python",
   "name": "python",
   "nbconvert_exporter": "python",
   "pygments_lexer": "ipython3",
   "version": "3.9.16"
  },
  "orig_nbformat": 4
 },
 "nbformat": 4,
 "nbformat_minor": 2
}
