{
 "cells": [
  {
   "cell_type": "code",
   "execution_count": 15,
   "metadata": {
    "ExecuteTime": {
     "end_time": "2023-08-16T14:43:19.840830271Z",
     "start_time": "2023-08-16T14:43:19.771171904Z"
    }
   },
   "outputs": [
    {
     "name": "stdout",
     "output_type": "stream",
     "text": [
      "The autoreload extension is already loaded. To reload it, use:\n",
      "  %reload_ext autoreload\n"
     ]
    }
   ],
   "source": [
    "%load_ext autoreload\n",
    "%autoreload 2\n",
    "import sys\n",
    "sys.path.extend([\n",
    "    'openml-python-OpenMLActiveClassificationTask/',\n",
    "    'openml-scikit-activeml/',\n",
    "    '../../openml-python-OpenMLActiveClassificationTask/',\n",
    "    '../../openml-scikit-activeml/',\n",
    "])\n",
    "import openml\n",
    "openml.config.start_using_configuration_for_example()\n",
    "\n",
    "from sklearn.tree import DecisionTreeClassifier"
   ]
  },
  {
   "cell_type": "code",
   "execution_count": 16,
   "metadata": {
    "ExecuteTime": {
     "end_time": "2023-08-16T14:43:20.677395225Z",
     "start_time": "2023-08-16T14:43:20.065234706Z"
    }
   },
   "outputs": [
    {
     "data": {
      "text/plain": "OpenML Run\n==========\nUploader Name: None\nMetric.......: None\nRun ID.......: None\nTask ID......: 1196\nTask Type....: None\nTask URL.....: https://test.openml.org/t/1196\nFlow ID......: 1398\nFlow Name....: sklearn.tree._classes.DecisionTreeClassifier\nFlow URL.....: https://test.openml.org/f/1398\nSetup ID.....: None\nSetup String.: Python_3.9.16. Sklearn_1.2.2. NumPy_1.24.2. SciPy_1.9.3.\nDataset ID...: 128\nDataset URL..: https://test.openml.org/d/128"
     },
     "execution_count": 16,
     "metadata": {},
     "output_type": "execute_result"
    }
   ],
   "source": [
    "# Build any model you like\n",
    "clf = DecisionTreeClassifier()\n",
    "\n",
    "# Download any OpenML task (includes the datasets)\n",
    "task = openml.tasks.get_task(1196)\n",
    "\n",
    "# Automatically evaluate your model on the task\n",
    "run = openml.runs.run_model_on_task(clf, task)\n",
    "run"
   ]
  },
  {
   "cell_type": "code",
   "execution_count": 17,
   "metadata": {
    "ExecuteTime": {
     "end_time": "2023-08-16T14:43:21.097611265Z",
     "start_time": "2023-08-16T14:43:20.679585354Z"
    }
   },
   "outputs": [
    {
     "data": {
      "text/plain": "OpenML Run\n==========\nUploader Name: None\nMetric.......: None\nRun ID.......: 1284\nRun URL......: https://test.openml.org/r/1284\nTask ID......: 1196\nTask Type....: None\nTask URL.....: https://test.openml.org/t/1196\nFlow ID......: 1398\nFlow Name....: sklearn.tree._classes.DecisionTreeClassifier\nFlow URL.....: https://test.openml.org/f/1398\nSetup ID.....: None\nSetup String.: Python_3.9.16. Sklearn_1.2.2. NumPy_1.24.2. SciPy_1.9.3.\nDataset ID...: 128\nDataset URL..: https://test.openml.org/d/128"
     },
     "execution_count": 17,
     "metadata": {},
     "output_type": "execute_result"
    }
   ],
   "source": [
    "# Share the results on OpenML.\n",
    "run.publish()"
   ]
  },
  {
   "cell_type": "code",
   "execution_count": 22,
   "outputs": [
    {
     "name": "stdout",
     "output_type": "stream",
     "text": [
      "OpenML Run\n",
      "==========\n",
      "Uploader Name...: Test Test\n",
      "Uploader Profile: https://test.openml.org/u/3229\n",
      "Metric..........: None\n",
      "Run ID..........: 1284\n",
      "Run URL.........: https://test.openml.org/r/1284\n",
      "Task ID.........: 1196\n",
      "Task Type.......: Supervised Classification\n",
      "Task URL........: https://test.openml.org/t/1196\n",
      "Flow ID.........: 1398\n",
      "Flow Name.......: sklearn.tree._classes.DecisionTreeClassifier(6)\n",
      "Flow URL........: https://test.openml.org/f/1398\n",
      "Setup ID........: 1032\n",
      "Setup String....: Python_3.9.16. Sklearn_1.2.2. NumPy_1.24.2. SciPy_1.9.3.\n",
      "Dataset ID......: 128\n",
      "Dataset URL.....: https://test.openml.org/d/128\n"
     ]
    }
   ],
   "source": [
    "run = openml.runs.get_run(run.run_id, ignore_cache=True)\n",
    "print(run)"
   ],
   "metadata": {
    "collapsed": false,
    "ExecuteTime": {
     "end_time": "2023-08-16T14:44:27.053754916Z",
     "start_time": "2023-08-16T14:44:26.826476016Z"
    }
   }
  },
  {
   "cell_type": "code",
   "execution_count": 24,
   "outputs": [
    {
     "data": {
      "text/plain": "OrderedDict([('area_under_roc_curve', 0.965),\n             ('average_cost', 0.0),\n             ('f_measure', 0.9533286661999534),\n             ('kappa', 0.93),\n             ('kb_relative_information_score', 0.9361100551666679),\n             ('mean_absolute_error', 0.031111111111111107),\n             ('mean_prior_absolute_error', 0.44444444444444337),\n             ('weighted_recall', 0.9533333333333334),\n             ('number_of_instances', 150.0),\n             ('precision', 0.9534480458850206),\n             ('predictive_accuracy', 0.9533333333333333),\n             ('prior_entropy', 1.5849625007211599),\n             ('relative_absolute_error', 0.07000000000000016),\n             ('root_mean_prior_squared_error', 0.4714045207910311),\n             ('root_mean_squared_error', 0.17638342073763935),\n             ('root_relative_squared_error', 0.3741657386773946),\n             ('total_cost', 0.0),\n             ('unweighted_recall', 0.9533333333333333)])"
     },
     "execution_count": 24,
     "metadata": {},
     "output_type": "execute_result"
    }
   ],
   "source": [
    "run.evaluations"
   ],
   "metadata": {
    "collapsed": false,
    "ExecuteTime": {
     "end_time": "2023-08-16T14:45:09.749762221Z",
     "start_time": "2023-08-16T14:45:09.678597023Z"
    }
   }
  },
  {
   "cell_type": "code",
   "execution_count": null,
   "outputs": [],
   "source": [],
   "metadata": {
    "collapsed": false
   }
  }
 ],
 "metadata": {
  "kernelspec": {
   "display_name": "scikitactiveml-openml",
   "language": "python",
   "name": "python3"
  },
  "language_info": {
   "codemirror_mode": {
    "name": "ipython",
    "version": 3
   },
   "file_extension": ".py",
   "mimetype": "text/x-python",
   "name": "python",
   "nbconvert_exporter": "python",
   "pygments_lexer": "ipython3",
   "version": "3.9.16"
  },
  "orig_nbformat": 4
 },
 "nbformat": 4,
 "nbformat_minor": 2
}
